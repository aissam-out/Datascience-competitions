{
  "nbformat": 4,
  "nbformat_minor": 0,
  "metadata": {
    "colab": {
      "name": "financial_inclusion.ipynb",
      "provenance": [],
      "collapsed_sections": [],
      "include_colab_link": true
    },
    "kernelspec": {
      "name": "python3",
      "display_name": "Python 3"
    },
    "accelerator": "GPU"
  },
  "cells": [
    {
      "cell_type": "markdown",
      "metadata": {
        "id": "view-in-github",
        "colab_type": "text"
      },
      "source": [
        "<a href=\"https://colab.research.google.com/github/aissam-out/Financial-Inclusion-in-Africa/blob/master/financial_inclusion.ipynb\" target=\"_parent\"><img src=\"https://colab.research.google.com/assets/colab-badge.svg\" alt=\"Open In Colab\"/></a>"
      ]
    },
    {
      "cell_type": "markdown",
      "metadata": {
        "id": "GU7APVai8byC",
        "colab_type": "text"
      },
      "source": [
        "# Import Resources"
      ]
    },
    {
      "cell_type": "code",
      "metadata": {
        "id": "T02NXf40O5Vs",
        "colab_type": "code",
        "colab": {}
      },
      "source": [
        "import warnings\n",
        "import numpy as np\n",
        "import pandas as pd \n",
        "import seaborn as sns\n",
        "import xgboost as xgb\n",
        "import matplotlib.pyplot as plt\n",
        "from sklearn import preprocessing\n",
        "from sklearn.utils import shuffle\n",
        "from sklearn.metrics import log_loss, accuracy_score\n",
        "from sklearn.model_selection import train_test_split, GridSearchCV, RandomizedSearchCV, StratifiedKFold\n",
        "%matplotlib inline"
      ],
      "execution_count": 0,
      "outputs": []
    },
    {
      "cell_type": "code",
      "metadata": {
        "id": "JzWNG3XKPnxF",
        "colab_type": "code",
        "colab": {}
      },
      "source": [
        "# Code to read csv file into Colaboratory:\n",
        "!pip install -U -q PyDrive #if needed\n",
        "from pydrive.auth import GoogleAuth\n",
        "from pydrive.drive import GoogleDrive\n",
        "from google.colab import auth\n",
        "from oauth2client.client import GoogleCredentials\n",
        "# Authenticate and create the PyDrive client.\n",
        "auth.authenticate_user()\n",
        "gauth = GoogleAuth()\n",
        "gauth.credentials = GoogleCredentials.get_application_default()\n",
        "drive = GoogleDrive(gauth)"
      ],
      "execution_count": 0,
      "outputs": []
    },
    {
      "cell_type": "code",
      "metadata": {
        "id": "THv9MR4yPxT7",
        "colab_type": "code",
        "colab": {}
      },
      "source": [
        "# Train data\n",
        "downloaded_train = drive.CreateFile({'id':'****************'}) \n",
        "downloaded_train.GetContentFile('Train_v2.csv')\n",
        "\n",
        "# Test data\n",
        "downloaded_train = drive.CreateFile({'id':'****************'}) \n",
        "downloaded_train.GetContentFile('Test_v2.csv')\n",
        "\n",
        "# Submission file\n",
        "downloaded_train = drive.CreateFile({'id':'*****************'}) \n",
        "downloaded_train.GetContentFile('SubmissionFile.csv')\n",
        "\n",
        "# Variable definitions\n",
        "downloaded_train = drive.CreateFile({'id':'******************'}) \n",
        "downloaded_train.GetContentFile('VariableDefinitions.csv')\n",
        "\n",
        "# loading the dataset\n",
        "df_train = pd.read_csv(\"Train_v2.csv\")\n",
        "df_test = pd.read_csv(\"Test_v2.csv\")\n",
        "submission_file = pd.read_csv(\"SubmissionFile.csv\")\n",
        "variables = pd.read_csv(\"VariableDefinitions.csv\")"
      ],
      "execution_count": 0,
      "outputs": []
    },
    {
      "cell_type": "code",
      "metadata": {
        "id": "Eln_CUC081ba",
        "colab_type": "code",
        "colab": {}
      },
      "source": [
        "data = df_train.copy()\n",
        "test = df_test.copy()"
      ],
      "execution_count": 0,
      "outputs": []
    },
    {
      "cell_type": "markdown",
      "metadata": {
        "id": "mdFG94Er9r4C",
        "colab_type": "text"
      },
      "source": [
        "# Engineering"
      ]
    },
    {
      "cell_type": "code",
      "metadata": {
        "id": "lPjSqZHqtfXA",
        "colab_type": "code",
        "outputId": "f3f07163-d964-45ff-ac6a-14c04553658b",
        "colab": {
          "base_uri": "https://localhost:8080/",
          "height": 116
        }
      },
      "source": [
        "data.head(1)"
      ],
      "execution_count": 0,
      "outputs": [
        {
          "output_type": "execute_result",
          "data": {
            "text/html": [
              "<div>\n",
              "<style scoped>\n",
              "    .dataframe tbody tr th:only-of-type {\n",
              "        vertical-align: middle;\n",
              "    }\n",
              "\n",
              "    .dataframe tbody tr th {\n",
              "        vertical-align: top;\n",
              "    }\n",
              "\n",
              "    .dataframe thead th {\n",
              "        text-align: right;\n",
              "    }\n",
              "</style>\n",
              "<table border=\"1\" class=\"dataframe\">\n",
              "  <thead>\n",
              "    <tr style=\"text-align: right;\">\n",
              "      <th></th>\n",
              "      <th>country</th>\n",
              "      <th>year</th>\n",
              "      <th>uniqueid</th>\n",
              "      <th>bank_account</th>\n",
              "      <th>location_type</th>\n",
              "      <th>cellphone_access</th>\n",
              "      <th>household_size</th>\n",
              "      <th>age_of_respondent</th>\n",
              "      <th>gender_of_respondent</th>\n",
              "      <th>relationship_with_head</th>\n",
              "      <th>marital_status</th>\n",
              "      <th>education_level</th>\n",
              "      <th>job_type</th>\n",
              "    </tr>\n",
              "  </thead>\n",
              "  <tbody>\n",
              "    <tr>\n",
              "      <th>0</th>\n",
              "      <td>Kenya</td>\n",
              "      <td>2018</td>\n",
              "      <td>uniqueid_1</td>\n",
              "      <td>Yes</td>\n",
              "      <td>Rural</td>\n",
              "      <td>Yes</td>\n",
              "      <td>3</td>\n",
              "      <td>24</td>\n",
              "      <td>Female</td>\n",
              "      <td>Spouse</td>\n",
              "      <td>Married/Living together</td>\n",
              "      <td>Secondary education</td>\n",
              "      <td>Self employed</td>\n",
              "    </tr>\n",
              "  </tbody>\n",
              "</table>\n",
              "</div>"
            ],
            "text/plain": [
              "  country  year  ...      education_level       job_type\n",
              "0   Kenya  2018  ...  Secondary education  Self employed\n",
              "\n",
              "[1 rows x 13 columns]"
            ]
          },
          "metadata": {
            "tags": []
          },
          "execution_count": 5
        }
      ]
    },
    {
      "cell_type": "code",
      "metadata": {
        "id": "Tek6ZOpAtrz9",
        "colab_type": "code",
        "outputId": "87a80168-207a-409b-fbb0-0a5e24314c0b",
        "colab": {
          "base_uri": "https://localhost:8080/",
          "height": 346
        }
      },
      "source": [
        "print(data.info())"
      ],
      "execution_count": 0,
      "outputs": [
        {
          "output_type": "stream",
          "text": [
            "<class 'pandas.core.frame.DataFrame'>\n",
            "RangeIndex: 23524 entries, 0 to 23523\n",
            "Data columns (total 13 columns):\n",
            "country                   23524 non-null object\n",
            "year                      23524 non-null int64\n",
            "uniqueid                  23524 non-null object\n",
            "bank_account              23524 non-null object\n",
            "location_type             23524 non-null object\n",
            "cellphone_access          23524 non-null object\n",
            "household_size            23524 non-null int64\n",
            "age_of_respondent         23524 non-null int64\n",
            "gender_of_respondent      23524 non-null object\n",
            "relationship_with_head    23524 non-null object\n",
            "marital_status            23524 non-null object\n",
            "education_level           23524 non-null object\n",
            "job_type                  23524 non-null object\n",
            "dtypes: int64(3), object(10)\n",
            "memory usage: 2.3+ MB\n",
            "None\n"
          ],
          "name": "stdout"
        }
      ]
    },
    {
      "cell_type": "code",
      "metadata": {
        "id": "sig0ZSZQPm1i",
        "colab_type": "code",
        "colab": {}
      },
      "source": [
        "def prepare_data():\n",
        "  d = data.copy()\n",
        "  \n",
        "  d['bank_account'] = d['bank_account'].replace({'No':0, 'Yes':1})\n",
        "  \n",
        "  d = pd.get_dummies(d, columns=['country', 'location_type', 'cellphone_access', 'gender_of_respondent', \n",
        "                                 'relationship_with_head', 'marital_status', 'education_level', 'job_type'])\n",
        "  d = d.drop(\"uniqueid\", axis=1)\n",
        "  \n",
        "  # we can determine what 'year' it is by knowing the 'country'\n",
        "  d = d.drop(\"year\", axis=1)\n",
        "  \n",
        "  # we have a skewed distribution for this variable. Lets try to make it look like a bit more Gaussian by applying log base 10\n",
        "  d.age_of_respondent = d.age_of_respondent.apply(np.log10)\n",
        "  d.household_size = d.household_size.apply(np.log10)\n",
        "  \n",
        "  # Feature engineering 2 : extra drops after xgb's feature importance\n",
        "  d = d.drop(['education_level_Other/Dont know/RTA',\n",
        "              'job_type_Dont Know/Refuse to answer',\n",
        "              'job_type_No Income',\n",
        "              'relationship_with_head_Other non-relatives',\n",
        "              'relationship_with_head_Other relative'], \n",
        "             axis=1)\n",
        "  \n",
        "  # Stratification because we have an imbalanced dataset\n",
        "  test_yes = d[d.bank_account==1].sample(frac=0.2)\n",
        "  test_no  = d[d.bank_account==0].sample(frac=0.2)\n",
        "  d = d.drop(test_yes.index, axis=0)\n",
        "  d = d.drop(test_no.index, axis=0)\n",
        "  test_set = shuffle(pd.concat([test_yes, test_no]))\n",
        "  \n",
        "  df_train_l = pd.DataFrame(d.bank_account)\n",
        "  df_test_l = pd.DataFrame(test_set.bank_account)\n",
        "  df_train_v = d.drop(\"bank_account\", axis=1)\n",
        "  df_test_v = test_set.drop(\"bank_account\", axis=1)\n",
        "  \n",
        "  # for debuging\n",
        "  look_at_me = df_train_v.copy()\n",
        "  \n",
        "  print('train_v :', df_train_v.shape)\n",
        "  print('train_l :', df_train_l.shape)\n",
        "  print('test_v :', df_test_v.shape)\n",
        "  print('test_l :', df_test_l.shape)\n",
        "  \n",
        "  # convert train to values\n",
        "  x_train = (df_train_v.values).astype('float32')\n",
        "  x_train = preprocessing.scale(x_train)\n",
        "  y_train = df_train_l.values.astype('float32')\n",
        "\n",
        "  # convert test to values\n",
        "  x_test = (df_test_v.values).astype('float32')\n",
        "  x_test = preprocessing.scale(x_test)\n",
        "  y_test = df_test_l.values.astype('float32')\n",
        "  \n",
        "  return x_train, y_train, x_test, y_test, look_at_me"
      ],
      "execution_count": 0,
      "outputs": []
    },
    {
      "cell_type": "code",
      "metadata": {
        "id": "_BlUJ8P9wLnc",
        "colab_type": "code",
        "outputId": "e56f8b70-7c02-4416-a11c-5da856286401",
        "colab": {
          "base_uri": "https://localhost:8080/",
          "height": 245
        }
      },
      "source": [
        "x_train, y_train, x_test, y_test, l = prepare_data()"
      ],
      "execution_count": 0,
      "outputs": [
        {
          "output_type": "stream",
          "text": [
            "train_v : (18820, 34)\n",
            "train_l : (18820, 1)\n",
            "test_v : (4704, 34)\n",
            "test_l : (4704, 1)\n"
          ],
          "name": "stdout"
        },
        {
          "output_type": "stream",
          "text": [
            "/usr/local/lib/python3.6/dist-packages/sklearn/preprocessing/data.py:172: UserWarning: Numerical issues were encountered when centering the data and might not be solved. Dataset may contain too large values. You may need to prescale your features.\n",
            "  warnings.warn(\"Numerical issues were encountered \"\n",
            "/usr/local/lib/python3.6/dist-packages/sklearn/preprocessing/data.py:189: UserWarning: Numerical issues were encountered when scaling the data and might not be solved. The standard deviation of the data is probably very close to 0. \n",
            "  warnings.warn(\"Numerical issues were encountered \"\n",
            "/usr/local/lib/python3.6/dist-packages/sklearn/preprocessing/data.py:172: UserWarning: Numerical issues were encountered when centering the data and might not be solved. Dataset may contain too large values. You may need to prescale your features.\n",
            "  warnings.warn(\"Numerical issues were encountered \"\n",
            "/usr/local/lib/python3.6/dist-packages/sklearn/preprocessing/data.py:189: UserWarning: Numerical issues were encountered when scaling the data and might not be solved. The standard deviation of the data is probably very close to 0. \n",
            "  warnings.warn(\"Numerical issues were encountered \"\n"
          ],
          "name": "stderr"
        }
      ]
    },
    {
      "cell_type": "code",
      "metadata": {
        "id": "3KeBkppuwQfR",
        "colab_type": "code",
        "outputId": "0867010f-a6d9-4cb6-e4f3-57a67331d907",
        "colab": {
          "base_uri": "https://localhost:8080/",
          "height": 256
        }
      },
      "source": [
        "l.head()"
      ],
      "execution_count": 0,
      "outputs": [
        {
          "output_type": "execute_result",
          "data": {
            "text/html": [
              "<div>\n",
              "<style scoped>\n",
              "    .dataframe tbody tr th:only-of-type {\n",
              "        vertical-align: middle;\n",
              "    }\n",
              "\n",
              "    .dataframe tbody tr th {\n",
              "        vertical-align: top;\n",
              "    }\n",
              "\n",
              "    .dataframe thead th {\n",
              "        text-align: right;\n",
              "    }\n",
              "</style>\n",
              "<table border=\"1\" class=\"dataframe\">\n",
              "  <thead>\n",
              "    <tr style=\"text-align: right;\">\n",
              "      <th></th>\n",
              "      <th>household_size</th>\n",
              "      <th>age_of_respondent</th>\n",
              "      <th>country_Kenya</th>\n",
              "      <th>country_Rwanda</th>\n",
              "      <th>country_Tanzania</th>\n",
              "      <th>country_Uganda</th>\n",
              "      <th>location_type_Rural</th>\n",
              "      <th>location_type_Urban</th>\n",
              "      <th>cellphone_access_No</th>\n",
              "      <th>cellphone_access_Yes</th>\n",
              "      <th>gender_of_respondent_Female</th>\n",
              "      <th>gender_of_respondent_Male</th>\n",
              "      <th>relationship_with_head_Child</th>\n",
              "      <th>relationship_with_head_Head of Household</th>\n",
              "      <th>relationship_with_head_Other non-relatives</th>\n",
              "      <th>relationship_with_head_Other relative</th>\n",
              "      <th>relationship_with_head_Parent</th>\n",
              "      <th>relationship_with_head_Spouse</th>\n",
              "      <th>marital_status_Divorced/Seperated</th>\n",
              "      <th>marital_status_Dont know</th>\n",
              "      <th>marital_status_Married/Living together</th>\n",
              "      <th>marital_status_Single/Never Married</th>\n",
              "      <th>marital_status_Widowed</th>\n",
              "      <th>education_level_No formal education</th>\n",
              "      <th>education_level_Other/Dont know/RTA</th>\n",
              "      <th>education_level_Primary education</th>\n",
              "      <th>education_level_Secondary education</th>\n",
              "      <th>education_level_Tertiary education</th>\n",
              "      <th>education_level_Vocational/Specialised training</th>\n",
              "      <th>job_type_Dont Know/Refuse to answer</th>\n",
              "      <th>job_type_Farming and Fishing</th>\n",
              "      <th>job_type_Formally employed Government</th>\n",
              "      <th>job_type_Formally employed Private</th>\n",
              "      <th>job_type_Government Dependent</th>\n",
              "      <th>job_type_Informally employed</th>\n",
              "      <th>job_type_No Income</th>\n",
              "      <th>job_type_Other Income</th>\n",
              "      <th>job_type_Remittance Dependent</th>\n",
              "      <th>job_type_Self employed</th>\n",
              "    </tr>\n",
              "  </thead>\n",
              "  <tbody>\n",
              "    <tr>\n",
              "      <th>0</th>\n",
              "      <td>0.477121</td>\n",
              "      <td>1.380211</td>\n",
              "      <td>1</td>\n",
              "      <td>0</td>\n",
              "      <td>0</td>\n",
              "      <td>0</td>\n",
              "      <td>1</td>\n",
              "      <td>0</td>\n",
              "      <td>0</td>\n",
              "      <td>1</td>\n",
              "      <td>1</td>\n",
              "      <td>0</td>\n",
              "      <td>0</td>\n",
              "      <td>0</td>\n",
              "      <td>0</td>\n",
              "      <td>0</td>\n",
              "      <td>0</td>\n",
              "      <td>1</td>\n",
              "      <td>0</td>\n",
              "      <td>0</td>\n",
              "      <td>1</td>\n",
              "      <td>0</td>\n",
              "      <td>0</td>\n",
              "      <td>0</td>\n",
              "      <td>0</td>\n",
              "      <td>0</td>\n",
              "      <td>1</td>\n",
              "      <td>0</td>\n",
              "      <td>0</td>\n",
              "      <td>0</td>\n",
              "      <td>0</td>\n",
              "      <td>0</td>\n",
              "      <td>0</td>\n",
              "      <td>0</td>\n",
              "      <td>0</td>\n",
              "      <td>0</td>\n",
              "      <td>0</td>\n",
              "      <td>0</td>\n",
              "      <td>1</td>\n",
              "    </tr>\n",
              "    <tr>\n",
              "      <th>1</th>\n",
              "      <td>0.698970</td>\n",
              "      <td>1.845098</td>\n",
              "      <td>1</td>\n",
              "      <td>0</td>\n",
              "      <td>0</td>\n",
              "      <td>0</td>\n",
              "      <td>1</td>\n",
              "      <td>0</td>\n",
              "      <td>1</td>\n",
              "      <td>0</td>\n",
              "      <td>1</td>\n",
              "      <td>0</td>\n",
              "      <td>0</td>\n",
              "      <td>1</td>\n",
              "      <td>0</td>\n",
              "      <td>0</td>\n",
              "      <td>0</td>\n",
              "      <td>0</td>\n",
              "      <td>0</td>\n",
              "      <td>0</td>\n",
              "      <td>0</td>\n",
              "      <td>0</td>\n",
              "      <td>1</td>\n",
              "      <td>1</td>\n",
              "      <td>0</td>\n",
              "      <td>0</td>\n",
              "      <td>0</td>\n",
              "      <td>0</td>\n",
              "      <td>0</td>\n",
              "      <td>0</td>\n",
              "      <td>0</td>\n",
              "      <td>0</td>\n",
              "      <td>0</td>\n",
              "      <td>1</td>\n",
              "      <td>0</td>\n",
              "      <td>0</td>\n",
              "      <td>0</td>\n",
              "      <td>0</td>\n",
              "      <td>0</td>\n",
              "    </tr>\n",
              "    <tr>\n",
              "      <th>2</th>\n",
              "      <td>0.698970</td>\n",
              "      <td>1.414973</td>\n",
              "      <td>1</td>\n",
              "      <td>0</td>\n",
              "      <td>0</td>\n",
              "      <td>0</td>\n",
              "      <td>0</td>\n",
              "      <td>1</td>\n",
              "      <td>0</td>\n",
              "      <td>1</td>\n",
              "      <td>0</td>\n",
              "      <td>1</td>\n",
              "      <td>0</td>\n",
              "      <td>0</td>\n",
              "      <td>0</td>\n",
              "      <td>1</td>\n",
              "      <td>0</td>\n",
              "      <td>0</td>\n",
              "      <td>0</td>\n",
              "      <td>0</td>\n",
              "      <td>0</td>\n",
              "      <td>1</td>\n",
              "      <td>0</td>\n",
              "      <td>0</td>\n",
              "      <td>0</td>\n",
              "      <td>0</td>\n",
              "      <td>0</td>\n",
              "      <td>0</td>\n",
              "      <td>1</td>\n",
              "      <td>0</td>\n",
              "      <td>0</td>\n",
              "      <td>0</td>\n",
              "      <td>0</td>\n",
              "      <td>0</td>\n",
              "      <td>0</td>\n",
              "      <td>0</td>\n",
              "      <td>0</td>\n",
              "      <td>0</td>\n",
              "      <td>1</td>\n",
              "    </tr>\n",
              "    <tr>\n",
              "      <th>3</th>\n",
              "      <td>0.698970</td>\n",
              "      <td>1.531479</td>\n",
              "      <td>1</td>\n",
              "      <td>0</td>\n",
              "      <td>0</td>\n",
              "      <td>0</td>\n",
              "      <td>1</td>\n",
              "      <td>0</td>\n",
              "      <td>0</td>\n",
              "      <td>1</td>\n",
              "      <td>1</td>\n",
              "      <td>0</td>\n",
              "      <td>0</td>\n",
              "      <td>1</td>\n",
              "      <td>0</td>\n",
              "      <td>0</td>\n",
              "      <td>0</td>\n",
              "      <td>0</td>\n",
              "      <td>0</td>\n",
              "      <td>0</td>\n",
              "      <td>1</td>\n",
              "      <td>0</td>\n",
              "      <td>0</td>\n",
              "      <td>0</td>\n",
              "      <td>0</td>\n",
              "      <td>1</td>\n",
              "      <td>0</td>\n",
              "      <td>0</td>\n",
              "      <td>0</td>\n",
              "      <td>0</td>\n",
              "      <td>0</td>\n",
              "      <td>0</td>\n",
              "      <td>1</td>\n",
              "      <td>0</td>\n",
              "      <td>0</td>\n",
              "      <td>0</td>\n",
              "      <td>0</td>\n",
              "      <td>0</td>\n",
              "      <td>0</td>\n",
              "    </tr>\n",
              "    <tr>\n",
              "      <th>4</th>\n",
              "      <td>0.903090</td>\n",
              "      <td>1.414973</td>\n",
              "      <td>1</td>\n",
              "      <td>0</td>\n",
              "      <td>0</td>\n",
              "      <td>0</td>\n",
              "      <td>0</td>\n",
              "      <td>1</td>\n",
              "      <td>1</td>\n",
              "      <td>0</td>\n",
              "      <td>0</td>\n",
              "      <td>1</td>\n",
              "      <td>1</td>\n",
              "      <td>0</td>\n",
              "      <td>0</td>\n",
              "      <td>0</td>\n",
              "      <td>0</td>\n",
              "      <td>0</td>\n",
              "      <td>0</td>\n",
              "      <td>0</td>\n",
              "      <td>0</td>\n",
              "      <td>1</td>\n",
              "      <td>0</td>\n",
              "      <td>0</td>\n",
              "      <td>0</td>\n",
              "      <td>1</td>\n",
              "      <td>0</td>\n",
              "      <td>0</td>\n",
              "      <td>0</td>\n",
              "      <td>0</td>\n",
              "      <td>0</td>\n",
              "      <td>0</td>\n",
              "      <td>0</td>\n",
              "      <td>0</td>\n",
              "      <td>1</td>\n",
              "      <td>0</td>\n",
              "      <td>0</td>\n",
              "      <td>0</td>\n",
              "      <td>0</td>\n",
              "    </tr>\n",
              "  </tbody>\n",
              "</table>\n",
              "</div>"
            ],
            "text/plain": [
              "   household_size  ...  job_type_Self employed\n",
              "0        0.477121  ...                       1\n",
              "1        0.698970  ...                       0\n",
              "2        0.698970  ...                       1\n",
              "3        0.698970  ...                       0\n",
              "4        0.903090  ...                       0\n",
              "\n",
              "[5 rows x 39 columns]"
            ]
          },
          "metadata": {
            "tags": []
          },
          "execution_count": 7
        }
      ]
    },
    {
      "cell_type": "code",
      "metadata": {
        "id": "ou5UOvtKLeMG",
        "colab_type": "code",
        "outputId": "5e6081c2-f1c3-461c-d6da-ea39ba226a2e",
        "colab": {
          "base_uri": "https://localhost:8080/",
          "height": 497
        }
      },
      "source": [
        "corr = l.corr()\n",
        "ax = sns.heatmap(\n",
        "    corr)"
      ],
      "execution_count": 0,
      "outputs": [
        {
          "output_type": "display_data",
          "data": {
            "image/png": "[encoded data removed]",
            "text/plain": [
              "<Figure size 432x288 with 2 Axes>"
            ]
          },
          "metadata": {
            "tags": []
          }
        }
      ]
    },
    {
      "cell_type": "markdown",
      "metadata": {
        "id": "zzXre3QHkLLM",
        "colab_type": "text"
      },
      "source": [
        "# Training"
      ]
    },
    {
      "cell_type": "code",
      "metadata": {
        "id": "SKSXWTJTBZTh",
        "colab_type": "code",
        "colab": {}
      },
      "source": [
        "def zindi_model():\n",
        "  \n",
        "  model = xgb.XGBClassifier(min_child_weight= 2, \n",
        "                            max_depth=2, \n",
        "                            learning_rate= 0.1, \n",
        "                            gamma= 7, \n",
        "                            colsample_bytree= 0.8,\n",
        "                            subsample=0.5,\n",
        "                            n_estimators=50000,\n",
        "                            objective='binary:hinge',\n",
        "                            nthread=1)\n",
        "\n",
        "  eval_set = [(x_train, y_train), (x_test, y_test)]\n",
        "\n",
        "  model.fit(x_train, y_train, eval_metric='error', eval_set=eval_set, verbose=False)\n",
        "\n",
        "  test_predictions = model.predict(x_test)\n",
        "  test_acc = accuracy_score(y_test, test_predictions)\n",
        "  train_predictions = model.predict(x_train)\n",
        "  train_acc = accuracy_score(y_train, train_predictions)\n",
        "  \n",
        "  print(\"Train error :\", 1-train_acc, \". Test error :\", 1-test_acc)\n",
        "  \n",
        "  return model"
      ],
      "execution_count": 0,
      "outputs": []
    },
    {
      "cell_type": "code",
      "metadata": {
        "id": "Ps8H8XJ7DE1Q",
        "colab_type": "code",
        "outputId": "03f10760-ed8a-43ba-e88d-e9e95b8fa170",
        "colab": {
          "base_uri": "https://localhost:8080/",
          "height": 331
        }
      },
      "source": [
        "# train the model\n",
        "x_train, y_train, x_test, y_test, _ = prepare_data()\n",
        "zindi_model = zindi_model()\n",
        "\n",
        "# some results\n",
        "# 0.118410 all features 70000 estim\n",
        "# 0.111395 -5  features 70000 estim\n",
        "# 0.107993 -5  features 40000 estim\n",
        "# 0.109694 -5  features 20000 estim\n",
        "# 0.108206 -5  features 50000 estim 3 max depth"
      ],
      "execution_count": 0,
      "outputs": [
        {
          "output_type": "stream",
          "text": [
            "train_v : (18820, 34)\n",
            "train_l : (18820, 1)\n",
            "test_v : (4704, 34)\n",
            "test_l : (4704, 1)\n"
          ],
          "name": "stdout"
        },
        {
          "output_type": "stream",
          "text": [
            "/usr/local/lib/python3.6/dist-packages/sklearn/preprocessing/data.py:172: UserWarning: Numerical issues were encountered when centering the data and might not be solved. Dataset may contain too large values. You may need to prescale your features.\n",
            "  warnings.warn(\"Numerical issues were encountered \"\n",
            "/usr/local/lib/python3.6/dist-packages/sklearn/preprocessing/data.py:189: UserWarning: Numerical issues were encountered when scaling the data and might not be solved. The standard deviation of the data is probably very close to 0. \n",
            "  warnings.warn(\"Numerical issues were encountered \"\n",
            "/usr/local/lib/python3.6/dist-packages/sklearn/preprocessing/data.py:172: UserWarning: Numerical issues were encountered when centering the data and might not be solved. Dataset may contain too large values. You may need to prescale your features.\n",
            "  warnings.warn(\"Numerical issues were encountered \"\n",
            "/usr/local/lib/python3.6/dist-packages/sklearn/preprocessing/data.py:189: UserWarning: Numerical issues were encountered when scaling the data and might not be solved. The standard deviation of the data is probably very close to 0. \n",
            "  warnings.warn(\"Numerical issues were encountered \"\n",
            "/usr/local/lib/python3.6/dist-packages/sklearn/preprocessing/label.py:219: DataConversionWarning: A column-vector y was passed when a 1d array was expected. Please change the shape of y to (n_samples, ), for example using ravel().\n",
            "  y = column_or_1d(y, warn=True)\n",
            "/usr/local/lib/python3.6/dist-packages/sklearn/preprocessing/label.py:252: DataConversionWarning: A column-vector y was passed when a 1d array was expected. Please change the shape of y to (n_samples, ), for example using ravel().\n",
            "  y = column_or_1d(y, warn=True)\n"
          ],
          "name": "stderr"
        },
        {
          "output_type": "stream",
          "text": [
            "Train error : 0.10733262486716255 . Test error : 0.11054421768707479\n"
          ],
          "name": "stdout"
        }
      ]
    },
    {
      "cell_type": "code",
      "metadata": {
        "id": "NMnrzeQvPc9I",
        "colab_type": "code",
        "outputId": "095e8b6c-0cc7-4fb1-f506-39f49a153e39",
        "colab": {
          "base_uri": "https://localhost:8080/",
          "height": 281
        }
      },
      "source": [
        "# retrieve performance metrics\n",
        "results = zindi_model.evals_result()\n",
        "epochs = len(results['validation_0']['error'])\n",
        "x_axis = range(0, epochs)\n",
        "# plot classification error\n",
        "fig, ax = plt.subplots()\n",
        "ax.plot(x_axis, results['validation_0']['error'], label='Train')\n",
        "ax.plot(x_axis, results['validation_1']['error'], label='Test')\n",
        "ax.legend()\n",
        "plt.ylabel('Classification Error')\n",
        "plt.title('XGBoost Classification Error')\n",
        "plt.show()"
      ],
      "execution_count": 0,
      "outputs": [
        {
          "output_type": "display_data",
          "data": {
            "image/png": "[encoded data removed]",
            "text/plain": [
              "<Figure size 432x288 with 1 Axes>"
            ]
          },
          "metadata": {
            "tags": []
          }
        }
      ]
    },
    {
      "cell_type": "code",
      "metadata": {
        "id": "2UpLktqfU9PF",
        "colab_type": "code",
        "outputId": "b2ca748d-f612-4921-d5f5-be4221453042",
        "colab": {
          "base_uri": "https://localhost:8080/",
          "height": 458
        }
      },
      "source": [
        "from xgboost import plot_importance\n",
        "\n",
        "# plot feature importance\n",
        "plt.rcParams[\"figure.figsize\"] = (14, 7)\n",
        "plot_importance(zindi_model)\n",
        "plt.show()"
      ],
      "execution_count": 0,
      "outputs": [
        {
          "output_type": "display_data",
          "data": {
            "image/png": "[encoded data removed]",
            "text/plain": [
              "<Figure size 1008x504 with 1 Axes>"
            ]
          },
          "metadata": {
            "tags": []
          }
        }
      ]
    },
    {
      "cell_type": "code",
      "metadata": {
        "id": "zKZ534nn2JZZ",
        "colab_type": "code",
        "outputId": "665a6ae4-6329-4e91-f42d-d07bc1390dbe",
        "colab": {
          "base_uri": "https://localhost:8080/",
          "height": 134
        }
      },
      "source": [
        "# show columns names with their indexes\n",
        "pd.DataFrame(l.columns).T.iloc[:,:]"
      ],
      "execution_count": 0,
      "outputs": [
        {
          "output_type": "execute_result",
          "data": {
            "text/html": [
              "<div>\n",
              "<style scoped>\n",
              "    .dataframe tbody tr th:only-of-type {\n",
              "        vertical-align: middle;\n",
              "    }\n",
              "\n",
              "    .dataframe tbody tr th {\n",
              "        vertical-align: top;\n",
              "    }\n",
              "\n",
              "    .dataframe thead th {\n",
              "        text-align: right;\n",
              "    }\n",
              "</style>\n",
              "<table border=\"1\" class=\"dataframe\">\n",
              "  <thead>\n",
              "    <tr style=\"text-align: right;\">\n",
              "      <th></th>\n",
              "      <th>0</th>\n",
              "      <th>1</th>\n",
              "      <th>2</th>\n",
              "      <th>3</th>\n",
              "      <th>4</th>\n",
              "      <th>5</th>\n",
              "      <th>6</th>\n",
              "      <th>7</th>\n",
              "      <th>8</th>\n",
              "      <th>9</th>\n",
              "      <th>10</th>\n",
              "      <th>11</th>\n",
              "      <th>12</th>\n",
              "      <th>13</th>\n",
              "      <th>14</th>\n",
              "      <th>15</th>\n",
              "      <th>16</th>\n",
              "      <th>17</th>\n",
              "      <th>18</th>\n",
              "      <th>19</th>\n",
              "      <th>20</th>\n",
              "      <th>21</th>\n",
              "      <th>22</th>\n",
              "      <th>23</th>\n",
              "      <th>24</th>\n",
              "      <th>25</th>\n",
              "      <th>26</th>\n",
              "      <th>27</th>\n",
              "      <th>28</th>\n",
              "      <th>29</th>\n",
              "      <th>30</th>\n",
              "      <th>31</th>\n",
              "      <th>32</th>\n",
              "      <th>33</th>\n",
              "      <th>34</th>\n",
              "      <th>35</th>\n",
              "      <th>36</th>\n",
              "      <th>37</th>\n",
              "      <th>38</th>\n",
              "    </tr>\n",
              "  </thead>\n",
              "  <tbody>\n",
              "    <tr>\n",
              "      <th>0</th>\n",
              "      <td>household_size</td>\n",
              "      <td>age_of_respondent</td>\n",
              "      <td>country_Kenya</td>\n",
              "      <td>country_Rwanda</td>\n",
              "      <td>country_Tanzania</td>\n",
              "      <td>country_Uganda</td>\n",
              "      <td>location_type_Rural</td>\n",
              "      <td>location_type_Urban</td>\n",
              "      <td>cellphone_access_No</td>\n",
              "      <td>cellphone_access_Yes</td>\n",
              "      <td>gender_of_respondent_Female</td>\n",
              "      <td>gender_of_respondent_Male</td>\n",
              "      <td>relationship_with_head_Child</td>\n",
              "      <td>relationship_with_head_Head of Household</td>\n",
              "      <td>relationship_with_head_Other non-relatives</td>\n",
              "      <td>relationship_with_head_Other relative</td>\n",
              "      <td>relationship_with_head_Parent</td>\n",
              "      <td>relationship_with_head_Spouse</td>\n",
              "      <td>marital_status_Divorced/Seperated</td>\n",
              "      <td>marital_status_Dont know</td>\n",
              "      <td>marital_status_Married/Living together</td>\n",
              "      <td>marital_status_Single/Never Married</td>\n",
              "      <td>marital_status_Widowed</td>\n",
              "      <td>education_level_No formal education</td>\n",
              "      <td>education_level_Other/Dont know/RTA</td>\n",
              "      <td>education_level_Primary education</td>\n",
              "      <td>education_level_Secondary education</td>\n",
              "      <td>education_level_Tertiary education</td>\n",
              "      <td>education_level_Vocational/Specialised training</td>\n",
              "      <td>job_type_Dont Know/Refuse to answer</td>\n",
              "      <td>job_type_Farming and Fishing</td>\n",
              "      <td>job_type_Formally employed Government</td>\n",
              "      <td>job_type_Formally employed Private</td>\n",
              "      <td>job_type_Government Dependent</td>\n",
              "      <td>job_type_Informally employed</td>\n",
              "      <td>job_type_No Income</td>\n",
              "      <td>job_type_Other Income</td>\n",
              "      <td>job_type_Remittance Dependent</td>\n",
              "      <td>job_type_Self employed</td>\n",
              "    </tr>\n",
              "  </tbody>\n",
              "</table>\n",
              "</div>"
            ],
            "text/plain": [
              "               0   ...                      38\n",
              "0  household_size  ...  job_type_Self employed\n",
              "\n",
              "[1 rows x 39 columns]"
            ]
          },
          "metadata": {
            "tags": []
          },
          "execution_count": 12
        }
      ]
    },
    {
      "cell_type": "code",
      "metadata": {
        "id": "r8lBBusBOHTX",
        "colab_type": "code",
        "outputId": "d163332a-452c-485b-fae6-ddedee9c6bf9",
        "colab": {
          "base_uri": "https://localhost:8080/",
          "height": 34
        }
      },
      "source": [
        "# train another model using selected features \n",
        "\n",
        "from sklearn.feature_selection import SelectFromModel\n",
        "thresh = 0.034\n",
        "\n",
        "# select features using threshold\n",
        "selection = SelectFromModel(zindi_model, threshold=thresh, prefit=True)\n",
        "select_X_train = selection.transform(x_train)\n",
        "select_X_train.shape"
      ],
      "execution_count": 0,
      "outputs": [
        {
          "output_type": "execute_result",
          "data": {
            "text/plain": [
              "(18820, 12)"
            ]
          },
          "metadata": {
            "tags": []
          },
          "execution_count": 74
        }
      ]
    },
    {
      "cell_type": "code",
      "metadata": {
        "id": "lcMwthtvQQ9C",
        "colab_type": "code",
        "outputId": "fdb20b97-b618-4b93-9808-334b83677b48",
        "colab": {
          "base_uri": "https://localhost:8080/",
          "height": 106
        }
      },
      "source": [
        "# train model\n",
        "selection_model = xgb.XGBClassifier(min_child_weight= 2,\n",
        "                                    max_depth= 2, \n",
        "                                    learning_rate= 0.1, \n",
        "                                    gamma= 9, \n",
        "                                    colsample_bytree= 0.8,\n",
        "                                    subsample=0.5,\n",
        "                                    n_estimators=50000,\n",
        "                                    objective='binary:hinge',\n",
        "                                    nthread=1)\n",
        "selection_model.fit(select_X_train, y_train)\n",
        "\n",
        "# eval model\n",
        "select_X_test = selection.transform(x_test)\n",
        "y_pred = selection_model.predict(select_X_test)"
      ],
      "execution_count": 0,
      "outputs": [
        {
          "output_type": "stream",
          "text": [
            "/usr/local/lib/python3.6/dist-packages/sklearn/preprocessing/label.py:219: DataConversionWarning: A column-vector y was passed when a 1d array was expected. Please change the shape of y to (n_samples, ), for example using ravel().\n",
            "  y = column_or_1d(y, warn=True)\n",
            "/usr/local/lib/python3.6/dist-packages/sklearn/preprocessing/label.py:252: DataConversionWarning: A column-vector y was passed when a 1d array was expected. Please change the shape of y to (n_samples, ), for example using ravel().\n",
            "  y = column_or_1d(y, warn=True)\n"
          ],
          "name": "stderr"
        }
      ]
    },
    {
      "cell_type": "code",
      "metadata": {
        "id": "x1CsBTD7SoNa",
        "colab_type": "code",
        "outputId": "11f6c86f-320b-42d7-9304-7dc62fc3f281",
        "colab": {
          "base_uri": "https://localhost:8080/",
          "height": 34
        }
      },
      "source": [
        "acc = accuracy_score(y_pred, y_test)\n",
        "  \n",
        "print(\"Error is : %f\" %(1-acc))"
      ],
      "execution_count": 0,
      "outputs": [
        {
          "output_type": "stream",
          "text": [
            "Error is : 0.120323\n"
          ],
          "name": "stdout"
        }
      ]
    },
    {
      "cell_type": "markdown",
      "metadata": {
        "id": "bPPyRpMQu2Mc",
        "colab_type": "text"
      },
      "source": [
        "# Save results"
      ]
    },
    {
      "cell_type": "code",
      "metadata": {
        "id": "MUKTzhETXoRR",
        "colab_type": "code",
        "colab": {}
      },
      "source": [
        "def prepare_submission(my_model):\n",
        "  submission = submission_file.copy()\n",
        "  test = df_test.copy()\n",
        "  \n",
        "  # prepare submission file\n",
        "  submission = submission_file.drop('uniqueid', axis=1)\n",
        "  submission.insert(loc=0, column='uniqueid', value=test['uniqueid'] + \" x \" + test['country'])\n",
        "  \n",
        "  # prepare test set\n",
        "  test = pd.get_dummies(test, columns=['country', 'location_type', 'cellphone_access', 'gender_of_respondent', \n",
        "                                       'relationship_with_head', 'marital_status', 'education_level', 'job_type'])\n",
        "  test = test.drop(\"uniqueid\", axis=1)\n",
        "  test = test.drop(\"year\", axis=1)\n",
        "  \n",
        "  test.age_of_respondent = test.age_of_respondent.apply(np.log10)\n",
        "  test.household_size = test.household_size.apply(np.log10)\n",
        "  \n",
        "  # Feature engineering 2 : extra drops \n",
        "  test = test.drop(['education_level_Other/Dont know/RTA',\n",
        "                    'job_type_Dont Know/Refuse to answer',\n",
        "                    'job_type_No Income',\n",
        "                    'relationship_with_head_Other non-relatives',\n",
        "                    'relationship_with_head_Other relative'], \n",
        "                  axis=1)\n",
        "\n",
        "  # convert train to values\n",
        "  test = (test.values).astype('float32')\n",
        "  test = preprocessing.scale(test)\n",
        "  \n",
        "  # predict\n",
        "  predictions_zindi = my_model.predict(test)\n",
        "  results = pd.DataFrame(predictions_zindi)\n",
        "  submission[\"bank_account\"] = results\n",
        "  submission.to_csv(\"submission_zindi.csv\", header=True, index=False)\n",
        "  \n",
        "  %cp submission_zindi.csv gdrive/'My Drive'/'Colab Notebooks'/zindi"
      ],
      "execution_count": 0,
      "outputs": []
    },
    {
      "cell_type": "code",
      "metadata": {
        "id": "DwIDDpNxZSUx",
        "colab_type": "code",
        "colab": {}
      },
      "source": [
        "from google.colab import drive\n",
        "drive.mount('/content/gdrive')"
      ],
      "execution_count": 0,
      "outputs": []
    },
    {
      "cell_type": "code",
      "metadata": {
        "id": "ZgWYysO5ZgNE",
        "colab_type": "code",
        "outputId": "92f1e13c-d0bd-4ca6-ff92-d1b730e53062",
        "colab": {
          "base_uri": "https://localhost:8080/",
          "height": 106
        }
      },
      "source": [
        "prepare_submission(zindi_model)"
      ],
      "execution_count": 0,
      "outputs": [
        {
          "output_type": "stream",
          "text": [
            "/usr/local/lib/python3.6/dist-packages/sklearn/preprocessing/data.py:172: UserWarning: Numerical issues were encountered when centering the data and might not be solved. Dataset may contain too large values. You may need to prescale your features.\n",
            "  warnings.warn(\"Numerical issues were encountered \"\n",
            "/usr/local/lib/python3.6/dist-packages/sklearn/preprocessing/data.py:189: UserWarning: Numerical issues were encountered when scaling the data and might not be solved. The standard deviation of the data is probably very close to 0. \n",
            "  warnings.warn(\"Numerical issues were encountered \"\n"
          ],
          "name": "stderr"
        }
      ]
    },
    {
      "cell_type": "markdown",
      "metadata": {
        "id": "Xp92g9HIMSaj",
        "colab_type": "text"
      },
      "source": [
        "# Post Train editing"
      ]
    },
    {
      "cell_type": "markdown",
      "metadata": {
        "id": "WfFdD301DWgA",
        "colab_type": "text"
      },
      "source": [
        "Sometimes we need to edit few rows manually if we were able to detect some correlations in the EDA phase.\n",
        "\n",
        "Here for example, very often Tanzanians without cellphones tend to not have a bank account.\n"
      ]
    },
    {
      "cell_type": "code",
      "metadata": {
        "id": "AI_Wo8cxBs5r",
        "colab_type": "code",
        "colab": {}
      },
      "source": [
        "# last submission\n",
        "old_sub =  pd.read_csv(\"submission_zindi.csv\")\n",
        "sub = old_sub.copy()\n",
        "\n",
        "# select indexes from the test set\n",
        "data_inter = df_test[df_test.country=='Tanzania']\n",
        "list_index1= data_inter[data_inter.cellphone_access=='No'].index\n",
        "\n",
        "# editing\n",
        "sub['bank_account'].loc[list_index1]=0.0"
      ],
      "execution_count": 0,
      "outputs": []
    },
    {
      "cell_type": "code",
      "metadata": {
        "id": "H-zdhTGmDJYI",
        "colab_type": "code",
        "colab": {}
      },
      "source": [
        "# check differeces between the two results\n",
        "def dfDiff(oldFrame, newFrame):\n",
        "\tdfBool = (oldFrame != newFrame).stack()  \n",
        "\tdiff = pd.concat([oldFrame.stack()[dfBool],\n",
        "\t\t\t\t\t  newFrame.stack()[dfBool]], axis=1)\n",
        "\tdiff.columns=[\"Old\", \"New\"]\n",
        "\treturn diff"
      ],
      "execution_count": 0,
      "outputs": []
    },
    {
      "cell_type": "code",
      "metadata": {
        "id": "ivurmraSEFI3",
        "colab_type": "code",
        "outputId": "dbd0eba5-75a0-4ae1-c94e-31fc59e7d9a9",
        "colab": {
          "base_uri": "https://localhost:8080/",
          "height": 110
        }
      },
      "source": [
        "dfDiff(old_sub, sub).head(2)"
      ],
      "execution_count": 0,
      "outputs": [
        {
          "output_type": "execute_result",
          "data": {
            "text/html": [
              "<div>\n",
              "<style scoped>\n",
              "    .dataframe tbody tr th:only-of-type {\n",
              "        vertical-align: middle;\n",
              "    }\n",
              "\n",
              "    .dataframe tbody tr th {\n",
              "        vertical-align: top;\n",
              "    }\n",
              "\n",
              "    .dataframe thead th {\n",
              "        text-align: right;\n",
              "    }\n",
              "</style>\n",
              "<table border=\"1\" class=\"dataframe\">\n",
              "  <thead>\n",
              "    <tr style=\"text-align: right;\">\n",
              "      <th></th>\n",
              "      <th></th>\n",
              "      <th>Old</th>\n",
              "      <th>New</th>\n",
              "    </tr>\n",
              "  </thead>\n",
              "  <tbody>\n",
              "    <tr>\n",
              "      <th>6459</th>\n",
              "      <th>bank_account</th>\n",
              "      <td>1</td>\n",
              "      <td>0</td>\n",
              "    </tr>\n",
              "    <tr>\n",
              "      <th>7338</th>\n",
              "      <th>bank_account</th>\n",
              "      <td>1</td>\n",
              "      <td>0</td>\n",
              "    </tr>\n",
              "  </tbody>\n",
              "</table>\n",
              "</div>"
            ],
            "text/plain": [
              "                  Old New\n",
              "6459 bank_account   1   0\n",
              "7338 bank_account   1   0"
            ]
          },
          "metadata": {
            "tags": []
          },
          "execution_count": 82
        }
      ]
    },
    {
      "cell_type": "code",
      "metadata": {
        "id": "V4d7H8NzEPPk",
        "colab_type": "code",
        "colab": {}
      },
      "source": [
        "sub.to_csv(\"submission_zindi_new.csv\", header=True, index=False)\n",
        "%cp submission_zindi_new.csv gdrive/'My Drive'/'Colab Notebooks'/zindi"
      ],
      "execution_count": 0,
      "outputs": []
    },
    {
      "cell_type": "code",
      "metadata": {
        "id": "k-r2lJ8VHLyo",
        "colab_type": "code",
        "colab": {}
      },
      "source": [
        ""
      ],
      "execution_count": 0,
      "outputs": []
    }
  ]
}