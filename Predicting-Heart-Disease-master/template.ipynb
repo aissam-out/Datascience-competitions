{
  "nbformat": 4,
  "nbformat_minor": 0,
  "metadata": {
    "colab": {
      "name": "template.ipynb",
      "version": "0.3.2",
      "provenance": [],
      "collapsed_sections": [],
      "include_colab_link": true
    },
    "kernelspec": {
      "name": "python3",
      "display_name": "Python 3"
    },
    "accelerator": "TPU"
  },
  "cells": [
    {
      "cell_type": "markdown",
      "metadata": {
        "id": "view-in-github",
        "colab_type": "text"
      },
      "source": [
        "<a href=\"https://colab.research.google.com/github/aissam-out/Predicting-Heart-Disease/blob/master/template.ipynb\" target=\"_parent\"><img src=\"https://colab.research.google.com/assets/colab-badge.svg\" alt=\"Open In Colab\"/></a>"
      ]
    },
    {
      "cell_type": "markdown",
      "metadata": {
        "id": "gKz6ncAsKHRJ",
        "colab_type": "text"
      },
      "source": [
        "# Import resources"
      ]
    },
    {
      "cell_type": "code",
      "metadata": {
        "id": "T02NXf40O5Vs",
        "colab_type": "code",
        "colab": {}
      },
      "source": [
        "# import modules\n",
        "import numpy as np\n",
        "import pandas as pd \n",
        "import seaborn as sns\n",
        "import matplotlib.pyplot as plt\n",
        "from sklearn.model_selection import train_test_split\n",
        "%matplotlib inline"
      ],
      "execution_count": 0,
      "outputs": []
    },
    {
      "cell_type": "code",
      "metadata": {
        "id": "JzWNG3XKPnxF",
        "colab_type": "code",
        "colab": {}
      },
      "source": [
        "# Code to read csv file into Colaboratory:\n",
        "!pip install -U -q PyDrive\n",
        "from pydrive.auth import GoogleAuth\n",
        "from pydrive.drive import GoogleDrive\n",
        "from google.colab import auth\n",
        "from oauth2client.client import GoogleCredentials\n",
        "# Authenticate and create the PyDrive client.\n",
        "auth.authenticate_user()\n",
        "gauth = GoogleAuth()\n",
        "gauth.credentials = GoogleCredentials.get_application_default()\n",
        "drive = GoogleDrive(gauth)"
      ],
      "execution_count": 0,
      "outputs": []
    },
    {
      "cell_type": "code",
      "metadata": {
        "id": "THv9MR4yPxT7",
        "colab_type": "code",
        "colab": {}
      },
      "source": [
        "# loading the dataset\n",
        "downloaded_train_v = drive.CreateFile({'id':'*********************'}) \n",
        "downloaded_train_l = drive.CreateFile({'id':'*********************'}) \n",
        "\n",
        "downloaded_train_v.GetContentFile('train_values.csv')\n",
        "downloaded_train_l.GetContentFile('train_labels.csv')\n",
        "\n",
        "df_train_v = pd.read_csv(\"train_values.csv\")\n",
        "df_train_l = pd.read_csv(\"train_labels.csv\")"
      ],
      "execution_count": 0,
      "outputs": []
    },
    {
      "cell_type": "markdown",
      "metadata": {
        "id": "WVNcA8A-c0ps",
        "colab_type": "text"
      },
      "source": [
        "# Data Exploration & preprocessing"
      ]
    },
    {
      "cell_type": "code",
      "metadata": {
        "id": "TJmfrrIqRAvR",
        "colab_type": "code",
        "outputId": "aeb92c63-7a3a-4fd4-f345-a6a585ac9667",
        "colab": {
          "base_uri": "https://localhost:8080/",
          "height": 99
        }
      },
      "source": [
        "# overview of the whole dataset\n",
        "data = df_train_v.copy()\n",
        "data['labels'] = df_train_l['heart_disease_present']\n",
        "data.sample()"
      ],
      "execution_count": 0,
      "outputs": [
        {
          "output_type": "execute_result",
          "data": {
            "text/html": [
              "<div>\n",
              "<style scoped>\n",
              "    .dataframe tbody tr th:only-of-type {\n",
              "        vertical-align: middle;\n",
              "    }\n",
              "\n",
              "    .dataframe tbody tr th {\n",
              "        vertical-align: top;\n",
              "    }\n",
              "\n",
              "    .dataframe thead th {\n",
              "        text-align: right;\n",
              "    }\n",
              "</style>\n",
              "<table border=\"1\" class=\"dataframe\">\n",
              "  <thead>\n",
              "    <tr style=\"text-align: right;\">\n",
              "      <th></th>\n",
              "      <th>patient_id</th>\n",
              "      <th>slope_of_peak_exercise_st_segment</th>\n",
              "      <th>thal</th>\n",
              "      <th>resting_blood_pressure</th>\n",
              "      <th>chest_pain_type</th>\n",
              "      <th>num_major_vessels</th>\n",
              "      <th>fasting_blood_sugar_gt_120_mg_per_dl</th>\n",
              "      <th>resting_ekg_results</th>\n",
              "      <th>serum_cholesterol_mg_per_dl</th>\n",
              "      <th>oldpeak_eq_st_depression</th>\n",
              "      <th>sex</th>\n",
              "      <th>age</th>\n",
              "      <th>max_heart_rate_achieved</th>\n",
              "      <th>exercise_induced_angina</th>\n",
              "      <th>labels</th>\n",
              "    </tr>\n",
              "  </thead>\n",
              "  <tbody>\n",
              "    <tr>\n",
              "      <th>150</th>\n",
              "      <td>x4yp0f</td>\n",
              "      <td>1</td>\n",
              "      <td>reversible_defect</td>\n",
              "      <td>108</td>\n",
              "      <td>2</td>\n",
              "      <td>0</td>\n",
              "      <td>0</td>\n",
              "      <td>0</td>\n",
              "      <td>309</td>\n",
              "      <td>0.0</td>\n",
              "      <td>1</td>\n",
              "      <td>54</td>\n",
              "      <td>156</td>\n",
              "      <td>0</td>\n",
              "      <td>0</td>\n",
              "    </tr>\n",
              "  </tbody>\n",
              "</table>\n",
              "</div>"
            ],
            "text/plain": [
              "    patient_id  slope_of_peak_exercise_st_segment               thal  \\\n",
              "150     x4yp0f                                  1  reversible_defect   \n",
              "\n",
              "     resting_blood_pressure  chest_pain_type  num_major_vessels  \\\n",
              "150                     108                2                  0   \n",
              "\n",
              "     fasting_blood_sugar_gt_120_mg_per_dl  resting_ekg_results  \\\n",
              "150                                     0                    0   \n",
              "\n",
              "     serum_cholesterol_mg_per_dl  oldpeak_eq_st_depression  sex  age  \\\n",
              "150                          309                       0.0    1   54   \n",
              "\n",
              "     max_heart_rate_achieved  exercise_induced_angina  labels  \n",
              "150                      156                        0       0  "
            ]
          },
          "metadata": {
            "tags": []
          },
          "execution_count": 4
        }
      ]
    },
    {
      "cell_type": "code",
      "metadata": {
        "id": "396N2l-tTSk3",
        "colab_type": "code",
        "outputId": "77e9bb05-4610-420d-d23e-f8fed519433c",
        "colab": {
          "base_uri": "https://localhost:8080/",
          "height": 123
        }
      },
      "source": [
        "data.columns"
      ],
      "execution_count": 0,
      "outputs": [
        {
          "output_type": "execute_result",
          "data": {
            "text/plain": [
              "Index(['patient_id', 'slope_of_peak_exercise_st_segment', 'thal',\n",
              "       'resting_blood_pressure', 'chest_pain_type', 'num_major_vessels',\n",
              "       'fasting_blood_sugar_gt_120_mg_per_dl', 'resting_ekg_results',\n",
              "       'serum_cholesterol_mg_per_dl', 'oldpeak_eq_st_depression', 'sex', 'age',\n",
              "       'max_heart_rate_achieved', 'exercise_induced_angina', 'labels'],\n",
              "      dtype='object')"
            ]
          },
          "metadata": {
            "tags": []
          },
          "execution_count": 5
        }
      ]
    },
    {
      "cell_type": "code",
      "metadata": {
        "id": "Uz4sQ97zO-kd",
        "colab_type": "code",
        "colab": {}
      },
      "source": [
        "# replace strings with numbers\n",
        "df_train_v['thal'] = df_train_v['thal'].replace({'normal':0,'reversible_defect':1, 'fixed_defect':2})\n",
        "\n",
        "# drop ID column\n",
        "df_train_v = df_train_v.drop(\"patient_id\", axis=1)\n",
        "df_train_l = df_train_l.drop(\"patient_id\", axis=1)\n",
        "\n",
        "# convert to values\n",
        "df_train_v = (df_train_v.values).astype('float32') \n",
        "df_train_l = df_train_l.values.astype('float32')"
      ],
      "execution_count": 0,
      "outputs": []
    },
    {
      "cell_type": "code",
      "metadata": {
        "id": "mL8WEwqTRHsv",
        "colab_type": "code",
        "outputId": "3c77be2b-e58d-4d11-8a96-b728f9806864",
        "colab": {
          "base_uri": "https://localhost:8080/",
          "height": 52
        }
      },
      "source": [
        "# train test split\n",
        "x_train, x_test, y_train, y_test = train_test_split(df_train_v, df_train_l, test_size=0.2)\n",
        "print('x_train shape:', x_train.shape)\n",
        "print(x_train.shape[0], 'train samples')\n",
        "\n",
        "# convert column-vector to 1d array\n",
        "y_train = np.ravel(y_train)"
      ],
      "execution_count": 0,
      "outputs": [
        {
          "output_type": "stream",
          "text": [
            "x_train shape: (144, 13)\n",
            "144 train samples\n"
          ],
          "name": "stdout"
        }
      ]
    },
    {
      "cell_type": "markdown",
      "metadata": {
        "id": "JEIEjF4KFBvy",
        "colab_type": "text"
      },
      "source": [
        "# Training"
      ]
    },
    {
      "cell_type": "code",
      "metadata": {
        "id": "nHtfTGRQFTJp",
        "colab_type": "code",
        "colab": {}
      },
      "source": [
        "from sklearn.metrics import log_loss\n",
        "from sklearn.pipeline import Pipeline\n",
        "from sklearn.preprocessing import StandardScaler\n",
        "from sklearn.model_selection import GridSearchCV\n",
        "from sklearn.linear_model import LogisticRegression\n",
        "from sklearn.ensemble import GradientBoostingClassifier"
      ],
      "execution_count": 0,
      "outputs": []
    },
    {
      "cell_type": "code",
      "metadata": {
        "id": "QIyig1_uxhZH",
        "colab_type": "code",
        "colab": {}
      },
      "source": [
        "parameters = {\n",
        "    \"loss\":[\"deviance\"],\n",
        "    \"learning_rate\": [0.1],\n",
        "    \"min_samples_leaf\": [1],\n",
        "    \"max_depth\":[5],\n",
        "    \"n_estimators\":[100]\n",
        "    }\n",
        "\n",
        "model = GradientBoostingClassifier()\n",
        "model_grid = GridSearchCV(model, parameters, cv=10, n_jobs=-1, verbose=3)"
      ],
      "execution_count": 0,
      "outputs": []
    },
    {
      "cell_type": "code",
      "metadata": {
        "id": "Fm3sge00WGoZ",
        "colab_type": "code",
        "outputId": "05c89d69-9014-4a83-d31e-521421429a19",
        "colab": {
          "base_uri": "https://localhost:8080/",
          "height": 125
        }
      },
      "source": [
        "model_grid = model_grid.fit(x_train, y_train)"
      ],
      "execution_count": 0,
      "outputs": [
        {
          "output_type": "stream",
          "text": [
            "Fitting 10 folds for each of 1 candidates, totalling 10 fits\n"
          ],
          "name": "stdout"
        },
        {
          "output_type": "stream",
          "text": [
            "[Parallel(n_jobs=-1)]: Using backend LokyBackend with 2 concurrent workers.\n",
            "[Parallel(n_jobs=-1)]: Done  10 out of  10 | elapsed:    1.8s finished\n",
            "/usr/local/lib/python3.6/dist-packages/sklearn/model_selection/_search.py:841: DeprecationWarning: The default of the `iid` parameter will change from True to False in version 0.22 and will be removed in 0.24. This will change numeric results when test-set sizes are unequal.\n",
            "  DeprecationWarning)\n"
          ],
          "name": "stderr"
        }
      ]
    },
    {
      "cell_type": "code",
      "metadata": {
        "id": "esKr_xBvPYN9",
        "colab_type": "code",
        "colab": {}
      },
      "source": [
        "model = model_grid.best_estimator_"
      ],
      "execution_count": 0,
      "outputs": []
    },
    {
      "cell_type": "code",
      "metadata": {
        "id": "NtJyRgnL_Ap8",
        "colab_type": "code",
        "outputId": "ee7b96e4-6ec5-48a6-a544-929cd54023d2",
        "colab": {
          "base_uri": "https://localhost:8080/",
          "height": 175
        }
      },
      "source": [
        "model.fit(x_train, y_train)"
      ],
      "execution_count": 0,
      "outputs": [
        {
          "output_type": "execute_result",
          "data": {
            "text/plain": [
              "GradientBoostingClassifier(criterion='friedman_mse', init=None,\n",
              "              learning_rate=0.1, loss='deviance', max_depth=5,\n",
              "              max_features=None, max_leaf_nodes=None,\n",
              "              min_impurity_decrease=0.0, min_impurity_split=None,\n",
              "              min_samples_leaf=1, min_samples_split=2,\n",
              "              min_weight_fraction_leaf=0.0, n_estimators=100,\n",
              "              n_iter_no_change=None, presort='auto', random_state=None,\n",
              "              subsample=1.0, tol=0.0001, validation_fraction=0.1,\n",
              "              verbose=0, warm_start=False)"
            ]
          },
          "metadata": {
            "tags": []
          },
          "execution_count": 14
        }
      ]
    },
    {
      "cell_type": "code",
      "metadata": {
        "id": "L4ClOGUCLECV",
        "colab_type": "code",
        "outputId": "5d78db3c-53bd-42fa-8db5-8de094462326",
        "colab": {
          "base_uri": "https://localhost:8080/",
          "height": 35
        }
      },
      "source": [
        "predictions = model.predict_proba(x_test)[:, 1]\n",
        "log_loss(y_test, predictions)"
      ],
      "execution_count": 0,
      "outputs": [
        {
          "output_type": "execute_result",
          "data": {
            "text/plain": [
              "0.836977607163178"
            ]
          },
          "metadata": {
            "tags": []
          },
          "execution_count": 15
        }
      ]
    },
    {
      "cell_type": "markdown",
      "metadata": {
        "id": "B1B37HKQIuGR",
        "colab_type": "text"
      },
      "source": [
        "# indabax test"
      ]
    },
    {
      "cell_type": "code",
      "metadata": {
        "id": "NO_sm_rDItdO",
        "colab_type": "code",
        "colab": {}
      },
      "source": [
        "# load the test set\n",
        "downloaded_test_v = drive.CreateFile({'id':'***********************'})\n",
        "downloaded_test_v.GetContentFile('test_values.csv')\n",
        "\n",
        "df_test_v = pd.read_csv(\"test_values.csv\")\n",
        "test_indabax = df_test_v.copy()\n",
        "\n",
        "# preprocess test set\n",
        "test_indabax['thal'] = test_indabax['thal'].replace({'normal':0,'reversible_defect':1, 'fixed_defect':2})\n",
        "test_indabax = test_indabax.drop(\"patient_id\", axis=1)\n",
        "test_indabax = (test_indabax.values).astype('float32')\n",
        "\n",
        "# load submission form\n",
        "sub_form = drive.CreateFile({'id':'***********************'})\n",
        "sub_form.GetContentFile('submission_format.csv')\n",
        "\n",
        "df_sub = pd.read_csv(\"submission_format.csv\")\n",
        "df_sub_indabax = df_sub.copy()"
      ],
      "execution_count": 0,
      "outputs": []
    },
    {
      "cell_type": "code",
      "metadata": {
        "id": "_aQMB7wW8Inv",
        "colab_type": "code",
        "colab": {}
      },
      "source": [
        "# Apply the chosen model to the test set\n",
        "predictions_indabax = model.predict_proba(test_indabax)\n",
        "predictions_indabax[0:5]"
      ],
      "execution_count": 0,
      "outputs": []
    },
    {
      "cell_type": "code",
      "metadata": {
        "id": "qGYby2llQjYF",
        "colab_type": "code",
        "colab": {}
      },
      "source": [
        "# select \"heart_disease_present\" column\n",
        "submission = predictions_indabax[:, 1] #.round(1)\n",
        "submission[0:5]"
      ],
      "execution_count": 0,
      "outputs": []
    },
    {
      "cell_type": "code",
      "metadata": {
        "id": "liYp2tdRQwxq",
        "colab_type": "code",
        "colab": {}
      },
      "source": [
        "# add the results to the submission form\n",
        "results = pd.DataFrame(submission)\n",
        "df_sub_indabax[\"heart_disease_present\"] = results\n",
        "df_sub_indabax.to_csv(\"results_ML_1.csv\", header=True, index=False)\n",
        "\n",
        "df_sub_indabax.sample()"
      ],
      "execution_count": 0,
      "outputs": []
    },
    {
      "cell_type": "markdown",
      "metadata": {
        "id": "RZWLmyfmPUUG",
        "colab_type": "text"
      },
      "source": [
        "# Save results"
      ]
    },
    {
      "cell_type": "code",
      "metadata": {
        "id": "8gcvhS3eELpt",
        "colab_type": "code",
        "colab": {}
      },
      "source": [
        "from google.colab import drive\n",
        "drive.mount('/content/gdrive')"
      ],
      "execution_count": 0,
      "outputs": []
    },
    {
      "cell_type": "code",
      "metadata": {
        "id": "9u1Pu1ESEpQP",
        "colab_type": "code",
        "colab": {}
      },
      "source": [
        "!ls"
      ],
      "execution_count": 0,
      "outputs": []
    },
    {
      "cell_type": "code",
      "metadata": {
        "id": "GiCgaMDkF10_",
        "colab_type": "code",
        "colab": {}
      },
      "source": [
        "%cp results_ML_1.csv gdrive/'My Drive'/'Colab Notebooks'/indabax"
      ],
      "execution_count": 0,
      "outputs": []
    },
    {
      "cell_type": "code",
      "metadata": {
        "id": "HvUn2NRWTiyR",
        "colab_type": "code",
        "colab": {}
      },
      "source": [
        ""
      ],
      "execution_count": 0,
      "outputs": []
    }
  ]
}