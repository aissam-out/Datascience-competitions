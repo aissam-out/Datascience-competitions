{
  "nbformat": 4,
  "nbformat_minor": 0,
  "metadata": {
    "colab": {
      "name": "XGB_LAB.ipynb",
      "version": "0.3.2",
      "provenance": [],
      "collapsed_sections": [
        "gKz6ncAsKHRJ",
        "hb5b6vDgdEoT",
        "RZWLmyfmPUUG",
        "U1Vl43OFFyBJ",
        "s5mGRnb6DKmi",
        "yWnWKhF9JuLE",
        "Ccj1ByluX1Wp",
        "HQNNDBouaC6K"
      ],
      "include_colab_link": true
    },
    "kernelspec": {
      "name": "python3",
      "display_name": "Python 3"
    },
    "accelerator": "GPU"
  },
  "cells": [
    {
      "cell_type": "markdown",
      "metadata": {
        "id": "view-in-github",
        "colab_type": "text"
      },
      "source": [
        "<a href=\"https://colab.research.google.com/github/aissam-out/Predicting-Heart-Disease/blob/master/XGB_LAB.ipynb\" target=\"_parent\"><img src=\"https://colab.research.google.com/assets/colab-badge.svg\" alt=\"Open In Colab\"/></a>"
      ]
    },
    {
      "cell_type": "markdown",
      "metadata": {
        "id": "gKz6ncAsKHRJ",
        "colab_type": "text"
      },
      "source": [
        "# Import resources"
      ]
    },
    {
      "cell_type": "code",
      "metadata": {
        "id": "T02NXf40O5Vs",
        "colab_type": "code",
        "colab": {}
      },
      "source": [
        "# import modules\n",
        "import matplotlib\n",
        "import numpy as np\n",
        "import pandas as pd \n",
        "import xgboost as xgb\n",
        "import seaborn as sns\n",
        "import matplotlib.pyplot as plt\n",
        "from sklearn import preprocessing\n",
        "from sklearn.externals import joblib\n",
        "from sklearn.metrics import log_loss\n",
        "from sklearn.model_selection import GridSearchCV, RandomizedSearchCV, train_test_split, StratifiedKFold\n",
        "matplotlib.use('Agg')\n",
        "%matplotlib inline"
      ],
      "execution_count": 0,
      "outputs": []
    },
    {
      "cell_type": "code",
      "metadata": {
        "id": "JzWNG3XKPnxF",
        "colab_type": "code",
        "outputId": "269a5b43-6f67-4bcc-d8fe-d98255a85e58",
        "colab": {
          "base_uri": "https://localhost:8080/",
          "height": 51
        }
      },
      "source": [
        "# Code to read csv file into Colaboratory:\n",
        "!pip install -U -q PyDrive\n",
        "from pydrive.auth import GoogleAuth\n",
        "from pydrive.drive import GoogleDrive\n",
        "from google.colab import auth\n",
        "from oauth2client.client import GoogleCredentials\n",
        "# Authenticate and create the PyDrive client.\n",
        "auth.authenticate_user()\n",
        "gauth = GoogleAuth()\n",
        "gauth.credentials = GoogleCredentials.get_application_default()\n",
        "drive = GoogleDrive(gauth)"
      ],
      "execution_count": 0,
      "outputs": [
        {
          "output_type": "stream",
          "text": [
            "\u001b[?25l\r\u001b[K     |▎                               | 10kB 24.9MB/s eta 0:00:01\r\u001b[K     |▋                               | 20kB 2.2MB/s eta 0:00:01\r\u001b[K     |█                               | 30kB 3.2MB/s eta 0:00:01\r\u001b[K     |█▎                              | 40kB 2.1MB/s eta 0:00:01\r\u001b[K     |█▋                              | 51kB 2.6MB/s eta 0:00:01\r\u001b[K     |██                              | 61kB 3.1MB/s eta 0:00:01\r\u001b[K     |██▎                             | 71kB 3.6MB/s eta 0:00:01\r\u001b[K     |██▋                             | 81kB 4.1MB/s eta 0:00:01\r\u001b[K     |███                             | 92kB 4.6MB/s eta 0:00:01\r\u001b[K     |███▎                            | 102kB 3.5MB/s eta 0:00:01\r\u001b[K     |███▋                            | 112kB 3.5MB/s eta 0:00:01\r\u001b[K     |████                            | 122kB 3.5MB/s eta 0:00:01\r\u001b[K     |████▎                           | 133kB 3.5MB/s eta 0:00:01\r\u001b[K     |████▋                           | 143kB 3.5MB/s eta 0:00:01\r\u001b[K     |█████                           | 153kB 3.5MB/s eta 0:00:01\r\u001b[K     |█████▎                          | 163kB 3.5MB/s eta 0:00:01\r\u001b[K     |█████▋                          | 174kB 3.5MB/s eta 0:00:01\r\u001b[K     |██████                          | 184kB 3.5MB/s eta 0:00:01\r\u001b[K     |██████▎                         | 194kB 3.5MB/s eta 0:00:01\r\u001b[K     |██████▋                         | 204kB 3.5MB/s eta 0:00:01\r\u001b[K     |███████                         | 215kB 3.5MB/s eta 0:00:01\r\u001b[K     |███████▎                        | 225kB 3.5MB/s eta 0:00:01\r\u001b[K     |███████▋                        | 235kB 3.5MB/s eta 0:00:01\r\u001b[K     |████████                        | 245kB 3.5MB/s eta 0:00:01\r\u001b[K     |████████▎                       | 256kB 3.5MB/s eta 0:00:01\r\u001b[K     |████████▋                       | 266kB 3.5MB/s eta 0:00:01\r\u001b[K     |█████████                       | 276kB 3.5MB/s eta 0:00:01\r\u001b[K     |█████████▎                      | 286kB 3.5MB/s eta 0:00:01\r\u001b[K     |█████████▋                      | 296kB 3.5MB/s eta 0:00:01\r\u001b[K     |██████████                      | 307kB 3.5MB/s eta 0:00:01\r\u001b[K     |██████████▎                     | 317kB 3.5MB/s eta 0:00:01\r\u001b[K     |██████████▋                     | 327kB 3.5MB/s eta 0:00:01\r\u001b[K     |███████████                     | 337kB 3.5MB/s eta 0:00:01\r\u001b[K     |███████████▎                    | 348kB 3.5MB/s eta 0:00:01\r\u001b[K     |███████████▋                    | 358kB 3.5MB/s eta 0:00:01\r\u001b[K     |████████████                    | 368kB 3.5MB/s eta 0:00:01\r\u001b[K     |████████████▎                   | 378kB 3.5MB/s eta 0:00:01\r\u001b[K     |████████████▋                   | 389kB 3.5MB/s eta 0:00:01\r\u001b[K     |█████████████                   | 399kB 3.5MB/s eta 0:00:01\r\u001b[K     |█████████████▎                  | 409kB 3.5MB/s eta 0:00:01\r\u001b[K     |█████████████▋                  | 419kB 3.5MB/s eta 0:00:01\r\u001b[K     |██████████████                  | 430kB 3.5MB/s eta 0:00:01\r\u001b[K     |██████████████▎                 | 440kB 3.5MB/s eta 0:00:01\r\u001b[K     |██████████████▋                 | 450kB 3.5MB/s eta 0:00:01\r\u001b[K     |███████████████                 | 460kB 3.5MB/s eta 0:00:01\r\u001b[K     |███████████████▎                | 471kB 3.5MB/s eta 0:00:01\r\u001b[K     |███████████████▋                | 481kB 3.5MB/s eta 0:00:01\r\u001b[K     |████████████████                | 491kB 3.5MB/s eta 0:00:01\r\u001b[K     |████████████████▎               | 501kB 3.5MB/s eta 0:00:01\r\u001b[K     |████████████████▋               | 512kB 3.5MB/s eta 0:00:01\r\u001b[K     |█████████████████               | 522kB 3.5MB/s eta 0:00:01\r\u001b[K     |█████████████████▎              | 532kB 3.5MB/s eta 0:00:01\r\u001b[K     |█████████████████▋              | 542kB 3.5MB/s eta 0:00:01\r\u001b[K     |██████████████████              | 552kB 3.5MB/s eta 0:00:01\r\u001b[K     |██████████████████▎             | 563kB 3.5MB/s eta 0:00:01\r\u001b[K     |██████████████████▋             | 573kB 3.5MB/s eta 0:00:01\r\u001b[K     |███████████████████             | 583kB 3.5MB/s eta 0:00:01\r\u001b[K     |███████████████████▎            | 593kB 3.5MB/s eta 0:00:01\r\u001b[K     |███████████████████▋            | 604kB 3.5MB/s eta 0:00:01\r\u001b[K     |████████████████████            | 614kB 3.5MB/s eta 0:00:01\r\u001b[K     |████████████████████▎           | 624kB 3.5MB/s eta 0:00:01\r\u001b[K     |████████████████████▋           | 634kB 3.5MB/s eta 0:00:01\r\u001b[K     |█████████████████████           | 645kB 3.5MB/s eta 0:00:01\r\u001b[K     |█████████████████████▎          | 655kB 3.5MB/s eta 0:00:01\r\u001b[K     |█████████████████████▋          | 665kB 3.5MB/s eta 0:00:01\r\u001b[K     |██████████████████████          | 675kB 3.5MB/s eta 0:00:01\r\u001b[K     |██████████████████████▎         | 686kB 3.5MB/s eta 0:00:01\r\u001b[K     |██████████████████████▋         | 696kB 3.5MB/s eta 0:00:01\r\u001b[K     |███████████████████████         | 706kB 3.5MB/s eta 0:00:01\r\u001b[K     |███████████████████████▎        | 716kB 3.5MB/s eta 0:00:01\r\u001b[K     |███████████████████████▋        | 727kB 3.5MB/s eta 0:00:01\r\u001b[K     |████████████████████████        | 737kB 3.5MB/s eta 0:00:01\r\u001b[K     |████████████████████████▎       | 747kB 3.5MB/s eta 0:00:01\r\u001b[K     |████████████████████████▋       | 757kB 3.5MB/s eta 0:00:01\r\u001b[K     |████████████████████████▉       | 768kB 3.5MB/s eta 0:00:01\r\u001b[K     |█████████████████████████▏      | 778kB 3.5MB/s eta 0:00:01\r\u001b[K     |█████████████████████████▌      | 788kB 3.5MB/s eta 0:00:01\r\u001b[K     |█████████████████████████▉      | 798kB 3.5MB/s eta 0:00:01\r\u001b[K     |██████████████████████████▏     | 808kB 3.5MB/s eta 0:00:01\r\u001b[K     |██████████████████████████▌     | 819kB 3.5MB/s eta 0:00:01\r\u001b[K     |██████████████████████████▉     | 829kB 3.5MB/s eta 0:00:01\r\u001b[K     |███████████████████████████▏    | 839kB 3.5MB/s eta 0:00:01\r\u001b[K     |███████████████████████████▌    | 849kB 3.5MB/s eta 0:00:01\r\u001b[K     |███████████████████████████▉    | 860kB 3.5MB/s eta 0:00:01\r\u001b[K     |████████████████████████████▏   | 870kB 3.5MB/s eta 0:00:01\r\u001b[K     |████████████████████████████▌   | 880kB 3.5MB/s eta 0:00:01\r\u001b[K     |████████████████████████████▉   | 890kB 3.5MB/s eta 0:00:01\r\u001b[K     |█████████████████████████████▏  | 901kB 3.5MB/s eta 0:00:01\r\u001b[K     |█████████████████████████████▌  | 911kB 3.5MB/s eta 0:00:01\r\u001b[K     |█████████████████████████████▉  | 921kB 3.5MB/s eta 0:00:01\r\u001b[K     |██████████████████████████████▏ | 931kB 3.5MB/s eta 0:00:01\r\u001b[K     |██████████████████████████████▌ | 942kB 3.5MB/s eta 0:00:01\r\u001b[K     |██████████████████████████████▉ | 952kB 3.5MB/s eta 0:00:01\r\u001b[K     |███████████████████████████████▏| 962kB 3.5MB/s eta 0:00:01\r\u001b[K     |███████████████████████████████▌| 972kB 3.5MB/s eta 0:00:01\r\u001b[K     |███████████████████████████████▉| 983kB 3.5MB/s eta 0:00:01\r\u001b[K     |████████████████████████████████| 993kB 3.5MB/s \n",
            "\u001b[?25h  Building wheel for PyDrive (setup.py) ... \u001b[?25l\u001b[?25hdone\n"
          ],
          "name": "stdout"
        }
      ]
    },
    {
      "cell_type": "code",
      "metadata": {
        "id": "THv9MR4yPxT7",
        "colab_type": "code",
        "colab": {}
      },
      "source": [
        "# loading the dataset\n",
        "downloaded_train_v = drive.CreateFile({'id':'********************'}) \n",
        "downloaded_train_l = drive.CreateFile({'id':'********************'}) \n",
        "\n",
        "downloaded_train_v.GetContentFile('train_values.csv')\n",
        "downloaded_train_l.GetContentFile('train_labels.csv')\n",
        "\n",
        "df_train_v = pd.read_csv(\"train_values.csv\")\n",
        "df_train_l = pd.read_csv(\"train_labels.csv\")"
      ],
      "execution_count": 0,
      "outputs": []
    },
    {
      "cell_type": "markdown",
      "metadata": {
        "id": "WVNcA8A-c0ps",
        "colab_type": "text"
      },
      "source": [
        "# Data Exploration & preprocessing"
      ]
    },
    {
      "cell_type": "markdown",
      "metadata": {
        "id": "Boy24ZtBRAK1",
        "colab_type": "text"
      },
      "source": [
        "## Train Data"
      ]
    },
    {
      "cell_type": "code",
      "metadata": {
        "id": "Uz4sQ97zO-kd",
        "colab_type": "code",
        "colab": {}
      },
      "source": [
        "# replace strings with numbers\n",
        "df_train_v['thal'] = df_train_v['thal'].replace({'normal':0,'reversible_defect':1, 'fixed_defect':2})\n",
        "df_train_v = pd.get_dummies(df_train_v, columns=['slope_of_peak_exercise_st_segment','chest_pain_type','num_major_vessels'])"
      ],
      "execution_count": 0,
      "outputs": []
    },
    {
      "cell_type": "code",
      "metadata": {
        "id": "xCGgyrFCPzwJ",
        "colab_type": "code",
        "colab": {}
      },
      "source": [
        "# Feature engineering 1\n",
        "df_train_v[\"added\"]=df_train_v['oldpeak_eq_st_depression']/df_train_v['max_heart_rate_achieved']"
      ],
      "execution_count": 0,
      "outputs": []
    },
    {
      "cell_type": "code",
      "metadata": {
        "id": "a3iGA656PzZa",
        "colab_type": "code",
        "colab": {}
      },
      "source": [
        "# drop ID column\n",
        "df_train_v = df_train_v.drop(\"patient_id\", axis=1)\n",
        "df_train_l = df_train_l.drop(\"patient_id\", axis=1)"
      ],
      "execution_count": 0,
      "outputs": []
    },
    {
      "cell_type": "code",
      "metadata": {
        "id": "UfWSU3ZBIXbA",
        "colab_type": "code",
        "colab": {}
      },
      "source": [
        "# Feature engineering 2 : extra drops \n",
        "df_train_v = df_train_v.drop([\"fasting_blood_sugar_gt_120_mg_per_dl\",\n",
        "                              \"oldpeak_eq_st_depression\",\n",
        "                              \"slope_of_peak_exercise_st_segment_1\",\n",
        "                              \"slope_of_peak_exercise_st_segment_3\",\n",
        "                              \"chest_pain_type_1\",\n",
        "                              \"chest_pain_type_2\",\n",
        "                              \"chest_pain_type_3\",\n",
        "                              \"num_major_vessels_1\",\n",
        "                              \"num_major_vessels_2\",\n",
        "                              \"num_major_vessels_3\"], \n",
        "                             axis=1)"
      ],
      "execution_count": 0,
      "outputs": []
    },
    {
      "cell_type": "code",
      "metadata": {
        "id": "s9p1l6rf-ApN",
        "colab_type": "code",
        "outputId": "dee68482-8af5-4d77-e615-9466a2ad0c8d",
        "colab": {
          "base_uri": "https://localhost:8080/",
          "height": 99
        }
      },
      "source": [
        "df_train_v.sample()"
      ],
      "execution_count": 0,
      "outputs": [
        {
          "output_type": "execute_result",
          "data": {
            "text/html": [
              "<div>\n",
              "<style scoped>\n",
              "    .dataframe tbody tr th:only-of-type {\n",
              "        vertical-align: middle;\n",
              "    }\n",
              "\n",
              "    .dataframe tbody tr th {\n",
              "        vertical-align: top;\n",
              "    }\n",
              "\n",
              "    .dataframe thead th {\n",
              "        text-align: right;\n",
              "    }\n",
              "</style>\n",
              "<table border=\"1\" class=\"dataframe\">\n",
              "  <thead>\n",
              "    <tr style=\"text-align: right;\">\n",
              "      <th></th>\n",
              "      <th>thal</th>\n",
              "      <th>resting_blood_pressure</th>\n",
              "      <th>resting_ekg_results</th>\n",
              "      <th>serum_cholesterol_mg_per_dl</th>\n",
              "      <th>sex</th>\n",
              "      <th>age</th>\n",
              "      <th>max_heart_rate_achieved</th>\n",
              "      <th>exercise_induced_angina</th>\n",
              "      <th>slope_of_peak_exercise_st_segment_2</th>\n",
              "      <th>chest_pain_type_4</th>\n",
              "      <th>num_major_vessels_0</th>\n",
              "      <th>added</th>\n",
              "    </tr>\n",
              "  </thead>\n",
              "  <tbody>\n",
              "    <tr>\n",
              "      <th>37</th>\n",
              "      <td>0</td>\n",
              "      <td>124</td>\n",
              "      <td>0</td>\n",
              "      <td>209</td>\n",
              "      <td>0</td>\n",
              "      <td>62</td>\n",
              "      <td>163</td>\n",
              "      <td>0</td>\n",
              "      <td>0</td>\n",
              "      <td>1</td>\n",
              "      <td>1</td>\n",
              "      <td>0.0</td>\n",
              "    </tr>\n",
              "  </tbody>\n",
              "</table>\n",
              "</div>"
            ],
            "text/plain": [
              "    thal  resting_blood_pressure  resting_ekg_results  \\\n",
              "37     0                     124                    0   \n",
              "\n",
              "    serum_cholesterol_mg_per_dl  sex  age  max_heart_rate_achieved  \\\n",
              "37                          209    0   62                      163   \n",
              "\n",
              "    exercise_induced_angina  slope_of_peak_exercise_st_segment_2  \\\n",
              "37                        0                                    0   \n",
              "\n",
              "    chest_pain_type_4  num_major_vessels_0  added  \n",
              "37                  1                    1    0.0  "
            ]
          },
          "metadata": {
            "tags": []
          },
          "execution_count": 9
        }
      ]
    },
    {
      "cell_type": "code",
      "metadata": {
        "id": "e8WuvIz29-3z",
        "colab_type": "code",
        "outputId": "d4c69ccd-2e85-4481-9ec9-5670b96b416b",
        "colab": {
          "base_uri": "https://localhost:8080/",
          "height": 99
        }
      },
      "source": [
        "pd.DataFrame(df_train_v.columns).T.iloc[:,0:9]"
      ],
      "execution_count": 0,
      "outputs": [
        {
          "output_type": "execute_result",
          "data": {
            "text/html": [
              "<div>\n",
              "<style scoped>\n",
              "    .dataframe tbody tr th:only-of-type {\n",
              "        vertical-align: middle;\n",
              "    }\n",
              "\n",
              "    .dataframe tbody tr th {\n",
              "        vertical-align: top;\n",
              "    }\n",
              "\n",
              "    .dataframe thead th {\n",
              "        text-align: right;\n",
              "    }\n",
              "</style>\n",
              "<table border=\"1\" class=\"dataframe\">\n",
              "  <thead>\n",
              "    <tr style=\"text-align: right;\">\n",
              "      <th></th>\n",
              "      <th>0</th>\n",
              "      <th>1</th>\n",
              "      <th>2</th>\n",
              "      <th>3</th>\n",
              "      <th>4</th>\n",
              "      <th>5</th>\n",
              "      <th>6</th>\n",
              "      <th>7</th>\n",
              "      <th>8</th>\n",
              "    </tr>\n",
              "  </thead>\n",
              "  <tbody>\n",
              "    <tr>\n",
              "      <th>0</th>\n",
              "      <td>thal</td>\n",
              "      <td>resting_blood_pressure</td>\n",
              "      <td>resting_ekg_results</td>\n",
              "      <td>serum_cholesterol_mg_per_dl</td>\n",
              "      <td>sex</td>\n",
              "      <td>age</td>\n",
              "      <td>max_heart_rate_achieved</td>\n",
              "      <td>exercise_induced_angina</td>\n",
              "      <td>slope_of_peak_exercise_st_segment_2</td>\n",
              "    </tr>\n",
              "  </tbody>\n",
              "</table>\n",
              "</div>"
            ],
            "text/plain": [
              "      0                       1                    2  \\\n",
              "0  thal  resting_blood_pressure  resting_ekg_results   \n",
              "\n",
              "                             3    4    5                        6  \\\n",
              "0  serum_cholesterol_mg_per_dl  sex  age  max_heart_rate_achieved   \n",
              "\n",
              "                         7                                    8  \n",
              "0  exercise_induced_angina  slope_of_peak_exercise_st_segment_2  "
            ]
          },
          "metadata": {
            "tags": []
          },
          "execution_count": 10
        }
      ]
    },
    {
      "cell_type": "code",
      "metadata": {
        "id": "5IU8TH_lFI2G",
        "colab_type": "code",
        "outputId": "e70efa0d-9573-4948-8175-5a9e45308c12",
        "colab": {
          "base_uri": "https://localhost:8080/",
          "height": 79
        }
      },
      "source": [
        "pd.DataFrame(df_train_v.columns).T.iloc[:,9:14]"
      ],
      "execution_count": 0,
      "outputs": [
        {
          "output_type": "execute_result",
          "data": {
            "text/html": [
              "<div>\n",
              "<style scoped>\n",
              "    .dataframe tbody tr th:only-of-type {\n",
              "        vertical-align: middle;\n",
              "    }\n",
              "\n",
              "    .dataframe tbody tr th {\n",
              "        vertical-align: top;\n",
              "    }\n",
              "\n",
              "    .dataframe thead th {\n",
              "        text-align: right;\n",
              "    }\n",
              "</style>\n",
              "<table border=\"1\" class=\"dataframe\">\n",
              "  <thead>\n",
              "    <tr style=\"text-align: right;\">\n",
              "      <th></th>\n",
              "      <th>9</th>\n",
              "      <th>10</th>\n",
              "      <th>11</th>\n",
              "    </tr>\n",
              "  </thead>\n",
              "  <tbody>\n",
              "    <tr>\n",
              "      <th>0</th>\n",
              "      <td>chest_pain_type_4</td>\n",
              "      <td>num_major_vessels_0</td>\n",
              "      <td>added</td>\n",
              "    </tr>\n",
              "  </tbody>\n",
              "</table>\n",
              "</div>"
            ],
            "text/plain": [
              "                  9                    10     11\n",
              "0  chest_pain_type_4  num_major_vessels_0  added"
            ]
          },
          "metadata": {
            "tags": []
          },
          "execution_count": 11
        }
      ]
    },
    {
      "cell_type": "code",
      "metadata": {
        "id": "7OvYF2uB-WVd",
        "colab_type": "code",
        "colab": {}
      },
      "source": [
        "# convert to values\n",
        "df_train_v = (df_train_v.values).astype('float32')\n",
        "df_train_v = preprocessing.scale(df_train_v)\n",
        "df_train_l = df_train_l.values.astype('float32')"
      ],
      "execution_count": 0,
      "outputs": []
    },
    {
      "cell_type": "code",
      "metadata": {
        "id": "ER_k0xfHfYRg",
        "colab_type": "code",
        "outputId": "ef96b29d-1854-43f6-9c13-04bf8189f2b8",
        "colab": {
          "base_uri": "https://localhost:8080/",
          "height": 34
        }
      },
      "source": [
        "df_train_v.shape"
      ],
      "execution_count": 0,
      "outputs": [
        {
          "output_type": "execute_result",
          "data": {
            "text/plain": [
              "(180, 12)"
            ]
          },
          "metadata": {
            "tags": []
          },
          "execution_count": 14
        }
      ]
    },
    {
      "cell_type": "code",
      "metadata": {
        "id": "gnxLCdDsvDVC",
        "colab_type": "code",
        "outputId": "b07cb21e-1747-4b83-8c43-9abcd7213846",
        "colab": {
          "base_uri": "https://localhost:8080/",
          "height": 51
        }
      },
      "source": [
        "# train test split\n",
        "x_train, x_test, y_train, y_test = train_test_split(df_train_v, df_train_l, test_size=0.2)\n",
        "print('x_train shape:', x_train.shape)\n",
        "print(x_train.shape[0], 'train samples')\n",
        "\n",
        "# convert column-vector to 1d array\n",
        "y_train = np.ravel(y_train)"
      ],
      "execution_count": 0,
      "outputs": [
        {
          "output_type": "stream",
          "text": [
            "x_train shape: (144, 12)\n",
            "144 train samples\n"
          ],
          "name": "stdout"
        }
      ]
    },
    {
      "cell_type": "markdown",
      "metadata": {
        "id": "tW_7GlxRRDrH",
        "colab_type": "text"
      },
      "source": [
        "## Indaba Test "
      ]
    },
    {
      "cell_type": "code",
      "metadata": {
        "id": "UrWfggZhRIgQ",
        "colab_type": "code",
        "colab": {}
      },
      "source": [
        "# load the test set\n",
        "downloaded_test_v = drive.CreateFile({'id':'************'})\n",
        "downloaded_test_v.GetContentFile('test_values.csv')\n",
        "\n",
        "df_test_v = pd.read_csv(\"test_values.csv\")\n",
        "test_indabax = df_test_v.copy()\n",
        "\n",
        "# preprocess test set\n",
        "test_indabax['thal'] = test_indabax['thal'].replace({'normal':0,'reversible_defect':1, 'fixed_defect':2})\n",
        "test_indabax = pd.get_dummies(test_indabax, columns=['slope_of_peak_exercise_st_segment','chest_pain_type','num_major_vessels'])\n",
        "test_indabax[\"added\"]=test_indabax['oldpeak_eq_st_depression']/test_indabax['max_heart_rate_achieved']\n",
        "test_indabax = test_indabax.drop(\"patient_id\",axis=1)\n",
        "test_indabax = test_indabax.drop([\"fasting_blood_sugar_gt_120_mg_per_dl\",\n",
        "                                  \"oldpeak_eq_st_depression\",\n",
        "                                  \"slope_of_peak_exercise_st_segment_1\",\n",
        "                                  \"slope_of_peak_exercise_st_segment_3\",\n",
        "                                  \"chest_pain_type_1\",\n",
        "                                  \"chest_pain_type_2\",\n",
        "                                  \"chest_pain_type_3\",\n",
        "                                  \"num_major_vessels_1\",\n",
        "                                  \"num_major_vessels_2\",\n",
        "                                  \"num_major_vessels_3\"], \n",
        "                                 axis=1)\n",
        "test_indabax = (test_indabax.values).astype('float32')\n",
        "test_indabax = preprocessing.scale(test_indabax)\n",
        "\n",
        "# load submission form\n",
        "sub_form = drive.CreateFile({'id':'*****************'})\n",
        "sub_form.GetContentFile('submission_format.csv')\n",
        "\n",
        "df_sub = pd.read_csv(\"submission_format.csv\")\n",
        "df_sub_indabax = df_sub.copy()"
      ],
      "execution_count": 0,
      "outputs": []
    },
    {
      "cell_type": "markdown",
      "metadata": {
        "id": "JEIEjF4KFBvy",
        "colab_type": "text"
      },
      "source": [
        "# Training"
      ]
    },
    {
      "cell_type": "code",
      "metadata": {
        "id": "pJTvqnRMrPvR",
        "colab_type": "code",
        "colab": {}
      },
      "source": [
        "x_train, x_test, y_train, y_test = train_test_split(df_train_v, df_train_l, test_size=0.2)\n",
        "y_train = np.ravel(y_train)"
      ],
      "execution_count": 0,
      "outputs": []
    },
    {
      "cell_type": "code",
      "metadata": {
        "id": "d3_PA9yKuWBe",
        "colab_type": "code",
        "outputId": "3c105b9f-0a9f-4047-93e0-4297204dfa4b",
        "colab": {
          "base_uri": "https://localhost:8080/",
          "height": 3642
        }
      },
      "source": [
        "folds = 10\n",
        "param_comb = 100\n",
        "max_depth = [6]\n",
        "n_estimators = range(1, 200)\n",
        "\n",
        "skf = StratifiedKFold(n_splits=folds, shuffle = True, random_state=7)\n",
        "\n",
        "param_grid = dict(max_depth=max_depth, n_estimators=n_estimators)\n",
        "\n",
        "model = xgb.XGBClassifier(gamma=0.95, learning_rate=0.1, \n",
        "                          min_child_weight=3, subsample=0.8, rate_drop=0.1)\n",
        "\n",
        "grid_search = GridSearchCV(model, param_grid, scoring='neg_log_loss', n_jobs=-1, cv=skf, verbose=1)\n",
        "\n",
        "grid_result = grid_search.fit(x_train, y_train)\n",
        "\n",
        "# summarize results\n",
        "print(\"Best: %f using %s\" % (grid_result.best_score_, grid_result.best_params_))\n",
        "means = grid_result.cv_results_['mean_test_score']\n",
        "stds = grid_result.cv_results_['std_test_score']\n",
        "params = grid_result.cv_results_['params']\n",
        "for mean, stdev, param in zip(means, stds, params):\n",
        "  print(\"%f (%f) with: %r\" % (mean, stdev, param))\n",
        "\n",
        "predictions = grid_search.predict_proba(x_test)[:, 1]\n",
        "print(\"\\n TEST log loss is :\", log_loss(y_test, predictions))"
      ],
      "execution_count": 0,
      "outputs": [
        {
          "output_type": "stream",
          "text": [
            "Fitting 10 folds for each of 199 candidates, totalling 1990 fits\n"
          ],
          "name": "stdout"
        },
        {
          "output_type": "stream",
          "text": [
            "[Parallel(n_jobs=-1)]: Using backend LokyBackend with 2 concurrent workers.\n",
            "[Parallel(n_jobs=-1)]: Done 1084 tasks      | elapsed:   15.1s\n"
          ],
          "name": "stderr"
        },
        {
          "output_type": "stream",
          "text": [
            "Best: -0.461006 using {'max_depth': 6, 'n_estimators': 60}\n",
            "-0.664971 (0.014005) with: {'max_depth': 6, 'n_estimators': 1}\n",
            "-0.636937 (0.025726) with: {'max_depth': 6, 'n_estimators': 2}\n",
            "-0.620992 (0.035400) with: {'max_depth': 6, 'n_estimators': 3}\n",
            "-0.604636 (0.048282) with: {'max_depth': 6, 'n_estimators': 4}\n",
            "-0.592732 (0.059469) with: {'max_depth': 6, 'n_estimators': 5}\n",
            "-0.576393 (0.061136) with: {'max_depth': 6, 'n_estimators': 6}\n",
            "-0.562549 (0.067331) with: {'max_depth': 6, 'n_estimators': 7}\n",
            "-0.551049 (0.073743) with: {'max_depth': 6, 'n_estimators': 8}\n",
            "-0.546613 (0.080581) with: {'max_depth': 6, 'n_estimators': 9}\n",
            "-0.537371 (0.083525) with: {'max_depth': 6, 'n_estimators': 10}\n",
            "-0.531888 (0.090538) with: {'max_depth': 6, 'n_estimators': 11}\n",
            "-0.525691 (0.092117) with: {'max_depth': 6, 'n_estimators': 12}\n",
            "-0.521387 (0.096851) with: {'max_depth': 6, 'n_estimators': 13}\n",
            "-0.513923 (0.097373) with: {'max_depth': 6, 'n_estimators': 14}\n",
            "-0.510372 (0.100028) with: {'max_depth': 6, 'n_estimators': 15}\n",
            "-0.503707 (0.105920) with: {'max_depth': 6, 'n_estimators': 16}\n",
            "-0.502604 (0.111981) with: {'max_depth': 6, 'n_estimators': 17}\n",
            "-0.497315 (0.115295) with: {'max_depth': 6, 'n_estimators': 18}\n",
            "-0.493247 (0.120198) with: {'max_depth': 6, 'n_estimators': 19}\n",
            "-0.491247 (0.125907) with: {'max_depth': 6, 'n_estimators': 20}\n",
            "-0.489881 (0.127631) with: {'max_depth': 6, 'n_estimators': 21}\n",
            "-0.489087 (0.125117) with: {'max_depth': 6, 'n_estimators': 22}\n",
            "-0.486560 (0.126910) with: {'max_depth': 6, 'n_estimators': 23}\n",
            "-0.485765 (0.131251) with: {'max_depth': 6, 'n_estimators': 24}\n",
            "-0.485026 (0.135285) with: {'max_depth': 6, 'n_estimators': 25}\n",
            "-0.482907 (0.134927) with: {'max_depth': 6, 'n_estimators': 26}\n",
            "-0.479343 (0.136245) with: {'max_depth': 6, 'n_estimators': 27}\n",
            "-0.477546 (0.134447) with: {'max_depth': 6, 'n_estimators': 28}\n",
            "-0.477614 (0.135911) with: {'max_depth': 6, 'n_estimators': 29}\n",
            "-0.481281 (0.142646) with: {'max_depth': 6, 'n_estimators': 30}\n",
            "-0.481477 (0.144363) with: {'max_depth': 6, 'n_estimators': 31}\n",
            "-0.479612 (0.147805) with: {'max_depth': 6, 'n_estimators': 32}\n",
            "-0.478326 (0.150895) with: {'max_depth': 6, 'n_estimators': 33}\n",
            "-0.476264 (0.155792) with: {'max_depth': 6, 'n_estimators': 34}\n",
            "-0.474822 (0.158071) with: {'max_depth': 6, 'n_estimators': 35}\n",
            "-0.475050 (0.160136) with: {'max_depth': 6, 'n_estimators': 36}\n",
            "-0.470655 (0.160613) with: {'max_depth': 6, 'n_estimators': 37}\n",
            "-0.470639 (0.160225) with: {'max_depth': 6, 'n_estimators': 38}\n",
            "-0.467810 (0.164584) with: {'max_depth': 6, 'n_estimators': 39}\n",
            "-0.465543 (0.167054) with: {'max_depth': 6, 'n_estimators': 40}\n",
            "-0.462853 (0.166211) with: {'max_depth': 6, 'n_estimators': 41}\n",
            "-0.463557 (0.168940) with: {'max_depth': 6, 'n_estimators': 42}\n",
            "-0.462506 (0.170729) with: {'max_depth': 6, 'n_estimators': 43}\n",
            "-0.462475 (0.172093) with: {'max_depth': 6, 'n_estimators': 44}\n",
            "-0.463702 (0.172551) with: {'max_depth': 6, 'n_estimators': 45}\n",
            "-0.465192 (0.175036) with: {'max_depth': 6, 'n_estimators': 46}\n",
            "-0.463072 (0.173603) with: {'max_depth': 6, 'n_estimators': 47}\n",
            "-0.464190 (0.174790) with: {'max_depth': 6, 'n_estimators': 48}\n",
            "-0.463510 (0.174110) with: {'max_depth': 6, 'n_estimators': 49}\n",
            "-0.462915 (0.178797) with: {'max_depth': 6, 'n_estimators': 50}\n",
            "-0.464385 (0.179106) with: {'max_depth': 6, 'n_estimators': 51}\n",
            "-0.463979 (0.182289) with: {'max_depth': 6, 'n_estimators': 52}\n",
            "-0.464424 (0.183969) with: {'max_depth': 6, 'n_estimators': 53}\n",
            "-0.466101 (0.183399) with: {'max_depth': 6, 'n_estimators': 54}\n",
            "-0.464143 (0.184410) with: {'max_depth': 6, 'n_estimators': 55}\n",
            "-0.463850 (0.185412) with: {'max_depth': 6, 'n_estimators': 56}\n",
            "-0.462614 (0.185951) with: {'max_depth': 6, 'n_estimators': 57}\n",
            "-0.461936 (0.188319) with: {'max_depth': 6, 'n_estimators': 58}\n",
            "-0.461758 (0.191696) with: {'max_depth': 6, 'n_estimators': 59}\n",
            "-0.461006 (0.192155) with: {'max_depth': 6, 'n_estimators': 60}\n",
            "-0.463709 (0.196055) with: {'max_depth': 6, 'n_estimators': 61}\n",
            "-0.464342 (0.195904) with: {'max_depth': 6, 'n_estimators': 62}\n",
            "-0.464377 (0.195887) with: {'max_depth': 6, 'n_estimators': 63}\n",
            "-0.462881 (0.194126) with: {'max_depth': 6, 'n_estimators': 64}\n",
            "-0.461938 (0.194713) with: {'max_depth': 6, 'n_estimators': 65}\n",
            "-0.463018 (0.195802) with: {'max_depth': 6, 'n_estimators': 66}\n",
            "-0.463613 (0.195642) with: {'max_depth': 6, 'n_estimators': 67}\n",
            "-0.464592 (0.196032) with: {'max_depth': 6, 'n_estimators': 68}\n",
            "-0.465607 (0.195968) with: {'max_depth': 6, 'n_estimators': 69}\n",
            "-0.464704 (0.196691) with: {'max_depth': 6, 'n_estimators': 70}\n",
            "-0.464899 (0.197890) with: {'max_depth': 6, 'n_estimators': 71}\n",
            "-0.464752 (0.198903) with: {'max_depth': 6, 'n_estimators': 72}\n",
            "-0.463750 (0.197349) with: {'max_depth': 6, 'n_estimators': 73}\n",
            "-0.464758 (0.199515) with: {'max_depth': 6, 'n_estimators': 74}\n",
            "-0.464080 (0.199604) with: {'max_depth': 6, 'n_estimators': 75}\n",
            "-0.464552 (0.200109) with: {'max_depth': 6, 'n_estimators': 76}\n",
            "-0.466221 (0.201629) with: {'max_depth': 6, 'n_estimators': 77}\n",
            "-0.467030 (0.200749) with: {'max_depth': 6, 'n_estimators': 78}\n",
            "-0.468443 (0.204560) with: {'max_depth': 6, 'n_estimators': 79}\n",
            "-0.469560 (0.206197) with: {'max_depth': 6, 'n_estimators': 80}\n",
            "-0.472034 (0.206871) with: {'max_depth': 6, 'n_estimators': 81}\n",
            "-0.469718 (0.206521) with: {'max_depth': 6, 'n_estimators': 82}\n",
            "-0.469585 (0.205444) with: {'max_depth': 6, 'n_estimators': 83}\n",
            "-0.470686 (0.207035) with: {'max_depth': 6, 'n_estimators': 84}\n",
            "-0.472050 (0.210496) with: {'max_depth': 6, 'n_estimators': 85}\n",
            "-0.472510 (0.210124) with: {'max_depth': 6, 'n_estimators': 86}\n",
            "-0.471189 (0.208731) with: {'max_depth': 6, 'n_estimators': 87}\n",
            "-0.471926 (0.208544) with: {'max_depth': 6, 'n_estimators': 88}\n",
            "-0.472559 (0.209152) with: {'max_depth': 6, 'n_estimators': 89}\n",
            "-0.473687 (0.210237) with: {'max_depth': 6, 'n_estimators': 90}\n",
            "-0.475574 (0.211882) with: {'max_depth': 6, 'n_estimators': 91}\n",
            "-0.473379 (0.210566) with: {'max_depth': 6, 'n_estimators': 92}\n",
            "-0.474135 (0.212436) with: {'max_depth': 6, 'n_estimators': 93}\n",
            "-0.474865 (0.213376) with: {'max_depth': 6, 'n_estimators': 94}\n",
            "-0.476047 (0.212867) with: {'max_depth': 6, 'n_estimators': 95}\n",
            "-0.475359 (0.212938) with: {'max_depth': 6, 'n_estimators': 96}\n",
            "-0.477185 (0.215289) with: {'max_depth': 6, 'n_estimators': 97}\n",
            "-0.478727 (0.215425) with: {'max_depth': 6, 'n_estimators': 98}\n",
            "-0.478232 (0.215399) with: {'max_depth': 6, 'n_estimators': 99}\n",
            "-0.477687 (0.215872) with: {'max_depth': 6, 'n_estimators': 100}\n",
            "-0.476703 (0.215834) with: {'max_depth': 6, 'n_estimators': 101}\n",
            "-0.476564 (0.216406) with: {'max_depth': 6, 'n_estimators': 102}\n",
            "-0.477051 (0.216394) with: {'max_depth': 6, 'n_estimators': 103}\n",
            "-0.476768 (0.216614) with: {'max_depth': 6, 'n_estimators': 104}\n",
            "-0.477065 (0.216386) with: {'max_depth': 6, 'n_estimators': 105}\n",
            "-0.476810 (0.216507) with: {'max_depth': 6, 'n_estimators': 106}\n",
            "-0.478896 (0.216573) with: {'max_depth': 6, 'n_estimators': 107}\n",
            "-0.478170 (0.215523) with: {'max_depth': 6, 'n_estimators': 108}\n",
            "-0.479276 (0.215894) with: {'max_depth': 6, 'n_estimators': 109}\n",
            "-0.480292 (0.216136) with: {'max_depth': 6, 'n_estimators': 110}\n",
            "-0.479970 (0.216578) with: {'max_depth': 6, 'n_estimators': 111}\n",
            "-0.481286 (0.216705) with: {'max_depth': 6, 'n_estimators': 112}\n",
            "-0.480953 (0.216850) with: {'max_depth': 6, 'n_estimators': 113}\n",
            "-0.481494 (0.218223) with: {'max_depth': 6, 'n_estimators': 114}\n",
            "-0.482012 (0.217589) with: {'max_depth': 6, 'n_estimators': 115}\n",
            "-0.483084 (0.217720) with: {'max_depth': 6, 'n_estimators': 116}\n",
            "-0.484203 (0.218541) with: {'max_depth': 6, 'n_estimators': 117}\n",
            "-0.485261 (0.218800) with: {'max_depth': 6, 'n_estimators': 118}\n",
            "-0.485314 (0.218663) with: {'max_depth': 6, 'n_estimators': 119}\n",
            "-0.487289 (0.220755) with: {'max_depth': 6, 'n_estimators': 120}\n",
            "-0.487963 (0.221552) with: {'max_depth': 6, 'n_estimators': 121}\n",
            "-0.488920 (0.222817) with: {'max_depth': 6, 'n_estimators': 122}\n",
            "-0.488049 (0.222694) with: {'max_depth': 6, 'n_estimators': 123}\n",
            "-0.488217 (0.223145) with: {'max_depth': 6, 'n_estimators': 124}\n",
            "-0.488826 (0.223576) with: {'max_depth': 6, 'n_estimators': 125}\n",
            "-0.489552 (0.224680) with: {'max_depth': 6, 'n_estimators': 126}\n",
            "-0.490729 (0.225241) with: {'max_depth': 6, 'n_estimators': 127}\n",
            "-0.490721 (0.226096) with: {'max_depth': 6, 'n_estimators': 128}\n",
            "-0.489942 (0.225896) with: {'max_depth': 6, 'n_estimators': 129}\n",
            "-0.490457 (0.226076) with: {'max_depth': 6, 'n_estimators': 130}\n",
            "-0.490465 (0.225231) with: {'max_depth': 6, 'n_estimators': 131}\n",
            "-0.490029 (0.223755) with: {'max_depth': 6, 'n_estimators': 132}\n",
            "-0.490081 (0.223812) with: {'max_depth': 6, 'n_estimators': 133}\n",
            "-0.488430 (0.223271) with: {'max_depth': 6, 'n_estimators': 134}\n",
            "-0.489192 (0.222727) with: {'max_depth': 6, 'n_estimators': 135}\n",
            "-0.489333 (0.222969) with: {'max_depth': 6, 'n_estimators': 136}\n",
            "-0.489784 (0.223358) with: {'max_depth': 6, 'n_estimators': 137}\n",
            "-0.490961 (0.222294) with: {'max_depth': 6, 'n_estimators': 138}\n",
            "-0.491206 (0.223007) with: {'max_depth': 6, 'n_estimators': 139}\n",
            "-0.490780 (0.222637) with: {'max_depth': 6, 'n_estimators': 140}\n",
            "-0.491268 (0.223188) with: {'max_depth': 6, 'n_estimators': 141}\n",
            "-0.492338 (0.224970) with: {'max_depth': 6, 'n_estimators': 142}\n",
            "-0.491762 (0.224986) with: {'max_depth': 6, 'n_estimators': 143}\n",
            "-0.492170 (0.224401) with: {'max_depth': 6, 'n_estimators': 144}\n",
            "-0.492027 (0.224203) with: {'max_depth': 6, 'n_estimators': 145}\n",
            "-0.492703 (0.224148) with: {'max_depth': 6, 'n_estimators': 146}\n",
            "-0.492743 (0.224192) with: {'max_depth': 6, 'n_estimators': 147}\n",
            "-0.491837 (0.224058) with: {'max_depth': 6, 'n_estimators': 148}\n",
            "-0.492079 (0.224121) with: {'max_depth': 6, 'n_estimators': 149}\n",
            "-0.493790 (0.223936) with: {'max_depth': 6, 'n_estimators': 150}\n",
            "-0.494332 (0.224090) with: {'max_depth': 6, 'n_estimators': 151}\n",
            "-0.495289 (0.225072) with: {'max_depth': 6, 'n_estimators': 152}\n",
            "-0.494945 (0.225138) with: {'max_depth': 6, 'n_estimators': 153}\n",
            "-0.495472 (0.227810) with: {'max_depth': 6, 'n_estimators': 154}\n",
            "-0.496557 (0.228400) with: {'max_depth': 6, 'n_estimators': 155}\n",
            "-0.497360 (0.228355) with: {'max_depth': 6, 'n_estimators': 156}\n",
            "-0.498179 (0.228307) with: {'max_depth': 6, 'n_estimators': 157}\n",
            "-0.497905 (0.227851) with: {'max_depth': 6, 'n_estimators': 158}\n",
            "-0.497535 (0.227860) with: {'max_depth': 6, 'n_estimators': 159}\n",
            "-0.498598 (0.227510) with: {'max_depth': 6, 'n_estimators': 160}\n",
            "-0.499775 (0.230118) with: {'max_depth': 6, 'n_estimators': 161}\n",
            "-0.502098 (0.230843) with: {'max_depth': 6, 'n_estimators': 162}\n",
            "-0.502433 (0.232549) with: {'max_depth': 6, 'n_estimators': 163}\n",
            "-0.502447 (0.232091) with: {'max_depth': 6, 'n_estimators': 164}\n",
            "-0.501961 (0.231150) with: {'max_depth': 6, 'n_estimators': 165}\n",
            "-0.501329 (0.231121) with: {'max_depth': 6, 'n_estimators': 166}\n",
            "-0.503000 (0.231995) with: {'max_depth': 6, 'n_estimators': 167}\n",
            "-0.503293 (0.231778) with: {'max_depth': 6, 'n_estimators': 168}\n",
            "-0.503365 (0.231971) with: {'max_depth': 6, 'n_estimators': 169}\n",
            "-0.503407 (0.232148) with: {'max_depth': 6, 'n_estimators': 170}\n",
            "-0.501520 (0.232445) with: {'max_depth': 6, 'n_estimators': 171}\n",
            "-0.501839 (0.232500) with: {'max_depth': 6, 'n_estimators': 172}\n",
            "-0.502484 (0.232621) with: {'max_depth': 6, 'n_estimators': 173}\n",
            "-0.504072 (0.233386) with: {'max_depth': 6, 'n_estimators': 174}\n",
            "-0.504017 (0.233288) with: {'max_depth': 6, 'n_estimators': 175}\n",
            "-0.502899 (0.231661) with: {'max_depth': 6, 'n_estimators': 176}\n",
            "-0.502444 (0.231716) with: {'max_depth': 6, 'n_estimators': 177}\n",
            "-0.503663 (0.231867) with: {'max_depth': 6, 'n_estimators': 178}\n",
            "-0.503954 (0.232526) with: {'max_depth': 6, 'n_estimators': 179}\n",
            "-0.505032 (0.233620) with: {'max_depth': 6, 'n_estimators': 180}\n",
            "-0.505612 (0.233746) with: {'max_depth': 6, 'n_estimators': 181}\n",
            "-0.505367 (0.233504) with: {'max_depth': 6, 'n_estimators': 182}\n",
            "-0.506264 (0.233298) with: {'max_depth': 6, 'n_estimators': 183}\n",
            "-0.506502 (0.233647) with: {'max_depth': 6, 'n_estimators': 184}\n",
            "-0.507265 (0.232723) with: {'max_depth': 6, 'n_estimators': 185}\n",
            "-0.507089 (0.233328) with: {'max_depth': 6, 'n_estimators': 186}\n",
            "-0.507329 (0.233431) with: {'max_depth': 6, 'n_estimators': 187}\n",
            "-0.507043 (0.233186) with: {'max_depth': 6, 'n_estimators': 188}\n",
            "-0.507487 (0.233032) with: {'max_depth': 6, 'n_estimators': 189}\n",
            "-0.505918 (0.233124) with: {'max_depth': 6, 'n_estimators': 190}\n",
            "-0.505691 (0.233079) with: {'max_depth': 6, 'n_estimators': 191}\n",
            "-0.507694 (0.235422) with: {'max_depth': 6, 'n_estimators': 192}\n",
            "-0.506685 (0.234880) with: {'max_depth': 6, 'n_estimators': 193}\n",
            "-0.507112 (0.234871) with: {'max_depth': 6, 'n_estimators': 194}\n",
            "-0.506487 (0.233932) with: {'max_depth': 6, 'n_estimators': 195}\n",
            "-0.506770 (0.233633) with: {'max_depth': 6, 'n_estimators': 196}\n",
            "-0.507536 (0.235190) with: {'max_depth': 6, 'n_estimators': 197}\n",
            "-0.506239 (0.235059) with: {'max_depth': 6, 'n_estimators': 198}\n",
            "-0.506314 (0.237386) with: {'max_depth': 6, 'n_estimators': 199}\n",
            "\n",
            " TEST log loss is : 0.29113654637088376\n"
          ],
          "name": "stdout"
        },
        {
          "output_type": "stream",
          "text": [
            "[Parallel(n_jobs=-1)]: Done 1990 out of 1990 | elapsed:   46.0s finished\n",
            "/usr/local/lib/python3.6/dist-packages/sklearn/model_selection/_search.py:841: DeprecationWarning: The default of the `iid` parameter will change from True to False in version 0.22 and will be removed in 0.24. This will change numeric results when test-set sizes are unequal.\n",
            "  DeprecationWarning)\n"
          ],
          "name": "stderr"
        }
      ]
    },
    {
      "cell_type": "code",
      "metadata": {
        "id": "SRUn6TEulKun",
        "colab_type": "code",
        "outputId": "690f6cbc-f175-4d70-9bf3-02453445c482",
        "colab": {
          "base_uri": "https://localhost:8080/",
          "height": 284
        }
      },
      "source": [
        "# plot results\n",
        "scores = np.array(means).reshape(len(max_depth), len(n_estimators))\n",
        "for i, value in enumerate(max_depth):\n",
        "    plt.plot(n_estimators, scores[i], label='depth: ' + str(value))\n",
        "plt.legend()\n",
        "plt.xlabel('n_estimators')\n",
        "plt.ylabel('Log Loss')\n",
        "plt.savefig('n_estimators_vs_max_depth.png')"
      ],
      "execution_count": 0,
      "outputs": [
        {
          "output_type": "display_data",
          "data": {
            "image/png": "[encoded data removed]",
            "text/plain": [
              "<Figure size 432x288 with 1 Axes>"
            ]
          },
          "metadata": {
            "tags": []
          }
        }
      ]
    },
    {
      "cell_type": "code",
      "metadata": {
        "id": "BnIKnlpfwMH6",
        "colab_type": "code",
        "outputId": "dc6374a7-f1fb-408e-e344-d6a538a2c753",
        "colab": {
          "base_uri": "https://localhost:8080/",
          "height": 269
        }
      },
      "source": [
        "plt.bar(range(len(grid_search.best_estimator_.feature_importances_)), grid_search.best_estimator_.feature_importances_)\n",
        "plt.show()"
      ],
      "execution_count": 0,
      "outputs": [
        {
          "output_type": "display_data",
          "data": {
            "image/png": "[encoded data removed]",
            "text/plain": [
              "<Figure size 432x288 with 1 Axes>"
            ]
          },
          "metadata": {
            "tags": []
          }
        }
      ]
    },
    {
      "cell_type": "code",
      "metadata": {
        "id": "9Ae7TR00vTg5",
        "colab_type": "code",
        "outputId": "04eed503-0f95-4b04-d6bf-bcca1b8bbbf8",
        "colab": {
          "base_uri": "https://localhost:8080/",
          "height": 295
        }
      },
      "source": [
        "from xgboost import plot_importance\n",
        "\n",
        "plot_importance(grid_search.best_estimator_)\n",
        "plt.show()"
      ],
      "execution_count": 0,
      "outputs": [
        {
          "output_type": "display_data",
          "data": {
            "image/png": "[encoded data removed]",
            "text/plain": [
              "<Figure size 432x288 with 1 Axes>"
            ]
          },
          "metadata": {
            "tags": []
          }
        }
      ]
    },
    {
      "cell_type": "code",
      "metadata": {
        "id": "SPE-rkLDzV1f",
        "colab_type": "code",
        "outputId": "773e8589-9b21-4c4d-9672-da7ce9990d86",
        "colab": {
          "base_uri": "https://localhost:8080/",
          "height": 398
        }
      },
      "source": [
        "from sklearn.feature_selection import SelectFromModel\n",
        "from sklearn.metrics import accuracy_score\n",
        "\n",
        "thresholds = np.sort(grid_search.best_estimator_.feature_importances_)\n",
        "for thresh in thresholds:\n",
        "\t# select features using threshold\n",
        "\tselection = SelectFromModel(grid_search.best_estimator_, threshold=thresh, prefit=True)\n",
        "\tselect_x_train = selection.transform(x_train)\n",
        "\t# train model\n",
        "\tselection_model = xgb.XGBClassifier(gamma=0, learning_rate=0.05, min_child_weight=3, max_depth = 1, n_estimators=365)\n",
        "\tselection_model.fit(select_x_train, y_train)\n",
        "\t# eval model\n",
        "\tselect_x_test = selection.transform(x_test)\n",
        "\ty_pred = selection_model.predict_proba(select_x_test)[:, 1]\n",
        "\tpredictions = [round(value) for value in y_pred]\n",
        "\taccuracy = accuracy_score(y_test, predictions)\n",
        "\tprint(\"Thresh=%.3f, n=%d, Accuracy: %.2f%%\" % (thresh, select_x_train.shape[1], accuracy*100.0))"
      ],
      "execution_count": 0,
      "outputs": [
        {
          "output_type": "stream",
          "text": [
            "Thresh=0.000, n=22, Accuracy: 75.00%\n",
            "Thresh=0.000, n=22, Accuracy: 75.00%\n",
            "Thresh=0.000, n=22, Accuracy: 75.00%\n",
            "Thresh=0.000, n=22, Accuracy: 75.00%\n",
            "Thresh=0.000, n=22, Accuracy: 75.00%\n",
            "Thresh=0.000, n=22, Accuracy: 75.00%\n",
            "Thresh=0.000, n=22, Accuracy: 75.00%\n",
            "Thresh=0.000, n=22, Accuracy: 75.00%\n",
            "Thresh=0.000, n=22, Accuracy: 75.00%\n",
            "Thresh=0.000, n=22, Accuracy: 75.00%\n",
            "Thresh=0.013, n=12, Accuracy: 75.00%\n",
            "Thresh=0.023, n=11, Accuracy: 75.00%\n",
            "Thresh=0.027, n=10, Accuracy: 77.78%\n",
            "Thresh=0.033, n=9, Accuracy: 80.56%\n",
            "Thresh=0.033, n=8, Accuracy: 91.67%\n",
            "Thresh=0.034, n=7, Accuracy: 83.33%\n",
            "Thresh=0.038, n=6, Accuracy: 86.11%\n",
            "Thresh=0.108, n=5, Accuracy: 83.33%\n",
            "Thresh=0.123, n=4, Accuracy: 88.89%\n",
            "Thresh=0.136, n=3, Accuracy: 83.33%\n",
            "Thresh=0.215, n=2, Accuracy: 77.78%\n",
            "Thresh=0.217, n=1, Accuracy: 80.56%\n"
          ],
          "name": "stdout"
        }
      ]
    },
    {
      "cell_type": "markdown",
      "metadata": {
        "id": "hb5b6vDgdEoT",
        "colab_type": "text"
      },
      "source": [
        "# Useful functions"
      ]
    },
    {
      "cell_type": "code",
      "metadata": {
        "id": "34ds7CnjP84C",
        "colab_type": "code",
        "colab": {}
      },
      "source": [
        "global_evaluation = {}\n",
        "\n",
        "def indabax_model(test_num):\n",
        "  x_train, x_test, y_train, y_test = train_test_split(df_train_v, df_train_l, test_size=0.2)\n",
        "  y_train = np.ravel(y_train)\n",
        "  \n",
        "  model = xgb.XGBClassifier(min_child_weight= 3, \n",
        "                            max_depth= 2, \n",
        "                            learning_rate= 0.1, \n",
        "                            gamma= 9, \n",
        "                            colsample_bytree= 0.8, \n",
        "                            subsample=0.5, \n",
        "                            n_estimators=50000, \n",
        "                            objective='binary:logistic', \n",
        "                            silent=True, \n",
        "                            nthread=1)\n",
        "\n",
        "  model.fit(x_train, y_train)\n",
        "\n",
        "  predictions = model.predict_proba(x_test)[:, 1]\n",
        "  loss = log_loss(y_test, predictions)\n",
        "  \n",
        "  global_evaluation.update({\"model_%d\" %test_num : [loss.round(4)]})\n",
        "\n",
        "  print(\"log loss of test %d is : %.4f\" %(test_num, loss))\n",
        "  \n",
        "  return model\n",
        "\n",
        "def prep_results(model, file):\n",
        "  predictions_indabax = model.predict_proba(test_indabax)\n",
        "  results = pd.DataFrame(predictions_indabax)\n",
        "  df_sub_indabax[\"heart_disease_present\"] = results\n",
        "  df_sub_indabax.to_csv(file, header=True, index=False)\n",
        "  \n",
        "  return df_sub_indabax\n",
        "\n",
        "def agregation_model(file, test_num):\n",
        "  model = indabax_model(test_num)\n",
        "  df_sub_indabax = prep_results(model, file)\n",
        "  \n",
        "  return model\n",
        "\n",
        "def validation_test(model_name):\n",
        "  loaded_model = joblib.load(model_name)\n",
        "  validation_pred = loaded_model.predict_proba(df_VALIDATION_v)[:, 1]\n",
        "  validation_loss = log_loss(np.ravel(df_VALIDATION_l), validation_pred)\n",
        "  \n",
        "  print(\"validation log loss is :\", validation_loss)"
      ],
      "execution_count": 0,
      "outputs": []
    },
    {
      "cell_type": "markdown",
      "metadata": {
        "id": "RZWLmyfmPUUG",
        "colab_type": "text"
      },
      "source": [
        "# Save results"
      ]
    },
    {
      "cell_type": "code",
      "metadata": {
        "id": "8gcvhS3eELpt",
        "colab_type": "code",
        "outputId": "8a858380-b2bd-4106-f611-262fec0687d4",
        "colab": {
          "base_uri": "https://localhost:8080/",
          "height": 34
        }
      },
      "source": [
        "from google.colab import drive\n",
        "drive.mount('/content/gdrive')"
      ],
      "execution_count": 0,
      "outputs": [
        {
          "output_type": "stream",
          "text": [
            "Drive already mounted at /content/gdrive; to attempt to forcibly remount, call drive.mount(\"/content/gdrive\", force_remount=True).\n"
          ],
          "name": "stdout"
        }
      ]
    },
    {
      "cell_type": "code",
      "metadata": {
        "id": "9u1Pu1ESEpQP",
        "colab_type": "code",
        "colab": {}
      },
      "source": [
        "!ls"
      ],
      "execution_count": 0,
      "outputs": []
    },
    {
      "cell_type": "markdown",
      "metadata": {
        "id": "U1Vl43OFFyBJ",
        "colab_type": "text"
      },
      "source": [
        "# Multi tests"
      ]
    },
    {
      "cell_type": "code",
      "metadata": {
        "id": "oqnim5o6AQr2",
        "colab_type": "code",
        "outputId": "818a83b1-a86e-4630-8ff8-ef175270b5f5",
        "colab": {
          "base_uri": "https://localhost:8080/",
          "height": 866
        }
      },
      "source": [
        "for i in range(1,50):\n",
        "  model = agregation_model(\"multi_%d.csv\" %i, i)\n",
        "  joblib.dump(model, \"model_%d.sav\" %i)"
      ],
      "execution_count": 0,
      "outputs": [
        {
          "output_type": "stream",
          "text": [
            "log loss of test 1 is : 0.3485\n",
            "log loss of test 2 is : 0.3644\n",
            "log loss of test 3 is : 0.5898\n",
            "log loss of test 4 is : 0.4486\n",
            "log loss of test 5 is : 0.4702\n",
            "log loss of test 6 is : 0.4931\n",
            "log loss of test 7 is : 0.5122\n",
            "log loss of test 8 is : 0.5214\n",
            "log loss of test 9 is : 0.4123\n",
            "log loss of test 10 is : 0.6202\n",
            "log loss of test 11 is : 0.3525\n",
            "log loss of test 12 is : 0.5107\n",
            "log loss of test 13 is : 0.3768\n",
            "log loss of test 14 is : 0.3948\n",
            "log loss of test 15 is : 0.2938\n",
            "log loss of test 16 is : 0.4820\n",
            "log loss of test 17 is : 0.5380\n",
            "log loss of test 18 is : 0.3879\n",
            "log loss of test 19 is : 0.4326\n",
            "log loss of test 20 is : 0.4463\n",
            "log loss of test 21 is : 0.4303\n",
            "log loss of test 22 is : 0.3369\n",
            "log loss of test 23 is : 0.4731\n",
            "log loss of test 24 is : 0.4012\n",
            "log loss of test 25 is : 0.4555\n",
            "log loss of test 26 is : 0.3382\n",
            "log loss of test 27 is : 0.4633\n",
            "log loss of test 28 is : 0.4634\n",
            "log loss of test 29 is : 0.4449\n",
            "log loss of test 30 is : 0.3959\n",
            "log loss of test 31 is : 0.4074\n",
            "log loss of test 32 is : 0.4002\n",
            "log loss of test 33 is : 0.4678\n",
            "log loss of test 34 is : 0.4332\n",
            "log loss of test 35 is : 0.6640\n",
            "log loss of test 36 is : 0.3176\n",
            "log loss of test 37 is : 0.4194\n",
            "log loss of test 38 is : 0.3540\n",
            "log loss of test 39 is : 0.4455\n",
            "log loss of test 40 is : 0.3621\n",
            "log loss of test 41 is : 0.3513\n",
            "log loss of test 42 is : 0.4034\n",
            "log loss of test 43 is : 0.4257\n",
            "log loss of test 44 is : 0.5271\n",
            "log loss of test 45 is : 0.4523\n",
            "log loss of test 46 is : 0.4939\n",
            "log loss of test 47 is : 0.4677\n",
            "log loss of test 48 is : 0.3524\n",
            "log loss of test 49 is : 0.5471\n"
          ],
          "name": "stdout"
        }
      ]
    },
    {
      "cell_type": "markdown",
      "metadata": {
        "id": "s5mGRnb6DKmi",
        "colab_type": "text"
      },
      "source": [
        "#  Copy to Drive"
      ]
    },
    {
      "cell_type": "code",
      "metadata": {
        "id": "etG4jenAC_m5",
        "colab_type": "code",
        "colab": {}
      },
      "source": [
        "%cp multi_22.csv gdrive/'My Drive'/'Colab Notebooks'/indabax"
      ],
      "execution_count": 0,
      "outputs": []
    },
    {
      "cell_type": "markdown",
      "metadata": {
        "id": "yWnWKhF9JuLE",
        "colab_type": "text"
      },
      "source": [
        "# Evaluation"
      ]
    },
    {
      "cell_type": "code",
      "metadata": {
        "id": "JHddgXwiNj98",
        "colab_type": "code",
        "outputId": "f9f90d52-ffef-4e51-a250-71364eddc582",
        "colab": {
          "base_uri": "https://localhost:8080/",
          "height": 202
        }
      },
      "source": [
        "global_evaluation = pd.DataFrame.from_dict(global_evaluation, orient='index',columns=['Log loss'])\n",
        "global_evaluation.sort_values(by=['Log loss']).head()"
      ],
      "execution_count": 0,
      "outputs": [
        {
          "output_type": "execute_result",
          "data": {
            "text/html": [
              "<div>\n",
              "<style scoped>\n",
              "    .dataframe tbody tr th:only-of-type {\n",
              "        vertical-align: middle;\n",
              "    }\n",
              "\n",
              "    .dataframe tbody tr th {\n",
              "        vertical-align: top;\n",
              "    }\n",
              "\n",
              "    .dataframe thead th {\n",
              "        text-align: right;\n",
              "    }\n",
              "</style>\n",
              "<table border=\"1\" class=\"dataframe\">\n",
              "  <thead>\n",
              "    <tr style=\"text-align: right;\">\n",
              "      <th></th>\n",
              "      <th>Log loss</th>\n",
              "    </tr>\n",
              "  </thead>\n",
              "  <tbody>\n",
              "    <tr>\n",
              "      <th>model_15</th>\n",
              "      <td>0.2938</td>\n",
              "    </tr>\n",
              "    <tr>\n",
              "      <th>model_36</th>\n",
              "      <td>0.3176</td>\n",
              "    </tr>\n",
              "    <tr>\n",
              "      <th>model_22</th>\n",
              "      <td>0.3369</td>\n",
              "    </tr>\n",
              "    <tr>\n",
              "      <th>model_26</th>\n",
              "      <td>0.3382</td>\n",
              "    </tr>\n",
              "    <tr>\n",
              "      <th>model_1</th>\n",
              "      <td>0.3485</td>\n",
              "    </tr>\n",
              "  </tbody>\n",
              "</table>\n",
              "</div>"
            ],
            "text/plain": [
              "          Log loss\n",
              "model_15    0.2938\n",
              "model_36    0.3176\n",
              "model_22    0.3369\n",
              "model_26    0.3382\n",
              "model_1     0.3485"
            ]
          },
          "metadata": {
            "tags": []
          },
          "execution_count": 70
        }
      ]
    },
    {
      "cell_type": "code",
      "metadata": {
        "id": "IlNnhFsTU0WG",
        "colab_type": "code",
        "outputId": "c122e05c-40fd-4dd1-8110-20d0ac42fb42",
        "colab": {
          "base_uri": "https://localhost:8080/",
          "height": 79
        }
      },
      "source": [
        "mean = pd.DataFrame.from_dict(global_evaluation.mean(axis = 0)).T\n",
        "mean.rename(index={0:'mean'}, inplace=True)\n",
        "mean"
      ],
      "execution_count": 0,
      "outputs": [
        {
          "output_type": "execute_result",
          "data": {
            "text/html": [
              "<div>\n",
              "<style scoped>\n",
              "    .dataframe tbody tr th:only-of-type {\n",
              "        vertical-align: middle;\n",
              "    }\n",
              "\n",
              "    .dataframe tbody tr th {\n",
              "        vertical-align: top;\n",
              "    }\n",
              "\n",
              "    .dataframe thead th {\n",
              "        text-align: right;\n",
              "    }\n",
              "</style>\n",
              "<table border=\"1\" class=\"dataframe\">\n",
              "  <thead>\n",
              "    <tr style=\"text-align: right;\">\n",
              "      <th></th>\n",
              "      <th>Log loss</th>\n",
              "    </tr>\n",
              "  </thead>\n",
              "  <tbody>\n",
              "    <tr>\n",
              "      <th>mean</th>\n",
              "      <td>0.43859</td>\n",
              "    </tr>\n",
              "  </tbody>\n",
              "</table>\n",
              "</div>"
            ],
            "text/plain": [
              "      Log loss\n",
              "mean   0.43859"
            ]
          },
          "metadata": {
            "tags": []
          },
          "execution_count": 71
        }
      ]
    },
    {
      "cell_type": "markdown",
      "metadata": {
        "id": "Ccj1ByluX1Wp",
        "colab_type": "text"
      },
      "source": [
        "# Validation tests"
      ]
    },
    {
      "cell_type": "code",
      "metadata": {
        "id": "UytNtlySrehv",
        "colab_type": "code",
        "outputId": "07a0f0eb-76b8-4246-d928-d524ed1a4540",
        "colab": {
          "base_uri": "https://localhost:8080/",
          "height": 103
        }
      },
      "source": [
        "for i in global_evaluation.sort_values(by=['Log loss']).head().index :\n",
        "  validation_test(i +\".sav\")"
      ],
      "execution_count": 0,
      "outputs": [
        {
          "output_type": "stream",
          "text": [
            "validation log loss is : 0.37998802959918976\n",
            "validation log loss is : 0.38151824846863747\n",
            "validation log loss is : 0.3253543958067894\n",
            "validation log loss is : 0.3532919742166996\n",
            "validation log loss is : 0.32570723369717597\n"
          ],
          "name": "stdout"
        }
      ]
    },
    {
      "cell_type": "markdown",
      "metadata": {
        "id": "HQNNDBouaC6K",
        "colab_type": "text"
      },
      "source": [
        "# LAB"
      ]
    },
    {
      "cell_type": "code",
      "metadata": {
        "id": "D8sOcToiWNB-",
        "colab_type": "code",
        "outputId": "aa7d5bb6-8853-4adc-8462-de2e50911bc6",
        "colab": {
          "base_uri": "https://localhost:8080/",
          "height": 34
        }
      },
      "source": [
        "model_lab = agregation_model(\"LAB.csv\", 99)"
      ],
      "execution_count": 0,
      "outputs": [
        {
          "output_type": "stream",
          "text": [
            "log loss of test 99 is : 0.4427\n"
          ],
          "name": "stdout"
        }
      ]
    },
    {
      "cell_type": "code",
      "metadata": {
        "id": "yqek6cUaWd_K",
        "colab_type": "code",
        "colab": {}
      },
      "source": [
        "from xgboost import plot_importance\n",
        "\n",
        "def plot_features(booster, figsize):    \n",
        "    fig, ax = plt.subplots(1,1,figsize=figsize)\n",
        "    return plot_importance(booster=booster, ax=ax)"
      ],
      "execution_count": 0,
      "outputs": []
    },
    {
      "cell_type": "code",
      "metadata": {
        "id": "9HPX4_7UWje_",
        "colab_type": "code",
        "outputId": "2d3f3158-4d4f-46bd-94a2-80b7292cc3f5",
        "colab": {
          "base_uri": "https://localhost:8080/",
          "height": 367
        }
      },
      "source": [
        "plot_features(model_lab, (10,5))"
      ],
      "execution_count": 0,
      "outputs": [
        {
          "output_type": "execute_result",
          "data": {
            "text/plain": [
              "<matplotlib.axes._subplots.AxesSubplot at 0x7f2df5e9a048>"
            ]
          },
          "metadata": {
            "tags": []
          },
          "execution_count": 45
        },
        {
          "output_type": "display_data",
          "data": {
            "image/png": "[encoded data removed]",
            "text/plain": [
              "<Figure size 720x360 with 1 Axes>"
            ]
          },
          "metadata": {
            "tags": []
          }
        }
      ]
    },
    {
      "cell_type": "code",
      "metadata": {
        "id": "GGicXenMW3wV",
        "colab_type": "code",
        "outputId": "1de556f8-2c17-48ce-d08d-cd900f96f0fe",
        "colab": {
          "base_uri": "https://localhost:8080/",
          "height": 69
        }
      },
      "source": [
        "model_lab.feature_importances_"
      ],
      "execution_count": 0,
      "outputs": [
        {
          "output_type": "execute_result",
          "data": {
            "text/plain": [
              "array([0.1198756 , 0.08122625, 0.08518069, 0.08386566, 0.09239529,\n",
              "       0.06791864, 0.09586107, 0.08473256, 0.        , 0.09432235,\n",
              "       0.09223466, 0.10238716], dtype=float32)"
            ]
          },
          "metadata": {
            "tags": []
          },
          "execution_count": 46
        }
      ]
    },
    {
      "cell_type": "code",
      "metadata": {
        "id": "vQpOEpRGcEuJ",
        "colab_type": "code",
        "colab": {}
      },
      "source": [
        ""
      ],
      "execution_count": 0,
      "outputs": []
    }
  ]
}