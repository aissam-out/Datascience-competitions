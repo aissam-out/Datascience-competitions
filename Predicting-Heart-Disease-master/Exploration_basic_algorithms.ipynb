{
  "nbformat": 4,
  "nbformat_minor": 0,
  "metadata": {
    "colab": {
      "name": "Exploration_basic_algorithms.ipynb",
      "version": "0.3.2",
      "provenance": [],
      "include_colab_link": true
    },
    "kernelspec": {
      "name": "python3",
      "display_name": "Python 3"
    }
  },
  "cells": [
    {
      "cell_type": "markdown",
      "metadata": {
        "id": "view-in-github",
        "colab_type": "text"
      },
      "source": [
        "<a href=\"https://colab.research.google.com/github/aissam-out/Predicting-Heart-Disease/blob/master/Exploration_basic_algorithms.ipynb\" target=\"_parent\"><img src=\"https://colab.research.google.com/assets/colab-badge.svg\" alt=\"Open In Colab\"/></a>"
      ]
    },
    {
      "cell_type": "code",
      "metadata": {
        "id": "T02NXf40O5Vs",
        "colab_type": "code",
        "colab": {}
      },
      "source": [
        "import numpy as np\n",
        "import pandas as pd \n",
        "import seaborn as sns\n",
        "import matplotlib.pyplot as plt\n",
        "from sklearn.model_selection import train_test_split\n",
        "%matplotlib inline"
      ],
      "execution_count": 0,
      "outputs": []
    },
    {
      "cell_type": "code",
      "metadata": {
        "id": "JzWNG3XKPnxF",
        "colab_type": "code",
        "outputId": "bac2ea4d-b86e-4fb3-bb5b-f503612a7f8d",
        "colab": {
          "base_uri": "https://localhost:8080/",
          "height": 52
        }
      },
      "source": [
        "# Code to read csv file into Colaboratory:\n",
        "!pip install -U -q PyDrive #if needed\n",
        "from pydrive.auth import GoogleAuth\n",
        "from pydrive.drive import GoogleDrive\n",
        "from google.colab import auth\n",
        "from oauth2client.client import GoogleCredentials\n",
        "# Authenticate and create the PyDrive client.\n",
        "auth.authenticate_user()\n",
        "gauth = GoogleAuth()\n",
        "gauth.credentials = GoogleCredentials.get_application_default()\n",
        "drive = GoogleDrive(gauth)"
      ],
      "execution_count": 0,
      "outputs": [
        {
          "output_type": "stream",
          "text": [
            "\u001b[?25l\r\u001b[K    1% |▎                               | 10kB 16.9MB/s eta 0:00:01\r\u001b[K    2% |▋                               | 20kB 1.5MB/s eta 0:00:01\r\u001b[K    3% |█                               | 30kB 2.1MB/s eta 0:00:01\r\u001b[K    4% |█▎                              | 40kB 1.4MB/s eta 0:00:01\r\u001b[K    5% |█▋                              | 51kB 1.7MB/s eta 0:00:01\r\u001b[K    6% |██                              | 61kB 2.1MB/s eta 0:00:01\r\u001b[K    7% |██▎                             | 71kB 2.4MB/s eta 0:00:01\r\u001b[K    8% |██▋                             | 81kB 2.7MB/s eta 0:00:01\r\u001b[K    9% |███                             | 92kB 3.0MB/s eta 0:00:01\r\u001b[K    10% |███▎                            | 102kB 2.3MB/s eta 0:00:01\r\u001b[K    11% |███▋                            | 112kB 2.3MB/s eta 0:00:01\r\u001b[K    12% |████                            | 122kB 3.3MB/s eta 0:00:01\r\u001b[K    13% |████▎                           | 133kB 3.3MB/s eta 0:00:01\r\u001b[K    14% |████▋                           | 143kB 6.2MB/s eta 0:00:01\r\u001b[K    15% |█████                           | 153kB 6.2MB/s eta 0:00:01\r\u001b[K    16% |█████▎                          | 163kB 6.2MB/s eta 0:00:01\r\u001b[K    17% |█████▋                          | 174kB 6.3MB/s eta 0:00:01\r\u001b[K    18% |██████                          | 184kB 6.3MB/s eta 0:00:01\r\u001b[K    19% |██████▎                         | 194kB 6.3MB/s eta 0:00:01\r\u001b[K    20% |██████▋                         | 204kB 39.5MB/s eta 0:00:01\r\u001b[K    21% |███████                         | 215kB 7.0MB/s eta 0:00:01\r\u001b[K    22% |███████▎                        | 225kB 6.9MB/s eta 0:00:01\r\u001b[K    23% |███████▋                        | 235kB 7.0MB/s eta 0:00:01\r\u001b[K    24% |████████                        | 245kB 7.0MB/s eta 0:00:01\r\u001b[K    25% |████████▎                       | 256kB 7.0MB/s eta 0:00:01\r\u001b[K    26% |████████▋                       | 266kB 6.8MB/s eta 0:00:01\r\u001b[K    27% |█████████                       | 276kB 6.8MB/s eta 0:00:01\r\u001b[K    29% |█████████▎                      | 286kB 6.9MB/s eta 0:00:01\r\u001b[K    30% |█████████▋                      | 296kB 6.8MB/s eta 0:00:01\r\u001b[K    31% |██████████                      | 307kB 7.0MB/s eta 0:00:01\r\u001b[K    32% |██████████▎                     | 317kB 46.5MB/s eta 0:00:01\r\u001b[K    33% |██████████▋                     | 327kB 50.3MB/s eta 0:00:01\r\u001b[K    34% |███████████                     | 337kB 52.1MB/s eta 0:00:01\r\u001b[K    35% |███████████▎                    | 348kB 47.2MB/s eta 0:00:01\r\u001b[K    36% |███████████▋                    | 358kB 46.3MB/s eta 0:00:01\r\u001b[K    37% |████████████                    | 368kB 55.9MB/s eta 0:00:01\r\u001b[K    38% |████████████▎                   | 378kB 57.5MB/s eta 0:00:01\r\u001b[K    39% |████████████▋                   | 389kB 58.0MB/s eta 0:00:01\r\u001b[K    40% |█████████████                   | 399kB 7.7MB/s eta 0:00:01\r\u001b[K    41% |█████████████▎                  | 409kB 7.6MB/s eta 0:00:01\r\u001b[K    42% |█████████████▋                  | 419kB 7.6MB/s eta 0:00:01\r\u001b[K    43% |██████████████                  | 430kB 7.6MB/s eta 0:00:01\r\u001b[K    44% |██████████████▎                 | 440kB 7.5MB/s eta 0:00:01\r\u001b[K    45% |██████████████▋                 | 450kB 7.5MB/s eta 0:00:01\r\u001b[K    46% |███████████████                 | 460kB 7.5MB/s eta 0:00:01\r\u001b[K    47% |███████████████▎                | 471kB 7.5MB/s eta 0:00:01\r\u001b[K    48% |███████████████▋                | 481kB 7.5MB/s eta 0:00:01\r\u001b[K    49% |████████████████                | 491kB 7.5MB/s eta 0:00:01\r\u001b[K    50% |████████████████▎               | 501kB 47.5MB/s eta 0:00:01\r\u001b[K    51% |████████████████▋               | 512kB 45.4MB/s eta 0:00:01\r\u001b[K    52% |█████████████████               | 522kB 45.7MB/s eta 0:00:01\r\u001b[K    53% |█████████████████▎              | 532kB 47.2MB/s eta 0:00:01\r\u001b[K    54% |█████████████████▋              | 542kB 7.2MB/s eta 0:00:01\r\u001b[K    55% |██████████████████              | 552kB 7.3MB/s eta 0:00:01\r\u001b[K    57% |██████████████████▎             | 563kB 7.3MB/s eta 0:00:01\r\u001b[K    58% |██████████████████▋             | 573kB 7.2MB/s eta 0:00:01\r\u001b[K    59% |███████████████████             | 583kB 7.2MB/s eta 0:00:01\r\u001b[K    60% |███████████████████▎            | 593kB 7.2MB/s eta 0:00:01\r\u001b[K    61% |███████████████████▋            | 604kB 7.2MB/s eta 0:00:01\r\u001b[K    62% |████████████████████            | 614kB 7.3MB/s eta 0:00:01\r\u001b[K    63% |████████████████████▎           | 624kB 7.4MB/s eta 0:00:01\r\u001b[K    64% |████████████████████▋           | 634kB 7.4MB/s eta 0:00:01\r\u001b[K    65% |█████████████████████           | 645kB 60.0MB/s eta 0:00:01\r\u001b[K    66% |█████████████████████▎          | 655kB 64.4MB/s eta 0:00:01\r\u001b[K    67% |█████████████████████▋          | 665kB 46.4MB/s eta 0:00:01\r\u001b[K    68% |██████████████████████          | 675kB 48.1MB/s eta 0:00:01\r\u001b[K    69% |██████████████████████▎         | 686kB 48.5MB/s eta 0:00:01\r\u001b[K    70% |██████████████████████▋         | 696kB 49.1MB/s eta 0:00:01\r\u001b[K    71% |███████████████████████         | 706kB 49.7MB/s eta 0:00:01\r\u001b[K    72% |███████████████████████▎        | 716kB 50.1MB/s eta 0:00:01\r\u001b[K    73% |███████████████████████▋        | 727kB 50.3MB/s eta 0:00:01\r\u001b[K    74% |████████████████████████        | 737kB 50.0MB/s eta 0:00:01\r\u001b[K    75% |████████████████████████▎       | 747kB 50.5MB/s eta 0:00:01\r\u001b[K    76% |████████████████████████▋       | 757kB 50.5MB/s eta 0:00:01\r\u001b[K    77% |████████████████████████▉       | 768kB 75.5MB/s eta 0:00:01\r\u001b[K    78% |█████████████████████████▏      | 778kB 78.4MB/s eta 0:00:01\r\u001b[K    79% |█████████████████████████▌      | 788kB 78.8MB/s eta 0:00:01\r\u001b[K    80% |█████████████████████████▉      | 798kB 78.9MB/s eta 0:00:01\r\u001b[K    81% |██████████████████████████▏     | 808kB 78.8MB/s eta 0:00:01\r\u001b[K    82% |██████████████████████████▌     | 819kB 76.0MB/s eta 0:00:01\r\u001b[K    83% |██████████████████████████▉     | 829kB 76.3MB/s eta 0:00:01\r\u001b[K    85% |███████████████████████████▏    | 839kB 77.9MB/s eta 0:00:01\r\u001b[K    86% |███████████████████████████▌    | 849kB 77.9MB/s eta 0:00:01\r\u001b[K    87% |███████████████████████████▉    | 860kB 60.9MB/s eta 0:00:01\r\u001b[K    88% |████████████████████████████▏   | 870kB 59.2MB/s eta 0:00:01\r\u001b[K    89% |████████████████████████████▌   | 880kB 59.3MB/s eta 0:00:01\r\u001b[K    90% |████████████████████████████▉   | 890kB 59.5MB/s eta 0:00:01\r\u001b[K    91% |█████████████████████████████▏  | 901kB 58.7MB/s eta 0:00:01\r\u001b[K    92% |█████████████████████████████▌  | 911kB 58.8MB/s eta 0:00:01\r\u001b[K    93% |█████████████████████████████▉  | 921kB 60.1MB/s eta 0:00:01\r\u001b[K    94% |██████████████████████████████▏ | 931kB 60.0MB/s eta 0:00:01\r\u001b[K    95% |██████████████████████████████▌ | 942kB 59.9MB/s eta 0:00:01\r\u001b[K    96% |██████████████████████████████▉ | 952kB 59.8MB/s eta 0:00:01\r\u001b[K    97% |███████████████████████████████▏| 962kB 77.8MB/s eta 0:00:01\r\u001b[K    98% |███████████████████████████████▌| 972kB 81.3MB/s eta 0:00:01\r\u001b[K    99% |███████████████████████████████▉| 983kB 80.9MB/s eta 0:00:01\r\u001b[K    100% |████████████████████████████████| 993kB 20.1MB/s \n",
            "\u001b[?25h  Building wheel for PyDrive (setup.py) ... \u001b[?25ldone\n",
            "\u001b[?25h"
          ],
          "name": "stdout"
        }
      ]
    },
    {
      "cell_type": "code",
      "metadata": {
        "id": "THv9MR4yPxT7",
        "colab_type": "code",
        "colab": {}
      },
      "source": [
        "link_to_train_values = 'https://drive.google.com/open?id=*************'\n",
        "link_to_train_labels = 'https://drive.google.com/open?id=*************'\n",
        "\n",
        "downloaded_train_v = drive.CreateFile({'id':'**************'}) \n",
        "downloaded_train_l = drive.CreateFile({'id':'**************'}) \n",
        "\n",
        "downloaded_train_v.GetContentFile('train_values.csv')\n",
        "downloaded_train_l.GetContentFile('train_labels.csv')\n",
        "\n",
        "# loading the dataset\n",
        "df_train_v = pd.read_csv(\"train_values.csv\")\n",
        "df_train_l = pd.read_csv(\"train_labels.csv\")"
      ],
      "execution_count": 0,
      "outputs": []
    },
    {
      "cell_type": "markdown",
      "metadata": {
        "id": "WVNcA8A-c0ps",
        "colab_type": "text"
      },
      "source": [
        "# Data Exploration"
      ]
    },
    {
      "cell_type": "code",
      "metadata": {
        "id": "TJmfrrIqRAvR",
        "colab_type": "code",
        "outputId": "e19c4919-bcce-4d51-be79-4b56a4c92937",
        "colab": {
          "base_uri": "https://localhost:8080/",
          "height": 99
        }
      },
      "source": [
        "data = df_train_v.copy()\n",
        "data['labels'] = df_train_l['heart_disease_present']\n",
        "data.sample()"
      ],
      "execution_count": 0,
      "outputs": [
        {
          "output_type": "execute_result",
          "data": {
            "text/html": [
              "<div>\n",
              "<style scoped>\n",
              "    .dataframe tbody tr th:only-of-type {\n",
              "        vertical-align: middle;\n",
              "    }\n",
              "\n",
              "    .dataframe tbody tr th {\n",
              "        vertical-align: top;\n",
              "    }\n",
              "\n",
              "    .dataframe thead th {\n",
              "        text-align: right;\n",
              "    }\n",
              "</style>\n",
              "<table border=\"1\" class=\"dataframe\">\n",
              "  <thead>\n",
              "    <tr style=\"text-align: right;\">\n",
              "      <th></th>\n",
              "      <th>patient_id</th>\n",
              "      <th>slope_of_peak_exercise_st_segment</th>\n",
              "      <th>thal</th>\n",
              "      <th>resting_blood_pressure</th>\n",
              "      <th>chest_pain_type</th>\n",
              "      <th>num_major_vessels</th>\n",
              "      <th>fasting_blood_sugar_gt_120_mg_per_dl</th>\n",
              "      <th>resting_ekg_results</th>\n",
              "      <th>serum_cholesterol_mg_per_dl</th>\n",
              "      <th>oldpeak_eq_st_depression</th>\n",
              "      <th>sex</th>\n",
              "      <th>age</th>\n",
              "      <th>max_heart_rate_achieved</th>\n",
              "      <th>exercise_induced_angina</th>\n",
              "      <th>labels</th>\n",
              "    </tr>\n",
              "  </thead>\n",
              "  <tbody>\n",
              "    <tr>\n",
              "      <th>179</th>\n",
              "      <td>2nx10r</td>\n",
              "      <td>1</td>\n",
              "      <td>normal</td>\n",
              "      <td>160</td>\n",
              "      <td>3</td>\n",
              "      <td>1</td>\n",
              "      <td>0</td>\n",
              "      <td>0</td>\n",
              "      <td>201</td>\n",
              "      <td>0.0</td>\n",
              "      <td>0</td>\n",
              "      <td>54</td>\n",
              "      <td>163</td>\n",
              "      <td>0</td>\n",
              "      <td>0</td>\n",
              "    </tr>\n",
              "  </tbody>\n",
              "</table>\n",
              "</div>"
            ],
            "text/plain": [
              "    patient_id  slope_of_peak_exercise_st_segment    thal  \\\n",
              "179     2nx10r                                  1  normal   \n",
              "\n",
              "     resting_blood_pressure  chest_pain_type  num_major_vessels  \\\n",
              "179                     160                3                  1   \n",
              "\n",
              "     fasting_blood_sugar_gt_120_mg_per_dl  resting_ekg_results  \\\n",
              "179                                     0                    0   \n",
              "\n",
              "     serum_cholesterol_mg_per_dl  oldpeak_eq_st_depression  sex  age  \\\n",
              "179                          201                       0.0    0   54   \n",
              "\n",
              "     max_heart_rate_achieved  exercise_induced_angina  labels  \n",
              "179                      163                        0       0  "
            ]
          },
          "metadata": {
            "tags": []
          },
          "execution_count": 4
        }
      ]
    },
    {
      "cell_type": "code",
      "metadata": {
        "id": "396N2l-tTSk3",
        "colab_type": "code",
        "outputId": "7586a739-3c01-4afa-cc7a-f48c2cfea3e7",
        "colab": {
          "base_uri": "https://localhost:8080/",
          "height": 123
        }
      },
      "source": [
        "data.columns"
      ],
      "execution_count": 0,
      "outputs": [
        {
          "output_type": "execute_result",
          "data": {
            "text/plain": [
              "Index(['patient_id', 'slope_of_peak_exercise_st_segment', 'thal',\n",
              "       'resting_blood_pressure', 'chest_pain_type', 'num_major_vessels',\n",
              "       'fasting_blood_sugar_gt_120_mg_per_dl', 'resting_ekg_results',\n",
              "       'serum_cholesterol_mg_per_dl', 'oldpeak_eq_st_depression', 'sex', 'age',\n",
              "       'max_heart_rate_achieved', 'exercise_induced_angina', 'labels'],\n",
              "      dtype='object')"
            ]
          },
          "metadata": {
            "tags": []
          },
          "execution_count": 5
        }
      ]
    },
    {
      "cell_type": "markdown",
      "metadata": {
        "id": "cLYfK6moc5Ha",
        "colab_type": "text"
      },
      "source": [
        "# Training"
      ]
    },
    {
      "cell_type": "code",
      "metadata": {
        "id": "uBbkX96HZp2X",
        "colab_type": "code",
        "colab": {}
      },
      "source": [
        "X_train, X_test, y_train, y_test = train_test_split(df_train_v, df_train_l, test_size=0.2)"
      ],
      "execution_count": 0,
      "outputs": []
    },
    {
      "cell_type": "code",
      "metadata": {
        "id": "wVrUqI6HgbAq",
        "colab_type": "code",
        "colab": {}
      },
      "source": [
        "X_train['thal'] = X_train['thal'].replace({'normal':0,'reversible_defect':1, 'fixed_defect':2})\n",
        "X_test['thal'] = X_test['thal'].replace({'normal':0,'reversible_defect':1, 'fixed_defect':2})\n",
        "X_train = X_train.drop(\"patient_id\", axis=1)\n",
        "X_test = X_test.drop(\"patient_id\", axis=1)\n",
        "y_train = y_train.drop(\"patient_id\", axis=1)\n",
        "y_test = y_test.drop(\"patient_id\", axis=1)"
      ],
      "execution_count": 0,
      "outputs": []
    },
    {
      "cell_type": "code",
      "metadata": {
        "id": "rGMfkh4vjwmD",
        "colab_type": "code",
        "outputId": "ad2d5a1e-1df8-4049-b5c1-fc74d62d31ed",
        "colab": {
          "base_uri": "https://localhost:8080/",
          "height": 223
        }
      },
      "source": [
        "X_train.head()"
      ],
      "execution_count": 0,
      "outputs": [
        {
          "output_type": "execute_result",
          "data": {
            "text/html": [
              "<div>\n",
              "<style scoped>\n",
              "    .dataframe tbody tr th:only-of-type {\n",
              "        vertical-align: middle;\n",
              "    }\n",
              "\n",
              "    .dataframe tbody tr th {\n",
              "        vertical-align: top;\n",
              "    }\n",
              "\n",
              "    .dataframe thead th {\n",
              "        text-align: right;\n",
              "    }\n",
              "</style>\n",
              "<table border=\"1\" class=\"dataframe\">\n",
              "  <thead>\n",
              "    <tr style=\"text-align: right;\">\n",
              "      <th></th>\n",
              "      <th>slope_of_peak_exercise_st_segment</th>\n",
              "      <th>thal</th>\n",
              "      <th>resting_blood_pressure</th>\n",
              "      <th>chest_pain_type</th>\n",
              "      <th>num_major_vessels</th>\n",
              "      <th>fasting_blood_sugar_gt_120_mg_per_dl</th>\n",
              "      <th>resting_ekg_results</th>\n",
              "      <th>serum_cholesterol_mg_per_dl</th>\n",
              "      <th>oldpeak_eq_st_depression</th>\n",
              "      <th>sex</th>\n",
              "      <th>age</th>\n",
              "      <th>max_heart_rate_achieved</th>\n",
              "      <th>exercise_induced_angina</th>\n",
              "    </tr>\n",
              "  </thead>\n",
              "  <tbody>\n",
              "    <tr>\n",
              "      <th>102</th>\n",
              "      <td>2</td>\n",
              "      <td>1</td>\n",
              "      <td>110</td>\n",
              "      <td>4</td>\n",
              "      <td>1</td>\n",
              "      <td>0</td>\n",
              "      <td>2</td>\n",
              "      <td>239</td>\n",
              "      <td>1.2</td>\n",
              "      <td>1</td>\n",
              "      <td>59</td>\n",
              "      <td>142</td>\n",
              "      <td>1</td>\n",
              "    </tr>\n",
              "    <tr>\n",
              "      <th>16</th>\n",
              "      <td>2</td>\n",
              "      <td>0</td>\n",
              "      <td>130</td>\n",
              "      <td>2</td>\n",
              "      <td>0</td>\n",
              "      <td>0</td>\n",
              "      <td>2</td>\n",
              "      <td>234</td>\n",
              "      <td>0.6</td>\n",
              "      <td>0</td>\n",
              "      <td>45</td>\n",
              "      <td>175</td>\n",
              "      <td>0</td>\n",
              "    </tr>\n",
              "    <tr>\n",
              "      <th>36</th>\n",
              "      <td>1</td>\n",
              "      <td>1</td>\n",
              "      <td>150</td>\n",
              "      <td>3</td>\n",
              "      <td>1</td>\n",
              "      <td>1</td>\n",
              "      <td>0</td>\n",
              "      <td>126</td>\n",
              "      <td>0.2</td>\n",
              "      <td>1</td>\n",
              "      <td>57</td>\n",
              "      <td>173</td>\n",
              "      <td>0</td>\n",
              "    </tr>\n",
              "    <tr>\n",
              "      <th>151</th>\n",
              "      <td>3</td>\n",
              "      <td>0</td>\n",
              "      <td>125</td>\n",
              "      <td>3</td>\n",
              "      <td>1</td>\n",
              "      <td>0</td>\n",
              "      <td>2</td>\n",
              "      <td>273</td>\n",
              "      <td>0.5</td>\n",
              "      <td>1</td>\n",
              "      <td>54</td>\n",
              "      <td>152</td>\n",
              "      <td>0</td>\n",
              "    </tr>\n",
              "    <tr>\n",
              "      <th>85</th>\n",
              "      <td>1</td>\n",
              "      <td>0</td>\n",
              "      <td>118</td>\n",
              "      <td>3</td>\n",
              "      <td>3</td>\n",
              "      <td>0</td>\n",
              "      <td>2</td>\n",
              "      <td>149</td>\n",
              "      <td>0.8</td>\n",
              "      <td>1</td>\n",
              "      <td>49</td>\n",
              "      <td>126</td>\n",
              "      <td>0</td>\n",
              "    </tr>\n",
              "  </tbody>\n",
              "</table>\n",
              "</div>"
            ],
            "text/plain": [
              "     slope_of_peak_exercise_st_segment  thal  resting_blood_pressure  \\\n",
              "102                                  2     1                     110   \n",
              "16                                   2     0                     130   \n",
              "36                                   1     1                     150   \n",
              "151                                  3     0                     125   \n",
              "85                                   1     0                     118   \n",
              "\n",
              "     chest_pain_type  num_major_vessels  fasting_blood_sugar_gt_120_mg_per_dl  \\\n",
              "102                4                  1                                     0   \n",
              "16                 2                  0                                     0   \n",
              "36                 3                  1                                     1   \n",
              "151                3                  1                                     0   \n",
              "85                 3                  3                                     0   \n",
              "\n",
              "     resting_ekg_results  serum_cholesterol_mg_per_dl  \\\n",
              "102                    2                          239   \n",
              "16                     2                          234   \n",
              "36                     0                          126   \n",
              "151                    2                          273   \n",
              "85                     2                          149   \n",
              "\n",
              "     oldpeak_eq_st_depression  sex  age  max_heart_rate_achieved  \\\n",
              "102                       1.2    1   59                      142   \n",
              "16                        0.6    0   45                      175   \n",
              "36                        0.2    1   57                      173   \n",
              "151                       0.5    1   54                      152   \n",
              "85                        0.8    1   49                      126   \n",
              "\n",
              "     exercise_induced_angina  \n",
              "102                        1  \n",
              "16                         0  \n",
              "36                         0  \n",
              "151                        0  \n",
              "85                         0  "
            ]
          },
          "metadata": {
            "tags": []
          },
          "execution_count": 8
        }
      ]
    },
    {
      "cell_type": "markdown",
      "metadata": {
        "id": "JEIEjF4KFBvy",
        "colab_type": "text"
      },
      "source": [
        "# +"
      ]
    },
    {
      "cell_type": "code",
      "metadata": {
        "id": "28WnYckB4Q6G",
        "colab_type": "code",
        "colab": {}
      },
      "source": [
        "import seaborn as sns\n",
        "from collections import Counter\n",
        "from sklearn.metrics import confusion_matrix\n",
        "import itertools # needed in the confusion matrix"
      ],
      "execution_count": 0,
      "outputs": []
    },
    {
      "cell_type": "code",
      "metadata": {
        "id": "-M6H5Fn34Ub5",
        "colab_type": "code",
        "colab": {}
      },
      "source": [
        "#convert to values\n",
        "x_train = (X_train.values).astype('float32') \n",
        "y_train = y_train.values.astype('float32') "
      ],
      "execution_count": 0,
      "outputs": []
    },
    {
      "cell_type": "code",
      "metadata": {
        "id": "FA1fd42SLdGM",
        "colab_type": "code",
        "colab": {}
      },
      "source": [
        "x_test = (X_test.values).astype('float32') \n",
        "y_test = y_test.values.astype('float32') "
      ],
      "execution_count": 0,
      "outputs": []
    },
    {
      "cell_type": "code",
      "metadata": {
        "id": "2DmXgDbH7LZY",
        "colab_type": "code",
        "outputId": "cbd986c1-c18f-4cd6-d355-518c60564a9f",
        "colab": {
          "base_uri": "https://localhost:8080/",
          "height": 52
        }
      },
      "source": [
        "print('x_train shape:', x_train.shape)\n",
        "print(x_train.shape[0], 'train samples')"
      ],
      "execution_count": 0,
      "outputs": [
        {
          "output_type": "stream",
          "text": [
            "x_train shape: (144, 13)\n",
            "144 train samples\n"
          ],
          "name": "stdout"
        }
      ]
    },
    {
      "cell_type": "code",
      "metadata": {
        "id": "nHtfTGRQFTJp",
        "colab_type": "code",
        "colab": {}
      },
      "source": [
        "from sklearn.ensemble import (RandomForestClassifier, AdaBoostClassifier,\n",
        "                             GradientBoostingClassifier, ExtraTreesClassifier,\n",
        "                             VotingClassifier)\n",
        "\n",
        "from sklearn.model_selection import (GridSearchCV, cross_val_score, cross_val_predict,\n",
        "                                     StratifiedKFold, learning_curve)\n",
        "\n",
        "# Cross validate model with Kfold stratified cross val\n",
        "K_fold = StratifiedKFold(n_splits=10)\n",
        "\n",
        "from sklearn.metrics import (confusion_matrix, accuracy_score) \n",
        "from sklearn.discriminant_analysis import LinearDiscriminantAnalysis\n",
        "from sklearn.linear_model import LogisticRegression\n",
        "from sklearn.neighbors import KNeighborsClassifier\n",
        "from sklearn.neural_network import MLPClassifier\n",
        "from sklearn.tree import DecisionTreeClassifier\n",
        "from sklearn.naive_bayes import GaussianNB\n",
        "from sklearn.svm import SVC\n",
        "\n",
        "import warnings\n",
        "from collections import Counter\n",
        "\n",
        "sns.set(style = 'white' , context = 'notebook', palette = 'deep')\n",
        "warnings.filterwarnings('ignore', category = DeprecationWarning)"
      ],
      "execution_count": 0,
      "outputs": []
    },
    {
      "cell_type": "code",
      "metadata": {
        "id": "ap0AJrXBLf1q",
        "colab_type": "code",
        "colab": {}
      },
      "source": [
        "random_state = 2\n",
        "\n",
        "models = [] # append all models or predictive models \n",
        "cv_results = [] # cross validation result\n",
        "cv_means = [] # cross validation mean value\n",
        "cv_std = [] # cross validation standard deviation\n",
        "\n",
        "models.append(KNeighborsClassifier())\n",
        "models.append(AdaBoostClassifier(DecisionTreeClassifier(random_state=random_state),random_state=random_state,learning_rate=0.1))\n",
        "models.append(DecisionTreeClassifier(random_state=random_state))\n",
        "models.append(RandomForestClassifier(random_state=random_state))\n",
        "models.append(ExtraTreesClassifier(random_state=random_state))\n",
        "models.append(SVC(random_state=random_state))\n",
        "models.append(GradientBoostingClassifier(random_state=random_state))\n",
        "models.append(LogisticRegression(random_state = random_state))\n",
        "models.append(LinearDiscriminantAnalysis())\n",
        "models.append(MLPClassifier(random_state=random_state))"
      ],
      "execution_count": 0,
      "outputs": []
    },
    {
      "cell_type": "code",
      "metadata": {
        "id": "H-CjCaktFhRx",
        "colab_type": "code",
        "outputId": "1db4b2c7-35f9-47d7-bb1d-677bca0d1f9c",
        "colab": {
          "base_uri": "https://localhost:8080/",
          "height": 411
        }
      },
      "source": [
        "for model in models :\n",
        "    cv_results.append(cross_val_score(model, x_train, y_train, \n",
        "                                      scoring = \"accuracy\", cv = K_fold, n_jobs=4))\n",
        "\n",
        "for cv_result in cv_results:\n",
        "    cv_means.append(cv_result.mean())\n",
        "    cv_std.append(cv_result.std())\n",
        "\n",
        "cv_frame = pd.DataFrame(\n",
        "    {\n",
        "        \"CrossValMeans\":cv_means,\n",
        "        \"CrossValErrors\": cv_std,\n",
        "        \"Algorithms\":[\n",
        "                     \"KNeighboors\",\n",
        "                     \"AdaBoost\", \n",
        "                     \"DecisionTree\",   \n",
        "                     \"RandomForest\",\n",
        "                     \"ExtraTrees\",\n",
        "                     \"SVC\",\n",
        "                     \"GradientBoosting\",                      \n",
        "                     \"LogisticRegression\",\n",
        "                     \"LinearDiscriminantAnalysis\",\n",
        "                     \"MultipleLayerPerceptron\"]\n",
        "    })\n",
        "\n",
        "cv_plot = sns.barplot(\"CrossValMeans\",\"Algorithms\", data = cv_frame,\n",
        "                palette=\"husl\", orient = \"h\", **{'xerr':cv_std})\n",
        "\n",
        "cv_plot.set_xlabel(\"Mean Accuracy\")\n",
        "cv_plot = cv_plot.set_title(\"CV Scores\")"
      ],
      "execution_count": 0,
      "outputs": [
        {
          "output_type": "stream",
          "text": [
            "/usr/local/lib/python3.6/dist-packages/seaborn/categorical.py:1428: FutureWarning: remove_na is deprecated and is a private function. Do not use.\n",
            "  stat_data = remove_na(group_data)\n"
          ],
          "name": "stderr"
        },
        {
          "output_type": "display_data",
          "data": {
            "image/png": "[encoded data removed]",
            "text/plain": [
              "<Figure size 576x396 with 1 Axes>"
            ]
          },
          "metadata": {
            "tags": []
          }
        }
      ]
    },
    {
      "cell_type": "code",
      "metadata": {
        "id": "Wah4O00NHXQt",
        "colab_type": "code",
        "colab": {}
      },
      "source": [
        "model_b = LinearDiscriminantAnalysis()\n",
        "cv_result = cross_val_score(model, x_train, y_train, scoring = \"accuracy\", cv = K_fold, n_jobs=4)\n",
        "cv_means = cv_result.mean()\n",
        "cv_std = cv_result.std()\n",
        "\n",
        "cv_frame = pd.DataFrame(\n",
        "    {\n",
        "        \"CrossValMeans\":cv_means,\n",
        "        \"CrossValErrors\": cv_std,\n",
        "        \"Algorithm\": [\"LinearDiscriminantAnalysis\"]\n",
        "    })"
      ],
      "execution_count": 0,
      "outputs": []
    },
    {
      "cell_type": "code",
      "metadata": {
        "id": "vTypd_XyJxEz",
        "colab_type": "code",
        "outputId": "a0654bfb-1d3d-4046-fcc3-ccfd7c9e8cf7",
        "colab": {
          "base_uri": "https://localhost:8080/",
          "height": 411
        }
      },
      "source": [
        "cv_plot = sns.barplot(\"CrossValMeans\",\"Algorithm\", data = cv_frame,\n",
        "                palette=\"husl\", orient = \"h\", **{'xerr':cv_std})\n",
        "\n",
        "cv_plot.set_xlabel(\"Mean Accuracy\")\n",
        "cv_plot = cv_plot.set_title(\"CV Scores\")"
      ],
      "execution_count": 0,
      "outputs": [
        {
          "output_type": "stream",
          "text": [
            "/usr/local/lib/python3.6/dist-packages/seaborn/categorical.py:1428: FutureWarning: remove_na is deprecated and is a private function. Do not use.\n",
            "  stat_data = remove_na(group_data)\n"
          ],
          "name": "stderr"
        },
        {
          "output_type": "display_data",
          "data": {
            "image/png": "[encoded data removed]",
            "text/plain": [
              "<Figure size 576x396 with 1 Axes>"
            ]
          },
          "metadata": {
            "tags": []
          }
        }
      ]
    },
    {
      "cell_type": "code",
      "metadata": {
        "id": "7PWyJYdvKP4k",
        "colab_type": "code",
        "outputId": "c59d912c-6547-41e2-f487-11e16e407787",
        "colab": {
          "base_uri": "https://localhost:8080/",
          "height": 52
        }
      },
      "source": [
        "cv_result"
      ],
      "execution_count": 0,
      "outputs": [
        {
          "output_type": "execute_result",
          "data": {
            "text/plain": [
              "array([0.6875    , 0.86666667, 0.6       , 0.78571429, 0.92857143,\n",
              "       0.85714286, 0.92857143, 0.71428571, 0.78571429, 0.42857143])"
            ]
          },
          "metadata": {
            "tags": []
          },
          "execution_count": 18
        }
      ]
    },
    {
      "cell_type": "code",
      "metadata": {
        "id": "AblQK5VwKdBQ",
        "colab_type": "code",
        "outputId": "c596cbc5-0f33-44f5-921c-876040186e8d",
        "colab": {
          "base_uri": "https://localhost:8080/",
          "height": 70
        }
      },
      "source": [
        "# GBC Classifier\n",
        "GBC_Model = GradientBoostingClassifier()\n",
        "\n",
        "scores = cross_val_score(GBC_Model, x_train, y_train, cv = K_fold,\n",
        "                       n_jobs = 4, scoring = 'accuracy')\n",
        "\n",
        "print(scores)\n",
        "round(np.mean(scores)*100, 2)"
      ],
      "execution_count": 0,
      "outputs": [
        {
          "output_type": "stream",
          "text": [
            "[0.8125     0.8        0.86666667 0.78571429 0.78571429 0.92857143\n",
            " 0.85714286 0.64285714 0.85714286 0.78571429]\n"
          ],
          "name": "stdout"
        },
        {
          "output_type": "execute_result",
          "data": {
            "text/plain": [
              "81.22"
            ]
          },
          "metadata": {
            "tags": []
          },
          "execution_count": 19
        }
      ]
    },
    {
      "cell_type": "code",
      "metadata": {
        "id": "xDBrLJFhKuUk",
        "colab_type": "code",
        "outputId": "fdfce8e0-2d8f-46db-c8f8-04bc8f94aa05",
        "colab": {
          "base_uri": "https://localhost:8080/",
          "height": 70
        }
      },
      "source": [
        "# Linear Discriminant Analysis \n",
        "LDA_Model= LinearDiscriminantAnalysis()\n",
        "\n",
        "scores = cross_val_score(LDA_Model, x_train, y_train, cv = K_fold,\n",
        "                       n_jobs = 4, scoring = 'accuracy')\n",
        "\n",
        "print(scores)\n",
        "round(np.mean(scores)*100, 2)"
      ],
      "execution_count": 0,
      "outputs": [
        {
          "output_type": "stream",
          "text": [
            "[0.875      0.8        0.86666667 0.78571429 0.85714286 0.85714286\n",
            " 0.92857143 0.5        0.92857143 0.78571429]\n"
          ],
          "name": "stdout"
        },
        {
          "output_type": "execute_result",
          "data": {
            "text/plain": [
              "81.85"
            ]
          },
          "metadata": {
            "tags": []
          },
          "execution_count": 20
        }
      ]
    },
    {
      "cell_type": "code",
      "metadata": {
        "id": "LPhqeBUuK0eB",
        "colab_type": "code",
        "outputId": "e4ef9a7f-7786-4b93-d037-c83a84568cfc",
        "colab": {
          "base_uri": "https://localhost:8080/",
          "height": 70
        }
      },
      "source": [
        "# Logistic Regression\n",
        "#\n",
        "Log_Model = LogisticRegression(C=1)\n",
        "scores = cross_val_score(Log_Model, x_train, y_train, cv=K_fold, \n",
        "                        n_jobs=4, scoring='accuracy')\n",
        "\n",
        "print(scores)\n",
        "round(np.mean(scores)*100, 2)"
      ],
      "execution_count": 0,
      "outputs": [
        {
          "output_type": "stream",
          "text": [
            "[0.875      0.86666667 0.86666667 0.85714286 0.85714286 0.92857143\n",
            " 0.92857143 0.71428571 0.92857143 0.78571429]\n"
          ],
          "name": "stdout"
        },
        {
          "output_type": "execute_result",
          "data": {
            "text/plain": [
              "86.08"
            ]
          },
          "metadata": {
            "tags": []
          },
          "execution_count": 21
        }
      ]
    },
    {
      "cell_type": "code",
      "metadata": {
        "id": "AIti097AK7WN",
        "colab_type": "code",
        "outputId": "9c5ec8ba-92d5-474f-cf86-5e1010581bab",
        "colab": {
          "base_uri": "https://localhost:8080/",
          "height": 70
        }
      },
      "source": [
        "# Random Forest Classifier Model\n",
        "#\n",
        "RFC_model = RandomForestClassifier(n_estimators=10)\n",
        "scores = cross_val_score(RFC_model, x_train, y_train, cv=K_fold, \n",
        "                        n_jobs=4, scoring='accuracy')\n",
        "\n",
        "print(scores)\n",
        "round(np.mean(scores)*100, 2)"
      ],
      "execution_count": 0,
      "outputs": [
        {
          "output_type": "stream",
          "text": [
            "[0.8125     0.8        0.8        0.78571429 0.78571429 0.85714286\n",
            " 0.85714286 0.64285714 0.78571429 0.64285714]\n"
          ],
          "name": "stdout"
        },
        {
          "output_type": "execute_result",
          "data": {
            "text/plain": [
              "77.7"
            ]
          },
          "metadata": {
            "tags": []
          },
          "execution_count": 22
        }
      ]
    },
    {
      "cell_type": "code",
      "metadata": {
        "id": "L4ClOGUCLECV",
        "colab_type": "code",
        "outputId": "44fa7054-9317-412d-84c0-52865a92a476",
        "colab": {
          "base_uri": "https://localhost:8080/",
          "height": 70
        }
      },
      "source": [
        "# Gaussian Naive Bayes\n",
        "GNB_Model = GaussianNB()\n",
        "\n",
        "scores = cross_val_score(GNB_Model, x_train, y_train, cv=K_fold, \n",
        "                        n_jobs=4, scoring='accuracy')\n",
        "\n",
        "print(scores)\n",
        "round(np.mean(scores)*100, 2)"
      ],
      "execution_count": 0,
      "outputs": [
        {
          "output_type": "stream",
          "text": [
            "[0.875      0.8        0.86666667 0.85714286 1.         0.78571429\n",
            " 0.92857143 0.57142857 0.85714286 0.78571429]\n"
          ],
          "name": "stdout"
        },
        {
          "output_type": "execute_result",
          "data": {
            "text/plain": [
              "83.27"
            ]
          },
          "metadata": {
            "tags": []
          },
          "execution_count": 23
        }
      ]
    },
    {
      "cell_type": "code",
      "metadata": {
        "id": "Qt2QCRAJLIW0",
        "colab_type": "code",
        "outputId": "7a548c5e-3c88-4b4e-883a-88ddd46285fc",
        "colab": {
          "base_uri": "https://localhost:8080/",
          "height": 70
        }
      },
      "source": [
        "# Support Vector Machine\n",
        "SVM_Model = SVC()\n",
        "\n",
        "scores = cross_val_score(SVM_Model, x_train, y_train, cv=K_fold, \n",
        "                        n_jobs=4, scoring='accuracy')\n",
        "\n",
        "print(scores)\n",
        "round(np.mean(scores)*100, 2)"
      ],
      "execution_count": 0,
      "outputs": [
        {
          "output_type": "stream",
          "text": [
            "[0.5625     0.53333333 0.53333333 0.57142857 0.57142857 0.57142857\n",
            " 0.57142857 0.57142857 0.5        0.57142857]\n"
          ],
          "name": "stdout"
        },
        {
          "output_type": "execute_result",
          "data": {
            "text/plain": [
              "55.58"
            ]
          },
          "metadata": {
            "tags": []
          },
          "execution_count": 24
        }
      ]
    },
    {
      "cell_type": "code",
      "metadata": {
        "id": "Apy5YVDmLjg-",
        "colab_type": "code",
        "outputId": "b5fd2afe-7d16-442b-82bb-daba1e1e9d52",
        "colab": {
          "base_uri": "https://localhost:8080/",
          "height": 90
        }
      },
      "source": [
        "from sklearn.metrics import accuracy_score\n",
        "\n",
        "# Fit\n",
        "GNB_Model.fit(x_train, y_train)\n",
        "\n",
        "y_pred_gnb = GNB_Model.predict(x_test)\n",
        "\n",
        "# Accuracy\n",
        "acc = accuracy_score(y_test, y_pred_gnb)\n",
        "acc"
      ],
      "execution_count": 0,
      "outputs": [
        {
          "output_type": "stream",
          "text": [
            "/usr/local/lib/python3.6/dist-packages/sklearn/utils/validation.py:761: DataConversionWarning: A column-vector y was passed when a 1d array was expected. Please change the shape of y to (n_samples, ), for example using ravel().\n",
            "  y = column_or_1d(y, warn=True)\n"
          ],
          "name": "stderr"
        },
        {
          "output_type": "execute_result",
          "data": {
            "text/plain": [
              "0.6944444444444444"
            ]
          },
          "metadata": {
            "tags": []
          },
          "execution_count": 25
        }
      ]
    },
    {
      "cell_type": "code",
      "metadata": {
        "id": "OzzWhCQlM11u",
        "colab_type": "code",
        "outputId": "66389d02-f669-4125-d986-6196fa1ed3c6",
        "colab": {
          "base_uri": "https://localhost:8080/",
          "height": 35
        }
      },
      "source": [
        "y_pred_gnb[0]"
      ],
      "execution_count": 0,
      "outputs": [
        {
          "output_type": "execute_result",
          "data": {
            "text/plain": [
              "0.0"
            ]
          },
          "metadata": {
            "tags": []
          },
          "execution_count": 39
        }
      ]
    },
    {
      "cell_type": "code",
      "metadata": {
        "id": "HeQ16uoKNOid",
        "colab_type": "code",
        "outputId": "3f12fb22-3bc4-4226-adad-35d5f0d896c7",
        "colab": {
          "base_uri": "https://localhost:8080/",
          "height": 651
        }
      },
      "source": [
        "y_pred_gnb_log_proba = GNB_Model.predict_proba(x_test)\n",
        "y_pred_gnb_log_proba"
      ],
      "execution_count": 0,
      "outputs": [
        {
          "output_type": "execute_result",
          "data": {
            "text/plain": [
              "array([[9.99276271e-01, 7.23728785e-04],\n",
              "       [5.32490940e-02, 9.46750906e-01],\n",
              "       [9.98819084e-01, 1.18091636e-03],\n",
              "       [9.71672748e-01, 2.83272522e-02],\n",
              "       [7.18951318e-01, 2.81048682e-01],\n",
              "       [9.87987314e-01, 1.20126861e-02],\n",
              "       [4.69364637e-01, 5.30635363e-01],\n",
              "       [9.99303546e-01, 6.96453780e-04],\n",
              "       [9.61103526e-01, 3.88964739e-02],\n",
              "       [9.99312920e-01, 6.87079937e-04],\n",
              "       [9.96142730e-01, 3.85726956e-03],\n",
              "       [9.66494911e-01, 3.35050888e-02],\n",
              "       [9.97687297e-01, 2.31270337e-03],\n",
              "       [9.86700083e-01, 1.32999168e-02],\n",
              "       [2.25037978e-01, 7.74962022e-01],\n",
              "       [6.31634197e-06, 9.99993684e-01],\n",
              "       [3.14551143e-02, 9.68544886e-01],\n",
              "       [7.53573307e-01, 2.46426693e-01],\n",
              "       [1.49396924e-03, 9.98506031e-01],\n",
              "       [1.53558611e-02, 9.84644139e-01],\n",
              "       [1.05990358e-02, 9.89400964e-01],\n",
              "       [5.87699447e-01, 4.12300553e-01],\n",
              "       [2.51072794e-02, 9.74892721e-01],\n",
              "       [1.63921212e-01, 8.36078788e-01],\n",
              "       [3.83095896e-04, 9.99616904e-01],\n",
              "       [9.99424804e-01, 5.75196497e-04],\n",
              "       [3.73327046e-03, 9.96266730e-01],\n",
              "       [9.99330488e-01, 6.69512158e-04],\n",
              "       [5.15645502e-04, 9.99484354e-01],\n",
              "       [9.81266637e-01, 1.87333629e-02],\n",
              "       [4.91918361e-01, 5.08081639e-01],\n",
              "       [3.41165117e-06, 9.99996588e-01],\n",
              "       [1.56260164e-10, 1.00000000e+00],\n",
              "       [9.87443520e-01, 1.25564800e-02],\n",
              "       [9.92132792e-01, 7.86720782e-03],\n",
              "       [9.98334592e-01, 1.66540787e-03]])"
            ]
          },
          "metadata": {
            "tags": []
          },
          "execution_count": 28
        }
      ]
    },
    {
      "cell_type": "code",
      "metadata": {
        "id": "Fs0xwdFMOhA8",
        "colab_type": "code",
        "colab": {}
      },
      "source": [
        "# Logistic Regression\n",
        "#\n",
        "Log_Model = LogisticRegression(C=1)\n",
        "scores = cross_val_score(Log_Model, x_train, y_train, cv=K_fold, \n",
        "                        n_jobs=4, scoring='accuracy')\n",
        "\n",
        "print(scores)\n",
        "round(np.mean(scores)*100, 2)"
      ],
      "execution_count": 0,
      "outputs": []
    },
    {
      "cell_type": "code",
      "metadata": {
        "id": "gyAdb8HP7Jgr",
        "colab_type": "code",
        "outputId": "95ac8bee-ca47-4c3b-8682-b122e6b1d63a",
        "colab": {
          "base_uri": "https://localhost:8080/",
          "height": 35
        }
      },
      "source": [
        "from sklearn.metrics import accuracy_score\n",
        "\n",
        "LR_Model = LogisticRegression(C=1, solver='liblinear')\n",
        "# Fit\n",
        "LR_Model.fit(x_train, np.ravel(y_train))\n",
        "\n",
        "y_pred_LR = LR_Model.predict(x_test)\n",
        "\n",
        "# Accuracy\n",
        "acc_LR = accuracy_score(np.ravel(y_test), np.ravel(y_pred_LR))\n",
        "acc_LR"
      ],
      "execution_count": 0,
      "outputs": [
        {
          "output_type": "execute_result",
          "data": {
            "text/plain": [
              "0.7222222222222222"
            ]
          },
          "metadata": {
            "tags": []
          },
          "execution_count": 37
        }
      ]
    },
    {
      "cell_type": "code",
      "metadata": {
        "id": "_aQMB7wW8Inv",
        "colab_type": "code",
        "colab": {}
      },
      "source": [
        ""
      ],
      "execution_count": 0,
      "outputs": []
    }
  ]
}