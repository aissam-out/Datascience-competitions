{
  "nbformat": 4,
  "nbformat_minor": 0,
  "metadata": {
    "colab": {
      "name": "ML_algos_multi.ipynb",
      "version": "0.3.2",
      "provenance": [],
      "collapsed_sections": [],
      "include_colab_link": true
    },
    "kernelspec": {
      "name": "python3",
      "display_name": "Python 3"
    },
    "accelerator": "TPU"
  },
  "cells": [
    {
      "cell_type": "markdown",
      "metadata": {
        "id": "view-in-github",
        "colab_type": "text"
      },
      "source": [
        "<a href=\"https://colab.research.google.com/github/aissam-out/Predicting-Heart-Disease/blob/master/ML_algos_multi.ipynb\" target=\"_parent\"><img src=\"https://colab.research.google.com/assets/colab-badge.svg\" alt=\"Open In Colab\"/></a>"
      ]
    },
    {
      "cell_type": "markdown",
      "metadata": {
        "id": "gKz6ncAsKHRJ",
        "colab_type": "text"
      },
      "source": [
        "# Import resources"
      ]
    },
    {
      "cell_type": "code",
      "metadata": {
        "id": "T02NXf40O5Vs",
        "colab_type": "code",
        "colab": {}
      },
      "source": [
        "# import modules\n",
        "import numpy as np\n",
        "import pandas as pd \n",
        "import seaborn as sns\n",
        "import matplotlib.pyplot as plt\n",
        "from sklearn.model_selection import train_test_split\n",
        "%matplotlib inline"
      ],
      "execution_count": 0,
      "outputs": []
    },
    {
      "cell_type": "code",
      "metadata": {
        "id": "JzWNG3XKPnxF",
        "colab_type": "code",
        "colab": {}
      },
      "source": [
        "# Code to read csv file into Colaboratory:\n",
        "!pip install -U -q PyDrive\n",
        "from pydrive.auth import GoogleAuth\n",
        "from pydrive.drive import GoogleDrive\n",
        "from google.colab import auth\n",
        "from oauth2client.client import GoogleCredentials\n",
        "# Authenticate and create the PyDrive client.\n",
        "auth.authenticate_user()\n",
        "gauth = GoogleAuth()\n",
        "gauth.credentials = GoogleCredentials.get_application_default()\n",
        "drive = GoogleDrive(gauth)"
      ],
      "execution_count": 0,
      "outputs": []
    },
    {
      "cell_type": "code",
      "metadata": {
        "id": "THv9MR4yPxT7",
        "colab_type": "code",
        "colab": {}
      },
      "source": [
        "# loading the dataset\n",
        "downloaded_train_v = drive.CreateFile({'id':'******************'}) \n",
        "downloaded_train_l = drive.CreateFile({'id':'******************'}) \n",
        "\n",
        "downloaded_train_v.GetContentFile('train_values.csv')\n",
        "downloaded_train_l.GetContentFile('train_labels.csv')\n",
        "\n",
        "df_train_v = pd.read_csv(\"train_values.csv\")\n",
        "df_train_l = pd.read_csv(\"train_labels.csv\")"
      ],
      "execution_count": 0,
      "outputs": []
    },
    {
      "cell_type": "markdown",
      "metadata": {
        "id": "WVNcA8A-c0ps",
        "colab_type": "text"
      },
      "source": [
        "# Data Exploration & preprocessing"
      ]
    },
    {
      "cell_type": "code",
      "metadata": {
        "id": "TJmfrrIqRAvR",
        "colab_type": "code",
        "outputId": "896f42ad-7dbd-4b38-8ffa-39cc7525450a",
        "colab": {
          "base_uri": "https://localhost:8080/",
          "height": 99
        }
      },
      "source": [
        "# overview of the whole dataset\n",
        "data = df_train_v.copy()\n",
        "data['labels'] = df_train_l['heart_disease_present']\n",
        "data.sample()"
      ],
      "execution_count": 0,
      "outputs": [
        {
          "output_type": "execute_result",
          "data": {
            "text/html": [
              "<div>\n",
              "<style scoped>\n",
              "    .dataframe tbody tr th:only-of-type {\n",
              "        vertical-align: middle;\n",
              "    }\n",
              "\n",
              "    .dataframe tbody tr th {\n",
              "        vertical-align: top;\n",
              "    }\n",
              "\n",
              "    .dataframe thead th {\n",
              "        text-align: right;\n",
              "    }\n",
              "</style>\n",
              "<table border=\"1\" class=\"dataframe\">\n",
              "  <thead>\n",
              "    <tr style=\"text-align: right;\">\n",
              "      <th></th>\n",
              "      <th>patient_id</th>\n",
              "      <th>slope_of_peak_exercise_st_segment</th>\n",
              "      <th>thal</th>\n",
              "      <th>resting_blood_pressure</th>\n",
              "      <th>chest_pain_type</th>\n",
              "      <th>num_major_vessels</th>\n",
              "      <th>fasting_blood_sugar_gt_120_mg_per_dl</th>\n",
              "      <th>resting_ekg_results</th>\n",
              "      <th>serum_cholesterol_mg_per_dl</th>\n",
              "      <th>oldpeak_eq_st_depression</th>\n",
              "      <th>sex</th>\n",
              "      <th>age</th>\n",
              "      <th>max_heart_rate_achieved</th>\n",
              "      <th>exercise_induced_angina</th>\n",
              "      <th>labels</th>\n",
              "    </tr>\n",
              "  </thead>\n",
              "  <tbody>\n",
              "    <tr>\n",
              "      <th>172</th>\n",
              "      <td>j9tw19</td>\n",
              "      <td>2</td>\n",
              "      <td>reversible_defect</td>\n",
              "      <td>118</td>\n",
              "      <td>4</td>\n",
              "      <td>0</td>\n",
              "      <td>0</td>\n",
              "      <td>0</td>\n",
              "      <td>219</td>\n",
              "      <td>1.2</td>\n",
              "      <td>1</td>\n",
              "      <td>39</td>\n",
              "      <td>140</td>\n",
              "      <td>0</td>\n",
              "      <td>1</td>\n",
              "    </tr>\n",
              "  </tbody>\n",
              "</table>\n",
              "</div>"
            ],
            "text/plain": [
              "    patient_id  slope_of_peak_exercise_st_segment               thal  \\\n",
              "172     j9tw19                                  2  reversible_defect   \n",
              "\n",
              "     resting_blood_pressure  chest_pain_type  num_major_vessels  \\\n",
              "172                     118                4                  0   \n",
              "\n",
              "     fasting_blood_sugar_gt_120_mg_per_dl  resting_ekg_results  \\\n",
              "172                                     0                    0   \n",
              "\n",
              "     serum_cholesterol_mg_per_dl  oldpeak_eq_st_depression  sex  age  \\\n",
              "172                          219                       1.2    1   39   \n",
              "\n",
              "     max_heart_rate_achieved  exercise_induced_angina  labels  \n",
              "172                      140                        0       1  "
            ]
          },
          "metadata": {
            "tags": []
          },
          "execution_count": 4
        }
      ]
    },
    {
      "cell_type": "code",
      "metadata": {
        "id": "396N2l-tTSk3",
        "colab_type": "code",
        "outputId": "cec2d817-cb24-4412-dc84-d9d8968007b8",
        "colab": {
          "base_uri": "https://localhost:8080/",
          "height": 123
        }
      },
      "source": [
        "data.columns"
      ],
      "execution_count": 0,
      "outputs": [
        {
          "output_type": "execute_result",
          "data": {
            "text/plain": [
              "Index(['patient_id', 'slope_of_peak_exercise_st_segment', 'thal',\n",
              "       'resting_blood_pressure', 'chest_pain_type', 'num_major_vessels',\n",
              "       'fasting_blood_sugar_gt_120_mg_per_dl', 'resting_ekg_results',\n",
              "       'serum_cholesterol_mg_per_dl', 'oldpeak_eq_st_depression', 'sex', 'age',\n",
              "       'max_heart_rate_achieved', 'exercise_induced_angina', 'labels'],\n",
              "      dtype='object')"
            ]
          },
          "metadata": {
            "tags": []
          },
          "execution_count": 5
        }
      ]
    },
    {
      "cell_type": "code",
      "metadata": {
        "id": "Uz4sQ97zO-kd",
        "colab_type": "code",
        "colab": {}
      },
      "source": [
        "# replace strings with numbers\n",
        "df_train_v['thal'] = df_train_v['thal'].replace({'normal':0,'reversible_defect':1, 'fixed_defect':2})\n",
        "\n",
        "# drop ID column\n",
        "df_train_v = df_train_v.drop(\"patient_id\", axis=1)\n",
        "df_train_l = df_train_l.drop(\"patient_id\", axis=1)\n",
        "\n",
        "# convert to values\n",
        "df_train_v = (df_train_v.values).astype('float32') \n",
        "df_train_l = df_train_l.values.astype('float32')"
      ],
      "execution_count": 0,
      "outputs": []
    },
    {
      "cell_type": "markdown",
      "metadata": {
        "id": "JEIEjF4KFBvy",
        "colab_type": "text"
      },
      "source": [
        "# Training"
      ]
    },
    {
      "cell_type": "code",
      "metadata": {
        "id": "nHtfTGRQFTJp",
        "colab_type": "code",
        "colab": {}
      },
      "source": [
        "from sklearn.metrics import log_loss\n",
        "from sklearn.pipeline import Pipeline\n",
        "from sklearn.preprocessing import StandardScaler\n",
        "from sklearn.model_selection import GridSearchCV\n",
        "from sklearn.linear_model import LogisticRegression\n",
        "from sklearn.ensemble import GradientBoostingClassifier"
      ],
      "execution_count": 0,
      "outputs": []
    },
    {
      "cell_type": "code",
      "metadata": {
        "id": "34ds7CnjP84C",
        "colab_type": "code",
        "colab": {}
      },
      "source": [
        "evaluation = {}\n",
        "evaluation_param = []\n",
        "\n",
        "parameters = {\n",
        "    \"loss\":[\"deviance\"],\n",
        "    \"learning_rate\": [0.02,0.1],\n",
        "    \"min_samples_leaf\": [1],\n",
        "    \"max_depth\":[5],\n",
        "    \"n_estimators\":[100]\n",
        "    }\n",
        "\n",
        "def prep_results(model):\n",
        "  predictions_indabax = model.predict_proba(test_indabax)\n",
        "  submission = predictions_indabax\n",
        "  results = pd.DataFrame(submission)\n",
        "  df_sub_indabax[\"heart_disease_present\"] = results\n",
        "  \n",
        "  return df_sub_indabax\n",
        "\n",
        "def agregation_model():\n",
        "  model = GridSearchCV(GradientBoostingClassifier(), parameters, cv=10, n_jobs=-1, verbose=3)\n",
        "  model.fit(x_train, y_train)\n",
        "  model.best_params_\n",
        "  evaluation_param.append(model.best_params_)\n",
        "  print(model.best_params_)\n",
        "  predictions = model.predict_proba(x_test)[:, 1]\n",
        "  print(\"log loss : \", log_loss(y_test, predictions))\n",
        "  \n",
        "  return model, predictions"
      ],
      "execution_count": 0,
      "outputs": []
    },
    {
      "cell_type": "markdown",
      "metadata": {
        "id": "B1B37HKQIuGR",
        "colab_type": "text"
      },
      "source": [
        "# indabax test"
      ]
    },
    {
      "cell_type": "code",
      "metadata": {
        "id": "NO_sm_rDItdO",
        "colab_type": "code",
        "colab": {}
      },
      "source": [
        "# load the test set\n",
        "downloaded_test_v = drive.CreateFile({'id':'********************'})\n",
        "downloaded_test_v.GetContentFile('test_values.csv')\n",
        "\n",
        "df_test_v = pd.read_csv(\"test_values.csv\")\n",
        "test_indabax = df_test_v.copy()\n",
        "\n",
        "# preprocess test set\n",
        "test_indabax['thal'] = test_indabax['thal'].replace({'normal':0,'reversible_defect':1, 'fixed_defect':2})\n",
        "test_indabax = test_indabax.drop(\"patient_id\", axis=1)\n",
        "test_indabax = (test_indabax.values).astype('float32')\n",
        "\n",
        "# load submission form\n",
        "sub_form = drive.CreateFile({'id':'*********************'})\n",
        "sub_form.GetContentFile('submission_format.csv')\n",
        "\n",
        "df_sub = pd.read_csv(\"submission_format.csv\")\n",
        "df_sub_indabax = df_sub.copy()"
      ],
      "execution_count": 0,
      "outputs": []
    },
    {
      "cell_type": "markdown",
      "metadata": {
        "id": "RZWLmyfmPUUG",
        "colab_type": "text"
      },
      "source": [
        "# Save results"
      ]
    },
    {
      "cell_type": "code",
      "metadata": {
        "id": "8gcvhS3eELpt",
        "colab_type": "code",
        "outputId": "af7df5cc-4f56-47c0-e842-47ded6a38c2b",
        "colab": {
          "base_uri": "https://localhost:8080/",
          "height": 35
        }
      },
      "source": [
        "from google.colab import drive\n",
        "drive.mount('/content/gdrive')"
      ],
      "execution_count": 0,
      "outputs": [
        {
          "output_type": "stream",
          "text": [
            "Drive already mounted at /content/gdrive; to attempt to forcibly remount, call drive.mount(\"/content/gdrive\", force_remount=True).\n"
          ],
          "name": "stdout"
        }
      ]
    },
    {
      "cell_type": "code",
      "metadata": {
        "id": "9u1Pu1ESEpQP",
        "colab_type": "code",
        "colab": {}
      },
      "source": [
        "!ls"
      ],
      "execution_count": 0,
      "outputs": []
    },
    {
      "cell_type": "markdown",
      "metadata": {
        "id": "U1Vl43OFFyBJ",
        "colab_type": "text"
      },
      "source": [
        "# Multi tests"
      ]
    },
    {
      "cell_type": "markdown",
      "metadata": {
        "id": "Yz9vZP2rOYeE",
        "colab_type": "text"
      },
      "source": [
        "# Test 1"
      ]
    },
    {
      "cell_type": "code",
      "metadata": {
        "id": "wikNeIa1KMtT",
        "colab_type": "code",
        "outputId": "96f3e1ba-1c6d-44dc-905a-ab9dcbeb7fea",
        "colab": {
          "base_uri": "https://localhost:8080/",
          "height": 160
        }
      },
      "source": [
        "x_train, x_test, y_train, y_test = train_test_split(df_train_v, df_train_l, test_size=0.2)\n",
        "y_train = np.ravel(y_train)\n",
        "\n",
        "model_1, predictions_1 = agregation_model()\n",
        "evaluation.update({\"model_1\" : log_loss(y_test, predictions_1)})\n",
        "\n",
        "df_sub_indabax = prep_results(model_1)\n",
        "df_sub_indabax.to_csv(\"results_ML_1.csv\", header=True, index=False)\n",
        "\n",
        "%cp results_ML_1.csv gdrive/'My Drive'/'Colab Notebooks'/indabax"
      ],
      "execution_count": 0,
      "outputs": [
        {
          "output_type": "stream",
          "text": [
            "Fitting 10 folds for each of 2 candidates, totalling 20 fits\n"
          ],
          "name": "stdout"
        },
        {
          "output_type": "stream",
          "text": [
            "[Parallel(n_jobs=-1)]: Using backend LokyBackend with 2 concurrent workers.\n",
            "[Parallel(n_jobs=-1)]: Done  20 out of  20 | elapsed:    3.2s finished\n",
            "/usr/local/lib/python3.6/dist-packages/sklearn/model_selection/_search.py:841: DeprecationWarning: The default of the `iid` parameter will change from True to False in version 0.22 and will be removed in 0.24. This will change numeric results when test-set sizes are unequal.\n",
            "  DeprecationWarning)\n"
          ],
          "name": "stderr"
        },
        {
          "output_type": "stream",
          "text": [
            "{'learning_rate': 0.1, 'loss': 'deviance', 'max_depth': 5, 'min_samples_leaf': 1, 'n_estimators': 100}\n",
            "log loss :  0.9844838451759874\n"
          ],
          "name": "stdout"
        }
      ]
    },
    {
      "cell_type": "markdown",
      "metadata": {
        "id": "FRrEft__Qkyu",
        "colab_type": "text"
      },
      "source": [
        "# Test 2"
      ]
    },
    {
      "cell_type": "code",
      "metadata": {
        "id": "_Hs4Y_uIH9uX",
        "colab_type": "code",
        "outputId": "f3654097-6b31-4416-a0b4-7a2a6cfa36b7",
        "colab": {
          "base_uri": "https://localhost:8080/",
          "height": 160
        }
      },
      "source": [
        "x_train, x_test, y_train, y_test = train_test_split(df_train_v, df_train_l, test_size=0.2)\n",
        "y_train = np.ravel(y_train)\n",
        "\n",
        "model_2, predictions_2 = agregation_model()\n",
        "evaluation.update({\"model_2\" : log_loss(y_test, predictions_2)})\n",
        "\n",
        "df_sub_indabax_2 = prep_results(model_2)\n",
        "df_sub_indabax_2.to_csv(\"results_ML_2.csv\", header=True, index=False)\n",
        "\n",
        "%cp results_ML_2.csv gdrive/'My Drive'/'Colab Notebooks'/indabax"
      ],
      "execution_count": 0,
      "outputs": [
        {
          "output_type": "stream",
          "text": [
            "Fitting 10 folds for each of 2 candidates, totalling 20 fits\n"
          ],
          "name": "stdout"
        },
        {
          "output_type": "stream",
          "text": [
            "[Parallel(n_jobs=-1)]: Using backend LokyBackend with 2 concurrent workers.\n",
            "[Parallel(n_jobs=-1)]: Done  20 out of  20 | elapsed:    1.7s finished\n",
            "/usr/local/lib/python3.6/dist-packages/sklearn/model_selection/_search.py:841: DeprecationWarning: The default of the `iid` parameter will change from True to False in version 0.22 and will be removed in 0.24. This will change numeric results when test-set sizes are unequal.\n",
            "  DeprecationWarning)\n"
          ],
          "name": "stderr"
        },
        {
          "output_type": "stream",
          "text": [
            "{'learning_rate': 0.1, 'loss': 'deviance', 'max_depth': 5, 'min_samples_leaf': 1, 'n_estimators': 100}\n",
            "log loss :  0.6843644041414895\n"
          ],
          "name": "stdout"
        }
      ]
    },
    {
      "cell_type": "markdown",
      "metadata": {
        "id": "CRVF79z-Q4aA",
        "colab_type": "text"
      },
      "source": [
        "# Test 3"
      ]
    },
    {
      "cell_type": "code",
      "metadata": {
        "id": "M53_PyuzH9r-",
        "colab_type": "code",
        "outputId": "65d3140c-e583-4470-9e99-60c7a66d6034",
        "colab": {
          "base_uri": "https://localhost:8080/",
          "height": 160
        }
      },
      "source": [
        "x_train, x_test, y_train, y_test = train_test_split(df_train_v, df_train_l, test_size=0.2)\n",
        "y_train = np.ravel(y_train)\n",
        "\n",
        "model_3, predictions_3 = agregation_model()\n",
        "evaluation.update({\"model_3\" : log_loss(y_test, predictions_3)})\n",
        "\n",
        "df_sub_indabax_3 = prep_results(model_3)\n",
        "df_sub_indabax_3.to_csv(\"results_ML_3.csv\", header=True, index=False)\n",
        "\n",
        "%cp results_ML_3.csv gdrive/'My Drive'/'Colab Notebooks'/indabax"
      ],
      "execution_count": 0,
      "outputs": [
        {
          "output_type": "stream",
          "text": [
            "Fitting 10 folds for each of 2 candidates, totalling 20 fits\n"
          ],
          "name": "stdout"
        },
        {
          "output_type": "stream",
          "text": [
            "[Parallel(n_jobs=-1)]: Using backend LokyBackend with 2 concurrent workers.\n",
            "[Parallel(n_jobs=-1)]: Done  20 out of  20 | elapsed:    1.7s finished\n",
            "/usr/local/lib/python3.6/dist-packages/sklearn/model_selection/_search.py:841: DeprecationWarning: The default of the `iid` parameter will change from True to False in version 0.22 and will be removed in 0.24. This will change numeric results when test-set sizes are unequal.\n",
            "  DeprecationWarning)\n"
          ],
          "name": "stderr"
        },
        {
          "output_type": "stream",
          "text": [
            "{'learning_rate': 0.1, 'loss': 'deviance', 'max_depth': 5, 'min_samples_leaf': 1, 'n_estimators': 100}\n",
            "log loss :  0.216397418918331\n"
          ],
          "name": "stdout"
        }
      ]
    },
    {
      "cell_type": "markdown",
      "metadata": {
        "id": "g7THLEt7Q8Bw",
        "colab_type": "text"
      },
      "source": [
        "# Test 4"
      ]
    },
    {
      "cell_type": "code",
      "metadata": {
        "id": "Rl25RlUIQ9n4",
        "colab_type": "code",
        "outputId": "53c8dfc3-85cf-4413-a836-48866f65db8b",
        "colab": {
          "base_uri": "https://localhost:8080/",
          "height": 160
        }
      },
      "source": [
        "x_train, x_test, y_train, y_test = train_test_split(df_train_v, df_train_l, test_size=0.2)\n",
        "y_train = np.ravel(y_train)\n",
        "\n",
        "model_4, predictions_4 = agregation_model()\n",
        "evaluation.update({\"model_4\" : log_loss(y_test, predictions_4)})\n",
        "\n",
        "df_sub_indabax_4 = prep_results(model_4)\n",
        "df_sub_indabax_4.to_csv(\"results_ML_4.csv\", header=True, index=False)\n",
        "\n",
        "%cp results_ML_4.csv gdrive/'My Drive'/'Colab Notebooks'/indabax"
      ],
      "execution_count": 0,
      "outputs": [
        {
          "output_type": "stream",
          "text": [
            "Fitting 10 folds for each of 2 candidates, totalling 20 fits\n"
          ],
          "name": "stdout"
        },
        {
          "output_type": "stream",
          "text": [
            "[Parallel(n_jobs=-1)]: Using backend LokyBackend with 2 concurrent workers.\n",
            "[Parallel(n_jobs=-1)]: Done  20 out of  20 | elapsed:    1.6s finished\n",
            "/usr/local/lib/python3.6/dist-packages/sklearn/model_selection/_search.py:841: DeprecationWarning: The default of the `iid` parameter will change from True to False in version 0.22 and will be removed in 0.24. This will change numeric results when test-set sizes are unequal.\n",
            "  DeprecationWarning)\n"
          ],
          "name": "stderr"
        },
        {
          "output_type": "stream",
          "text": [
            "{'learning_rate': 0.1, 'loss': 'deviance', 'max_depth': 5, 'min_samples_leaf': 1, 'n_estimators': 100}\n",
            "log loss :  0.7287725126073084\n"
          ],
          "name": "stdout"
        }
      ]
    },
    {
      "cell_type": "markdown",
      "metadata": {
        "id": "ndjzoV1qRAm8",
        "colab_type": "text"
      },
      "source": [
        "# Test 5"
      ]
    },
    {
      "cell_type": "code",
      "metadata": {
        "id": "zcYnW54ARB_n",
        "colab_type": "code",
        "outputId": "6c01e186-f2ba-4017-c0eb-a5fb93804be0",
        "colab": {
          "base_uri": "https://localhost:8080/",
          "height": 160
        }
      },
      "source": [
        "x_train, x_test, y_train, y_test = train_test_split(df_train_v, df_train_l, test_size=0.2)\n",
        "y_train = np.ravel(y_train)\n",
        "\n",
        "model_5, predictions_5 = agregation_model()\n",
        "evaluation.update({\"model_5\" : log_loss(y_test, predictions_5)})\n",
        "\n",
        "df_sub_indabax_5 = prep_results(model_5)\n",
        "df_sub_indabax_5.to_csv(\"results_ML_5.csv\", header=True, index=False)\n",
        "\n",
        "%cp results_ML_5.csv gdrive/'My Drive'/'Colab Notebooks'/indabax"
      ],
      "execution_count": 0,
      "outputs": [
        {
          "output_type": "stream",
          "text": [
            "Fitting 10 folds for each of 2 candidates, totalling 20 fits\n"
          ],
          "name": "stdout"
        },
        {
          "output_type": "stream",
          "text": [
            "[Parallel(n_jobs=-1)]: Using backend LokyBackend with 2 concurrent workers.\n",
            "[Parallel(n_jobs=-1)]: Done  20 out of  20 | elapsed:    1.6s finished\n",
            "/usr/local/lib/python3.6/dist-packages/sklearn/model_selection/_search.py:841: DeprecationWarning: The default of the `iid` parameter will change from True to False in version 0.22 and will be removed in 0.24. This will change numeric results when test-set sizes are unequal.\n",
            "  DeprecationWarning)\n"
          ],
          "name": "stderr"
        },
        {
          "output_type": "stream",
          "text": [
            "{'learning_rate': 0.1, 'loss': 'deviance', 'max_depth': 5, 'min_samples_leaf': 1, 'n_estimators': 100}\n",
            "log loss :  1.1726018447789484\n"
          ],
          "name": "stdout"
        }
      ]
    },
    {
      "cell_type": "markdown",
      "metadata": {
        "id": "F3WHUhnrM-7O",
        "colab_type": "text"
      },
      "source": [
        "# Test 6"
      ]
    },
    {
      "cell_type": "code",
      "metadata": {
        "id": "SBRxUqLoNAd3",
        "colab_type": "code",
        "outputId": "d05e5e2b-9400-4868-928a-bbe4b01f3676",
        "colab": {
          "base_uri": "https://localhost:8080/",
          "height": 160
        }
      },
      "source": [
        "x_train, x_test, y_train, y_test = train_test_split(df_train_v, df_train_l, test_size=0.2)\n",
        "y_train = np.ravel(y_train)\n",
        "\n",
        "model_6, predictions_6 = agregation_model()\n",
        "evaluation.update({\"model_6\" : log_loss(y_test, predictions_6)})\n",
        "\n",
        "df_sub_indabax_6 = prep_results(model_6)\n",
        "df_sub_indabax_6.to_csv(\"results_ML_6.csv\", header=True, index=False)\n",
        "\n",
        "%cp results_ML_6.csv gdrive/'My Drive'/'Colab Notebooks'/indabax"
      ],
      "execution_count": 0,
      "outputs": [
        {
          "output_type": "stream",
          "text": [
            "Fitting 10 folds for each of 2 candidates, totalling 20 fits\n"
          ],
          "name": "stdout"
        },
        {
          "output_type": "stream",
          "text": [
            "[Parallel(n_jobs=-1)]: Using backend LokyBackend with 2 concurrent workers.\n",
            "[Parallel(n_jobs=-1)]: Done  20 out of  20 | elapsed:    1.6s finished\n",
            "/usr/local/lib/python3.6/dist-packages/sklearn/model_selection/_search.py:841: DeprecationWarning: The default of the `iid` parameter will change from True to False in version 0.22 and will be removed in 0.24. This will change numeric results when test-set sizes are unequal.\n",
            "  DeprecationWarning)\n"
          ],
          "name": "stderr"
        },
        {
          "output_type": "stream",
          "text": [
            "{'learning_rate': 0.1, 'loss': 'deviance', 'max_depth': 5, 'min_samples_leaf': 1, 'n_estimators': 100}\n",
            "log loss :  1.2028140154061047\n"
          ],
          "name": "stdout"
        }
      ]
    },
    {
      "cell_type": "markdown",
      "metadata": {
        "id": "yxI69o-kNjpz",
        "colab_type": "text"
      },
      "source": [
        "# Test 7"
      ]
    },
    {
      "cell_type": "code",
      "metadata": {
        "id": "o1dSRN3nNIyk",
        "colab_type": "code",
        "outputId": "71bcc04f-7a7f-46bc-bebc-86821f175025",
        "colab": {
          "base_uri": "https://localhost:8080/",
          "height": 160
        }
      },
      "source": [
        "x_train, x_test, y_train, y_test = train_test_split(df_train_v, df_train_l, test_size=0.2)\n",
        "y_train = np.ravel(y_train)\n",
        "\n",
        "model_7, predictions_7 = agregation_model()\n",
        "evaluation.update({\"model_7\" : log_loss(y_test, predictions_7)})\n",
        "\n",
        "df_sub_indabax_7 = prep_results(model_7)\n",
        "df_sub_indabax_7.to_csv(\"results_ML_7.csv\", header=True, index=False)\n",
        "\n",
        "%cp results_ML_7.csv gdrive/'My Drive'/'Colab Notebooks'/indabax"
      ],
      "execution_count": 0,
      "outputs": [
        {
          "output_type": "stream",
          "text": [
            "Fitting 10 folds for each of 2 candidates, totalling 20 fits\n"
          ],
          "name": "stdout"
        },
        {
          "output_type": "stream",
          "text": [
            "[Parallel(n_jobs=-1)]: Using backend LokyBackend with 2 concurrent workers.\n",
            "[Parallel(n_jobs=-1)]: Done  20 out of  20 | elapsed:    1.7s finished\n",
            "/usr/local/lib/python3.6/dist-packages/sklearn/model_selection/_search.py:841: DeprecationWarning: The default of the `iid` parameter will change from True to False in version 0.22 and will be removed in 0.24. This will change numeric results when test-set sizes are unequal.\n",
            "  DeprecationWarning)\n"
          ],
          "name": "stderr"
        },
        {
          "output_type": "stream",
          "text": [
            "{'learning_rate': 0.1, 'loss': 'deviance', 'max_depth': 5, 'min_samples_leaf': 1, 'n_estimators': 100}\n",
            "log loss :  0.7668950557332302\n"
          ],
          "name": "stdout"
        }
      ]
    },
    {
      "cell_type": "markdown",
      "metadata": {
        "id": "BPft-_fINogC",
        "colab_type": "text"
      },
      "source": [
        "# Test 8"
      ]
    },
    {
      "cell_type": "code",
      "metadata": {
        "id": "yCK2qjEFNQw5",
        "colab_type": "code",
        "outputId": "1d07004f-8fe8-447f-9da2-28ffe6eb61e1",
        "colab": {
          "base_uri": "https://localhost:8080/",
          "height": 160
        }
      },
      "source": [
        "x_train, x_test, y_train, y_test = train_test_split(df_train_v, df_train_l, test_size=0.2)\n",
        "y_train = np.ravel(y_train)\n",
        "\n",
        "model_8, predictions_8 = agregation_model()\n",
        "evaluation.update({\"model_8\" : log_loss(y_test, predictions_8)})\n",
        "\n",
        "df_sub_indabax_8 = prep_results(model_8)\n",
        "df_sub_indabax_8.to_csv(\"results_ML_8.csv\", header=True, index=False)\n",
        "\n",
        "%cp results_ML_8.csv gdrive/'My Drive'/'Colab Notebooks'/indabax"
      ],
      "execution_count": 0,
      "outputs": [
        {
          "output_type": "stream",
          "text": [
            "Fitting 10 folds for each of 2 candidates, totalling 20 fits\n"
          ],
          "name": "stdout"
        },
        {
          "output_type": "stream",
          "text": [
            "[Parallel(n_jobs=-1)]: Using backend LokyBackend with 2 concurrent workers.\n",
            "[Parallel(n_jobs=-1)]: Done  20 out of  20 | elapsed:    1.7s finished\n",
            "/usr/local/lib/python3.6/dist-packages/sklearn/model_selection/_search.py:841: DeprecationWarning: The default of the `iid` parameter will change from True to False in version 0.22 and will be removed in 0.24. This will change numeric results when test-set sizes are unequal.\n",
            "  DeprecationWarning)\n"
          ],
          "name": "stderr"
        },
        {
          "output_type": "stream",
          "text": [
            "{'learning_rate': 0.1, 'loss': 'deviance', 'max_depth': 5, 'min_samples_leaf': 1, 'n_estimators': 100}\n",
            "log loss :  0.9982589453282338\n"
          ],
          "name": "stdout"
        }
      ]
    },
    {
      "cell_type": "markdown",
      "metadata": {
        "id": "4mCrpU4RNqiL",
        "colab_type": "text"
      },
      "source": [
        "# Test 9"
      ]
    },
    {
      "cell_type": "code",
      "metadata": {
        "id": "nz5586A7NXYg",
        "colab_type": "code",
        "outputId": "a30c6ec0-1764-48e2-9df5-fdd7a714302d",
        "colab": {
          "base_uri": "https://localhost:8080/",
          "height": 160
        }
      },
      "source": [
        "x_train, x_test, y_train, y_test = train_test_split(df_train_v, df_train_l, test_size=0.2)\n",
        "y_train = np.ravel(y_train)\n",
        "\n",
        "model_9, predictions_9 = agregation_model()\n",
        "evaluation.update({\"model_9\" : log_loss(y_test, predictions_9)})\n",
        "\n",
        "df_sub_indabax_9 = prep_results(model_9)\n",
        "df_sub_indabax_9.to_csv(\"results_ML_9.csv\", header=True, index=False)\n",
        "\n",
        "%cp results_ML_9.csv gdrive/'My Drive'/'Colab Notebooks'/indabax"
      ],
      "execution_count": 0,
      "outputs": [
        {
          "output_type": "stream",
          "text": [
            "Fitting 10 folds for each of 2 candidates, totalling 20 fits\n"
          ],
          "name": "stdout"
        },
        {
          "output_type": "stream",
          "text": [
            "[Parallel(n_jobs=-1)]: Using backend LokyBackend with 2 concurrent workers.\n",
            "[Parallel(n_jobs=-1)]: Done  20 out of  20 | elapsed:    1.6s finished\n",
            "/usr/local/lib/python3.6/dist-packages/sklearn/model_selection/_search.py:841: DeprecationWarning: The default of the `iid` parameter will change from True to False in version 0.22 and will be removed in 0.24. This will change numeric results when test-set sizes are unequal.\n",
            "  DeprecationWarning)\n"
          ],
          "name": "stderr"
        },
        {
          "output_type": "stream",
          "text": [
            "{'learning_rate': 0.1, 'loss': 'deviance', 'max_depth': 5, 'min_samples_leaf': 1, 'n_estimators': 100}\n",
            "log loss :  1.0020376398176976\n"
          ],
          "name": "stdout"
        }
      ]
    },
    {
      "cell_type": "markdown",
      "metadata": {
        "id": "x2uD6sN5NtDf",
        "colab_type": "text"
      },
      "source": [
        "# Test 10"
      ]
    },
    {
      "cell_type": "code",
      "metadata": {
        "id": "AvGJzrIKNdHO",
        "colab_type": "code",
        "outputId": "4a5c93e0-af8f-4ebf-f3fb-71a5930ad2b2",
        "colab": {
          "base_uri": "https://localhost:8080/",
          "height": 160
        }
      },
      "source": [
        "x_train, x_test, y_train, y_test = train_test_split(df_train_v, df_train_l, test_size=0.2)\n",
        "y_train = np.ravel(y_train)\n",
        "\n",
        "model_10, predictions_10 = agregation_model()\n",
        "evaluation.update({\"model_10\" : log_loss(y_test, predictions_10)})\n",
        "\n",
        "df_sub_indabax_10 = prep_results(model_10)\n",
        "df_sub_indabax_10.to_csv(\"results_ML_10.csv\", header=True, index=False)\n",
        "\n",
        "%cp results_ML_10.csv gdrive/'My Drive'/'Colab Notebooks'/indabax"
      ],
      "execution_count": 0,
      "outputs": [
        {
          "output_type": "stream",
          "text": [
            "Fitting 10 folds for each of 2 candidates, totalling 20 fits\n"
          ],
          "name": "stdout"
        },
        {
          "output_type": "stream",
          "text": [
            "[Parallel(n_jobs=-1)]: Using backend LokyBackend with 2 concurrent workers.\n",
            "[Parallel(n_jobs=-1)]: Done  20 out of  20 | elapsed:    1.6s finished\n",
            "/usr/local/lib/python3.6/dist-packages/sklearn/model_selection/_search.py:841: DeprecationWarning: The default of the `iid` parameter will change from True to False in version 0.22 and will be removed in 0.24. This will change numeric results when test-set sizes are unequal.\n",
            "  DeprecationWarning)\n"
          ],
          "name": "stderr"
        },
        {
          "output_type": "stream",
          "text": [
            "{'learning_rate': 0.1, 'loss': 'deviance', 'max_depth': 5, 'min_samples_leaf': 1, 'n_estimators': 100}\n",
            "log loss :  0.809247281048007\n"
          ],
          "name": "stdout"
        }
      ]
    },
    {
      "cell_type": "markdown",
      "metadata": {
        "id": "33hyVXDPYlKe",
        "colab_type": "text"
      },
      "source": [
        "# Evaluation"
      ]
    },
    {
      "cell_type": "code",
      "metadata": {
        "id": "DLTIUyKnJLnU",
        "colab_type": "code",
        "outputId": "8d22c491-42a4-42a1-b31f-bc16974d2cc3",
        "colab": {
          "base_uri": "https://localhost:8080/",
          "height": 193
        }
      },
      "source": [
        "import operator\n",
        "sorted_x = sorted(evaluation.items(), key=operator.itemgetter(1))\n",
        "sorted_x"
      ],
      "execution_count": 0,
      "outputs": [
        {
          "output_type": "execute_result",
          "data": {
            "text/plain": [
              "[('model_3', 0.216397418918331),\n",
              " ('model_2', 0.6843644041414895),\n",
              " ('model_4', 0.7287725126073084),\n",
              " ('model_7', 0.7668950557332302),\n",
              " ('model_10', 0.809247281048007),\n",
              " ('model_1', 0.9844838451759874),\n",
              " ('model_8', 0.9982589453282338),\n",
              " ('model_9', 1.0020376398176976),\n",
              " ('model_5', 1.1726018447789484),\n",
              " ('model_6', 1.2028140154061047)]"
            ]
          },
          "metadata": {
            "tags": []
          },
          "execution_count": 22
        }
      ]
    },
    {
      "cell_type": "code",
      "metadata": {
        "id": "Tee91MYrXAzj",
        "colab_type": "code",
        "outputId": "2725b580-1e32-4bf0-b4ef-371ddcfc35ac",
        "colab": {
          "base_uri": "https://localhost:8080/",
          "height": 357
        }
      },
      "source": [
        "para = pd.DataFrame(evaluation_param)\n",
        "para.index += 1\n",
        "para\n"
      ],
      "execution_count": 0,
      "outputs": [
        {
          "output_type": "execute_result",
          "data": {
            "text/html": [
              "<div>\n",
              "<style scoped>\n",
              "    .dataframe tbody tr th:only-of-type {\n",
              "        vertical-align: middle;\n",
              "    }\n",
              "\n",
              "    .dataframe tbody tr th {\n",
              "        vertical-align: top;\n",
              "    }\n",
              "\n",
              "    .dataframe thead th {\n",
              "        text-align: right;\n",
              "    }\n",
              "</style>\n",
              "<table border=\"1\" class=\"dataframe\">\n",
              "  <thead>\n",
              "    <tr style=\"text-align: right;\">\n",
              "      <th></th>\n",
              "      <th>learning_rate</th>\n",
              "      <th>loss</th>\n",
              "      <th>max_depth</th>\n",
              "      <th>min_samples_leaf</th>\n",
              "      <th>n_estimators</th>\n",
              "    </tr>\n",
              "  </thead>\n",
              "  <tbody>\n",
              "    <tr>\n",
              "      <th>1</th>\n",
              "      <td>0.1</td>\n",
              "      <td>deviance</td>\n",
              "      <td>5</td>\n",
              "      <td>1</td>\n",
              "      <td>100</td>\n",
              "    </tr>\n",
              "    <tr>\n",
              "      <th>2</th>\n",
              "      <td>0.1</td>\n",
              "      <td>deviance</td>\n",
              "      <td>5</td>\n",
              "      <td>1</td>\n",
              "      <td>100</td>\n",
              "    </tr>\n",
              "    <tr>\n",
              "      <th>3</th>\n",
              "      <td>0.1</td>\n",
              "      <td>deviance</td>\n",
              "      <td>5</td>\n",
              "      <td>1</td>\n",
              "      <td>100</td>\n",
              "    </tr>\n",
              "    <tr>\n",
              "      <th>4</th>\n",
              "      <td>0.1</td>\n",
              "      <td>deviance</td>\n",
              "      <td>5</td>\n",
              "      <td>1</td>\n",
              "      <td>100</td>\n",
              "    </tr>\n",
              "    <tr>\n",
              "      <th>5</th>\n",
              "      <td>0.1</td>\n",
              "      <td>deviance</td>\n",
              "      <td>5</td>\n",
              "      <td>1</td>\n",
              "      <td>100</td>\n",
              "    </tr>\n",
              "    <tr>\n",
              "      <th>6</th>\n",
              "      <td>0.1</td>\n",
              "      <td>deviance</td>\n",
              "      <td>5</td>\n",
              "      <td>1</td>\n",
              "      <td>100</td>\n",
              "    </tr>\n",
              "    <tr>\n",
              "      <th>7</th>\n",
              "      <td>0.1</td>\n",
              "      <td>deviance</td>\n",
              "      <td>5</td>\n",
              "      <td>1</td>\n",
              "      <td>100</td>\n",
              "    </tr>\n",
              "    <tr>\n",
              "      <th>8</th>\n",
              "      <td>0.1</td>\n",
              "      <td>deviance</td>\n",
              "      <td>5</td>\n",
              "      <td>1</td>\n",
              "      <td>100</td>\n",
              "    </tr>\n",
              "    <tr>\n",
              "      <th>9</th>\n",
              "      <td>0.1</td>\n",
              "      <td>deviance</td>\n",
              "      <td>5</td>\n",
              "      <td>1</td>\n",
              "      <td>100</td>\n",
              "    </tr>\n",
              "    <tr>\n",
              "      <th>10</th>\n",
              "      <td>0.1</td>\n",
              "      <td>deviance</td>\n",
              "      <td>5</td>\n",
              "      <td>1</td>\n",
              "      <td>100</td>\n",
              "    </tr>\n",
              "  </tbody>\n",
              "</table>\n",
              "</div>"
            ],
            "text/plain": [
              "    learning_rate      loss  max_depth  min_samples_leaf  n_estimators\n",
              "1             0.1  deviance          5                 1           100\n",
              "2             0.1  deviance          5                 1           100\n",
              "3             0.1  deviance          5                 1           100\n",
              "4             0.1  deviance          5                 1           100\n",
              "5             0.1  deviance          5                 1           100\n",
              "6             0.1  deviance          5                 1           100\n",
              "7             0.1  deviance          5                 1           100\n",
              "8             0.1  deviance          5                 1           100\n",
              "9             0.1  deviance          5                 1           100\n",
              "10            0.1  deviance          5                 1           100"
            ]
          },
          "metadata": {
            "tags": []
          },
          "execution_count": 23
        }
      ]
    },
    {
      "cell_type": "code",
      "metadata": {
        "id": "9tOHP9k6bp7Z",
        "colab_type": "code",
        "colab": {}
      },
      "source": [
        ""
      ],
      "execution_count": 0,
      "outputs": []
    }
  ]
}