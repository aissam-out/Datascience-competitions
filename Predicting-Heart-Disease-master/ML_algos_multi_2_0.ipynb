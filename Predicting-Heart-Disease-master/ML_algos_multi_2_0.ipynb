{
  "nbformat": 4,
  "nbformat_minor": 0,
  "metadata": {
    "colab": {
      "name": "ML_algos_multi_2.0.ipynb",
      "version": "0.3.2",
      "provenance": [],
      "collapsed_sections": [
        "Boy24ZtBRAK1",
        "JEIEjF4KFBvy"
      ],
      "include_colab_link": true
    },
    "kernelspec": {
      "name": "python3",
      "display_name": "Python 3"
    },
    "accelerator": "GPU"
  },
  "cells": [
    {
      "cell_type": "markdown",
      "metadata": {
        "id": "view-in-github",
        "colab_type": "text"
      },
      "source": [
        "<a href=\"https://colab.research.google.com/github/aissam-out/Predicting-Heart-Disease/blob/master/ML_algos_multi_2_0.ipynb\" target=\"_parent\"><img src=\"https://colab.research.google.com/assets/colab-badge.svg\" alt=\"Open In Colab\"/></a>"
      ]
    },
    {
      "cell_type": "markdown",
      "metadata": {
        "id": "gKz6ncAsKHRJ",
        "colab_type": "text"
      },
      "source": [
        "# Import resources"
      ]
    },
    {
      "cell_type": "code",
      "metadata": {
        "id": "T02NXf40O5Vs",
        "colab_type": "code",
        "colab": {}
      },
      "source": [
        "# import modules\n",
        "import matplotlib\n",
        "import numpy as np\n",
        "import pandas as pd \n",
        "import xgboost as xgb\n",
        "import seaborn as sns\n",
        "import matplotlib.pyplot as plt\n",
        "from sklearn import preprocessing\n",
        "from sklearn.externals import joblib\n",
        "from sklearn.metrics import log_loss\n",
        "from sklearn.model_selection import GridSearchCV, RandomizedSearchCV, train_test_split, StratifiedKFold\n",
        "matplotlib.use('Agg')\n",
        "%matplotlib inline"
      ],
      "execution_count": 0,
      "outputs": []
    },
    {
      "cell_type": "code",
      "metadata": {
        "id": "JzWNG3XKPnxF",
        "colab_type": "code",
        "colab": {}
      },
      "source": [
        "# Code to read csv file into Colaboratory:\n",
        "!pip install -U -q PyDrive\n",
        "from pydrive.auth import GoogleAuth\n",
        "from pydrive.drive import GoogleDrive\n",
        "from google.colab import auth\n",
        "from oauth2client.client import GoogleCredentials\n",
        "# Authenticate and create the PyDrive client.\n",
        "auth.authenticate_user()\n",
        "gauth = GoogleAuth()\n",
        "gauth.credentials = GoogleCredentials.get_application_default()\n",
        "drive = GoogleDrive(gauth)"
      ],
      "execution_count": 0,
      "outputs": []
    },
    {
      "cell_type": "code",
      "metadata": {
        "id": "THv9MR4yPxT7",
        "colab_type": "code",
        "colab": {}
      },
      "source": [
        "# loading the dataset\n",
        "downloaded_train_v = drive.CreateFile({'id':'********************'}) \n",
        "downloaded_train_l = drive.CreateFile({'id':'********************'}) \n",
        "\n",
        "downloaded_train_v.GetContentFile('train_values.csv')\n",
        "downloaded_train_l.GetContentFile('train_labels.csv')\n",
        "\n",
        "df_train_v = pd.read_csv(\"train_values.csv\")\n",
        "df_train_l = pd.read_csv(\"train_labels.csv\")\n",
        "\n",
        "# load the test set\n",
        "downloaded_test_v = drive.CreateFile({'id':'**************'})\n",
        "downloaded_test_v.GetContentFile('test_values.csv')\n",
        "\n",
        "df_test_v = pd.read_csv(\"test_values.csv\")\n",
        "test_indabax = df_test_v.copy()"
      ],
      "execution_count": 0,
      "outputs": []
    },
    {
      "cell_type": "markdown",
      "metadata": {
        "id": "WVNcA8A-c0ps",
        "colab_type": "text"
      },
      "source": [
        "# Data Exploration & preprocessing"
      ]
    },
    {
      "cell_type": "markdown",
      "metadata": {
        "id": "Boy24ZtBRAK1",
        "colab_type": "text"
      },
      "source": [
        "## Train Data"
      ]
    },
    {
      "cell_type": "code",
      "metadata": {
        "id": "Uz4sQ97zO-kd",
        "colab_type": "code",
        "colab": {}
      },
      "source": [
        "# replace strings with numbers\n",
        "df_train_v['thal'] = df_train_v['thal'].replace({'normal':0,'reversible_defect':1, 'fixed_defect':2})\n",
        "df_train_v = pd.get_dummies(df_train_v, columns=['slope_of_peak_exercise_st_segment','chest_pain_type','num_major_vessels'])"
      ],
      "execution_count": 0,
      "outputs": []
    },
    {
      "cell_type": "code",
      "metadata": {
        "id": "xCGgyrFCPzwJ",
        "colab_type": "code",
        "colab": {}
      },
      "source": [
        "# Feature engineering 1\n",
        "df_train_v[\"added\"]=df_train_v['oldpeak_eq_st_depression']/df_train_v['max_heart_rate_achieved']"
      ],
      "execution_count": 0,
      "outputs": []
    },
    {
      "cell_type": "code",
      "metadata": {
        "id": "a3iGA656PzZa",
        "colab_type": "code",
        "colab": {}
      },
      "source": [
        "# drop ID column\n",
        "df_train_v = df_train_v.drop(\"patient_id\", axis=1)\n",
        "df_train_l = df_train_l.drop(\"patient_id\", axis=1)"
      ],
      "execution_count": 0,
      "outputs": []
    },
    {
      "cell_type": "code",
      "metadata": {
        "id": "UfWSU3ZBIXbA",
        "colab_type": "code",
        "colab": {}
      },
      "source": [
        "# Feature engineering 2 : extra drops \n",
        "df_train_v = df_train_v.drop([\"fasting_blood_sugar_gt_120_mg_per_dl\",\n",
        "                              \"oldpeak_eq_st_depression\",\n",
        "                              \"slope_of_peak_exercise_st_segment_1\",\n",
        "                              \"slope_of_peak_exercise_st_segment_3\",\n",
        "                              \"chest_pain_type_1\",\n",
        "                              \"chest_pain_type_2\",\n",
        "                              \"chest_pain_type_3\",\n",
        "                              \"num_major_vessels_1\",\n",
        "                              \"num_major_vessels_2\",\n",
        "                              \"num_major_vessels_3\"], \n",
        "                             axis=1)"
      ],
      "execution_count": 0,
      "outputs": []
    },
    {
      "cell_type": "code",
      "metadata": {
        "id": "s9p1l6rf-ApN",
        "colab_type": "code",
        "outputId": "6a65b01c-4327-438a-f82f-db220167e2c6",
        "colab": {
          "base_uri": "https://localhost:8080/",
          "height": 99
        }
      },
      "source": [
        "df_train_v.sample()"
      ],
      "execution_count": 0,
      "outputs": [
        {
          "output_type": "execute_result",
          "data": {
            "text/html": [
              "<div>\n",
              "<style scoped>\n",
              "    .dataframe tbody tr th:only-of-type {\n",
              "        vertical-align: middle;\n",
              "    }\n",
              "\n",
              "    .dataframe tbody tr th {\n",
              "        vertical-align: top;\n",
              "    }\n",
              "\n",
              "    .dataframe thead th {\n",
              "        text-align: right;\n",
              "    }\n",
              "</style>\n",
              "<table border=\"1\" class=\"dataframe\">\n",
              "  <thead>\n",
              "    <tr style=\"text-align: right;\">\n",
              "      <th></th>\n",
              "      <th>thal</th>\n",
              "      <th>resting_blood_pressure</th>\n",
              "      <th>resting_ekg_results</th>\n",
              "      <th>serum_cholesterol_mg_per_dl</th>\n",
              "      <th>sex</th>\n",
              "      <th>age</th>\n",
              "      <th>max_heart_rate_achieved</th>\n",
              "      <th>exercise_induced_angina</th>\n",
              "      <th>slope_of_peak_exercise_st_segment_2</th>\n",
              "      <th>chest_pain_type_4</th>\n",
              "      <th>num_major_vessels_0</th>\n",
              "      <th>added</th>\n",
              "    </tr>\n",
              "  </thead>\n",
              "  <tbody>\n",
              "    <tr>\n",
              "      <th>88</th>\n",
              "      <td>0</td>\n",
              "      <td>150</td>\n",
              "      <td>0</td>\n",
              "      <td>168</td>\n",
              "      <td>1</td>\n",
              "      <td>57</td>\n",
              "      <td>174</td>\n",
              "      <td>0</td>\n",
              "      <td>0</td>\n",
              "      <td>0</td>\n",
              "      <td>1</td>\n",
              "      <td>0.009195</td>\n",
              "    </tr>\n",
              "  </tbody>\n",
              "</table>\n",
              "</div>"
            ],
            "text/plain": [
              "    thal  resting_blood_pressure  resting_ekg_results  \\\n",
              "88     0                     150                    0   \n",
              "\n",
              "    serum_cholesterol_mg_per_dl  sex  age  max_heart_rate_achieved  \\\n",
              "88                          168    1   57                      174   \n",
              "\n",
              "    exercise_induced_angina  slope_of_peak_exercise_st_segment_2  \\\n",
              "88                        0                                    0   \n",
              "\n",
              "    chest_pain_type_4  num_major_vessels_0     added  \n",
              "88                  0                    1  0.009195  "
            ]
          },
          "metadata": {
            "tags": []
          },
          "execution_count": 8
        }
      ]
    },
    {
      "cell_type": "code",
      "metadata": {
        "id": "e8WuvIz29-3z",
        "colab_type": "code",
        "outputId": "7ca80ed1-ff18-45ce-9892-19af50695568",
        "colab": {
          "base_uri": "https://localhost:8080/",
          "height": 99
        }
      },
      "source": [
        "pd.DataFrame(df_train_v.columns).T.iloc[:,0:9]"
      ],
      "execution_count": 0,
      "outputs": [
        {
          "output_type": "execute_result",
          "data": {
            "text/html": [
              "<div>\n",
              "<style scoped>\n",
              "    .dataframe tbody tr th:only-of-type {\n",
              "        vertical-align: middle;\n",
              "    }\n",
              "\n",
              "    .dataframe tbody tr th {\n",
              "        vertical-align: top;\n",
              "    }\n",
              "\n",
              "    .dataframe thead th {\n",
              "        text-align: right;\n",
              "    }\n",
              "</style>\n",
              "<table border=\"1\" class=\"dataframe\">\n",
              "  <thead>\n",
              "    <tr style=\"text-align: right;\">\n",
              "      <th></th>\n",
              "      <th>0</th>\n",
              "      <th>1</th>\n",
              "      <th>2</th>\n",
              "      <th>3</th>\n",
              "      <th>4</th>\n",
              "      <th>5</th>\n",
              "      <th>6</th>\n",
              "      <th>7</th>\n",
              "      <th>8</th>\n",
              "    </tr>\n",
              "  </thead>\n",
              "  <tbody>\n",
              "    <tr>\n",
              "      <th>0</th>\n",
              "      <td>thal</td>\n",
              "      <td>resting_blood_pressure</td>\n",
              "      <td>resting_ekg_results</td>\n",
              "      <td>serum_cholesterol_mg_per_dl</td>\n",
              "      <td>sex</td>\n",
              "      <td>age</td>\n",
              "      <td>max_heart_rate_achieved</td>\n",
              "      <td>exercise_induced_angina</td>\n",
              "      <td>slope_of_peak_exercise_st_segment_2</td>\n",
              "    </tr>\n",
              "  </tbody>\n",
              "</table>\n",
              "</div>"
            ],
            "text/plain": [
              "      0                       1                    2  \\\n",
              "0  thal  resting_blood_pressure  resting_ekg_results   \n",
              "\n",
              "                             3    4    5                        6  \\\n",
              "0  serum_cholesterol_mg_per_dl  sex  age  max_heart_rate_achieved   \n",
              "\n",
              "                         7                                    8  \n",
              "0  exercise_induced_angina  slope_of_peak_exercise_st_segment_2  "
            ]
          },
          "metadata": {
            "tags": []
          },
          "execution_count": 9
        }
      ]
    },
    {
      "cell_type": "code",
      "metadata": {
        "id": "5IU8TH_lFI2G",
        "colab_type": "code",
        "outputId": "dc8e9059-6213-4b6e-8b0e-8615332b14ff",
        "colab": {
          "base_uri": "https://localhost:8080/",
          "height": 79
        }
      },
      "source": [
        "pd.DataFrame(df_train_v.columns).T.iloc[:,9:14]"
      ],
      "execution_count": 0,
      "outputs": [
        {
          "output_type": "execute_result",
          "data": {
            "text/html": [
              "<div>\n",
              "<style scoped>\n",
              "    .dataframe tbody tr th:only-of-type {\n",
              "        vertical-align: middle;\n",
              "    }\n",
              "\n",
              "    .dataframe tbody tr th {\n",
              "        vertical-align: top;\n",
              "    }\n",
              "\n",
              "    .dataframe thead th {\n",
              "        text-align: right;\n",
              "    }\n",
              "</style>\n",
              "<table border=\"1\" class=\"dataframe\">\n",
              "  <thead>\n",
              "    <tr style=\"text-align: right;\">\n",
              "      <th></th>\n",
              "      <th>9</th>\n",
              "      <th>10</th>\n",
              "      <th>11</th>\n",
              "    </tr>\n",
              "  </thead>\n",
              "  <tbody>\n",
              "    <tr>\n",
              "      <th>0</th>\n",
              "      <td>chest_pain_type_4</td>\n",
              "      <td>num_major_vessels_0</td>\n",
              "      <td>added</td>\n",
              "    </tr>\n",
              "  </tbody>\n",
              "</table>\n",
              "</div>"
            ],
            "text/plain": [
              "                  9                    10     11\n",
              "0  chest_pain_type_4  num_major_vessels_0  added"
            ]
          },
          "metadata": {
            "tags": []
          },
          "execution_count": 10
        }
      ]
    },
    {
      "cell_type": "code",
      "metadata": {
        "id": "Mbwn8mygNH33",
        "colab_type": "code",
        "outputId": "200e5bc3-9f1b-4015-af47-f1f1cb54cae2",
        "colab": {
          "base_uri": "https://localhost:8080/",
          "height": 62
        }
      },
      "source": [
        "pd.DataFrame(df_train_v.columns).T.iloc[:,14:]"
      ],
      "execution_count": 0,
      "outputs": [
        {
          "output_type": "execute_result",
          "data": {
            "text/html": [
              "<div>\n",
              "<style scoped>\n",
              "    .dataframe tbody tr th:only-of-type {\n",
              "        vertical-align: middle;\n",
              "    }\n",
              "\n",
              "    .dataframe tbody tr th {\n",
              "        vertical-align: top;\n",
              "    }\n",
              "\n",
              "    .dataframe thead th {\n",
              "        text-align: right;\n",
              "    }\n",
              "</style>\n",
              "<table border=\"1\" class=\"dataframe\">\n",
              "  <thead>\n",
              "    <tr style=\"text-align: right;\">\n",
              "      <th></th>\n",
              "    </tr>\n",
              "  </thead>\n",
              "  <tbody>\n",
              "    <tr>\n",
              "      <th>0</th>\n",
              "    </tr>\n",
              "  </tbody>\n",
              "</table>\n",
              "</div>"
            ],
            "text/plain": [
              "Empty DataFrame\n",
              "Columns: []\n",
              "Index: [0]"
            ]
          },
          "metadata": {
            "tags": []
          },
          "execution_count": 11
        }
      ]
    },
    {
      "cell_type": "code",
      "metadata": {
        "id": "7OvYF2uB-WVd",
        "colab_type": "code",
        "outputId": "05c9e693-175f-453f-8a22-de00aaa6b199",
        "colab": {
          "base_uri": "https://localhost:8080/",
          "height": 106
        }
      },
      "source": [
        "# convert to values\n",
        "df_train_v = (df_train_v.values).astype('float32')\n",
        "df_train_v = preprocessing.scale(df_train_v)\n",
        "df_train_l = df_train_l.values.astype('float32')"
      ],
      "execution_count": 0,
      "outputs": [
        {
          "output_type": "stream",
          "text": [
            "/usr/local/lib/python3.6/dist-packages/sklearn/preprocessing/data.py:180: UserWarning: Numerical issues were encountered when centering the data and might not be solved. Dataset may contain too large values. You may need to prescale your features.\n",
            "  warnings.warn(\"Numerical issues were encountered \"\n",
            "/usr/local/lib/python3.6/dist-packages/sklearn/preprocessing/data.py:197: UserWarning: Numerical issues were encountered when scaling the data and might not be solved. The standard deviation of the data is probably very close to 0. \n",
            "  warnings.warn(\"Numerical issues were encountered \"\n"
          ],
          "name": "stderr"
        }
      ]
    },
    {
      "cell_type": "code",
      "metadata": {
        "id": "ER_k0xfHfYRg",
        "colab_type": "code",
        "outputId": "259343b6-12f1-4db2-ab81-766d02e4c94e",
        "colab": {
          "base_uri": "https://localhost:8080/",
          "height": 34
        }
      },
      "source": [
        "df_train_v.shape"
      ],
      "execution_count": 0,
      "outputs": [
        {
          "output_type": "execute_result",
          "data": {
            "text/plain": [
              "(180, 12)"
            ]
          },
          "metadata": {
            "tags": []
          },
          "execution_count": 13
        }
      ]
    },
    {
      "cell_type": "code",
      "metadata": {
        "id": "umJTtUYaedrF",
        "colab_type": "code",
        "colab": {}
      },
      "source": [
        "# VALIDATION\n",
        "df_train_v, df_VALIDATION_v, df_train_l, df_VALIDATION_l = train_test_split(df_train_v, df_train_l, test_size=0.055)"
      ],
      "execution_count": 0,
      "outputs": []
    },
    {
      "cell_type": "code",
      "metadata": {
        "id": "d0hIiUyTfmfU",
        "colab_type": "code",
        "outputId": "19d6cd98-afea-4367-8703-f76aa00c702e",
        "colab": {
          "base_uri": "https://localhost:8080/",
          "height": 34
        }
      },
      "source": [
        "df_VALIDATION_v.shape"
      ],
      "execution_count": 0,
      "outputs": [
        {
          "output_type": "execute_result",
          "data": {
            "text/plain": [
              "(10, 12)"
            ]
          },
          "metadata": {
            "tags": []
          },
          "execution_count": 15
        }
      ]
    },
    {
      "cell_type": "code",
      "metadata": {
        "id": "gnxLCdDsvDVC",
        "colab_type": "code",
        "outputId": "06167330-6c65-45b2-f191-fc55ce930a08",
        "colab": {
          "base_uri": "https://localhost:8080/",
          "height": 51
        }
      },
      "source": [
        "# train test split\n",
        "x_train, x_test, y_train, y_test = train_test_split(df_train_v, df_train_l, test_size=0.2)\n",
        "print('x_train shape:', x_train.shape)\n",
        "print(x_train.shape[0], 'train samples')\n",
        "\n",
        "# convert column-vector to 1d array\n",
        "y_train = np.ravel(y_train)"
      ],
      "execution_count": 0,
      "outputs": [
        {
          "output_type": "stream",
          "text": [
            "x_train shape: (136, 12)\n",
            "136 train samples\n"
          ],
          "name": "stdout"
        }
      ]
    },
    {
      "cell_type": "markdown",
      "metadata": {
        "id": "tW_7GlxRRDrH",
        "colab_type": "text"
      },
      "source": [
        "## Indaba Test "
      ]
    },
    {
      "cell_type": "code",
      "metadata": {
        "id": "UrWfggZhRIgQ",
        "colab_type": "code",
        "outputId": "81f8d76e-c98f-40ac-9b1f-51259bf1751b",
        "colab": {
          "base_uri": "https://localhost:8080/",
          "height": 106
        }
      },
      "source": [
        "# load the test set\n",
        "downloaded_test_v = drive.CreateFile({'id':'*******************'})\n",
        "downloaded_test_v.GetContentFile('test_values.csv')\n",
        "\n",
        "df_test_v = pd.read_csv(\"test_values.csv\")\n",
        "test_indabax = df_test_v.copy()\n",
        "\n",
        "# preprocess test set\n",
        "test_indabax['thal'] = test_indabax['thal'].replace({'normal':0,'reversible_defect':1, 'fixed_defect':2})\n",
        "test_indabax = pd.get_dummies(test_indabax, columns=['slope_of_peak_exercise_st_segment','chest_pain_type','num_major_vessels'])\n",
        "test_indabax[\"added\"]=test_indabax['oldpeak_eq_st_depression']/test_indabax['max_heart_rate_achieved']\n",
        "test_indabax = test_indabax.drop(\"patient_id\",axis=1)\n",
        "test_indabax = test_indabax.drop([\"fasting_blood_sugar_gt_120_mg_per_dl\",\n",
        "                                  \"oldpeak_eq_st_depression\",\n",
        "                                  \"slope_of_peak_exercise_st_segment_1\",\n",
        "                                  \"slope_of_peak_exercise_st_segment_3\",\n",
        "                                  \"chest_pain_type_1\",\n",
        "                                  \"chest_pain_type_2\",\n",
        "                                  \"chest_pain_type_3\",\n",
        "                                  \"num_major_vessels_1\",\n",
        "                                  \"num_major_vessels_2\",\n",
        "                                  \"num_major_vessels_3\"], \n",
        "                                 axis=1)\n",
        "test_indabax = (test_indabax.values).astype('float32')\n",
        "test_indabax = preprocessing.scale(test_indabax)\n",
        "\n",
        "# load submission form\n",
        "sub_form = drive.CreateFile({'id':'***********************'})\n",
        "sub_form.GetContentFile('submission_format.csv')\n",
        "\n",
        "df_sub = pd.read_csv(\"submission_format.csv\")\n",
        "df_sub_indabax = df_sub.copy()"
      ],
      "execution_count": 0,
      "outputs": [
        {
          "output_type": "stream",
          "text": [
            "/usr/local/lib/python3.6/dist-packages/sklearn/preprocessing/data.py:180: UserWarning: Numerical issues were encountered when centering the data and might not be solved. Dataset may contain too large values. You may need to prescale your features.\n",
            "  warnings.warn(\"Numerical issues were encountered \"\n",
            "/usr/local/lib/python3.6/dist-packages/sklearn/preprocessing/data.py:197: UserWarning: Numerical issues were encountered when scaling the data and might not be solved. The standard deviation of the data is probably very close to 0. \n",
            "  warnings.warn(\"Numerical issues were encountered \"\n"
          ],
          "name": "stderr"
        }
      ]
    },
    {
      "cell_type": "markdown",
      "metadata": {
        "id": "JEIEjF4KFBvy",
        "colab_type": "text"
      },
      "source": [
        "# Training"
      ]
    },
    {
      "cell_type": "code",
      "metadata": {
        "id": "d3_PA9yKuWBe",
        "colab_type": "code",
        "colab": {}
      },
      "source": [
        "def training_function():\n",
        "  x_train, x_test, y_train, y_test = train_test_split(df_train_v, df_train_l, test_size=0.2)\n",
        "  y_train = np.ravel(y_train)\n",
        "  \n",
        "  folds = 10\n",
        "  param_comb = 100\n",
        "\n",
        "  skf = StratifiedKFold(n_splits=folds, shuffle = True)\n",
        "  \n",
        "  params = {\n",
        "          'min_child_weight': [2, 3],\n",
        "          'gamma': [5, 7, 9],\n",
        "          'learning_rate': [0.7, 0.1],\n",
        "          'colsample_bytree': [0.7, 0.8],\n",
        "          'max_depth': [300, 400, 500],\n",
        "          'n_estimators': [5000, 8000, 10000],\n",
        "          }\n",
        "\n",
        "  model = xgb.XGBClassifier(subsample=0.5, objective='binary:logistic', silent=True, nthread=1)\n",
        "  \n",
        "  random_search = RandomizedSearchCV(model, param_distributions=params, n_iter=param_comb,\n",
        "                                     scoring='neg_log_loss', n_jobs=4, cv=skf.split(x_train, y_train), verbose=2)\n",
        "  \n",
        "  random_search.fit(x_train, y_train)\n",
        "  \n",
        "  print('\\n Best estimator:')\n",
        "  print(random_search.best_estimator_)\n",
        "  print('\\n Best normalized gini score for %d-fold search with %d parameter combinations:' % (folds, param_comb))\n",
        "  print(random_search.best_score_ * 2 - 1)\n",
        "  print('\\n Best hyperparameters:')\n",
        "  print(random_search.best_params_)\n",
        "  \n",
        "  predictions = random_search.predict_proba(x_test)[:, 1]\n",
        "  loss = log_loss(y_test, predictions)\n",
        "\n",
        "  print(\"log loss is :\", loss)\n",
        "  \n",
        "  return random_search.best_estimator_"
      ],
      "execution_count": 0,
      "outputs": []
    },
    {
      "cell_type": "code",
      "metadata": {
        "id": "eYla5qc9O7qi",
        "colab_type": "code",
        "colab": {}
      },
      "source": [
        "model_best = training_function()"
      ],
      "execution_count": 0,
      "outputs": []
    },
    {
      "cell_type": "markdown",
      "metadata": {
        "id": "hb5b6vDgdEoT",
        "colab_type": "text"
      },
      "source": [
        "# Useful functions"
      ]
    },
    {
      "cell_type": "code",
      "metadata": {
        "id": "34ds7CnjP84C",
        "colab_type": "code",
        "colab": {}
      },
      "source": [
        "global_evaluation = {}\n",
        "\n",
        "def indabax_model(test_num):\n",
        "  x_train, x_test, y_train, y_test = train_test_split(df_train_v, df_train_l, test_size=0.2)\n",
        "  y_train = np.ravel(y_train)\n",
        "  \n",
        "  model = xgb.XGBClassifier(min_child_weight= 3, \n",
        "                            max_depth= 6, \n",
        "                            learning_rate= 0.1, \n",
        "                            gamma= 0.95, \n",
        "                            subsample=0.8,\n",
        "                            rate_drop=0.1,\n",
        "                            n_estimators=60)\n",
        "\n",
        "  model.fit(x_train, y_train)\n",
        "\n",
        "  predictions = model.predict_proba(x_test)[:, 1]\n",
        "  loss = log_loss(y_test, predictions)\n",
        "  \n",
        "  global_evaluation.update({\"model_%d\" %test_num : [loss.round(4)]})\n",
        "\n",
        "  print(\"log loss of test %d is : %.4f\" %(test_num, loss))\n",
        "  \n",
        "  return model\n",
        "\n",
        "def prep_results(model, file):\n",
        "  predictions_indabax = model.predict_proba(test_indabax)\n",
        "  results = pd.DataFrame(predictions_indabax)\n",
        "  df_sub_indabax[\"heart_disease_present\"] = results\n",
        "  df_sub_indabax.to_csv(file, header=True, index=False)\n",
        "  \n",
        "  return df_sub_indabax\n",
        "\n",
        "def agregation_model(file, test_num):\n",
        "  model = indabax_model(test_num)\n",
        "  df_sub_indabax = prep_results(model, file)\n",
        "  \n",
        "  return model\n",
        "\n",
        "def validation_test(model_name):\n",
        "  loaded_model = joblib.load(model_name)\n",
        "  validation_pred = loaded_model.predict_proba(df_VALIDATION_v)[:, 1]\n",
        "  validation_loss = log_loss(np.ravel(df_VALIDATION_l), validation_pred)\n",
        "  \n",
        "  print(\"validation log loss is :\", validation_loss)"
      ],
      "execution_count": 0,
      "outputs": []
    },
    {
      "cell_type": "markdown",
      "metadata": {
        "id": "RZWLmyfmPUUG",
        "colab_type": "text"
      },
      "source": [
        "# Save results"
      ]
    },
    {
      "cell_type": "code",
      "metadata": {
        "id": "8gcvhS3eELpt",
        "colab_type": "code",
        "colab": {}
      },
      "source": [
        "from google.colab import drive\n",
        "drive.mount('/content/gdrive')"
      ],
      "execution_count": 0,
      "outputs": []
    },
    {
      "cell_type": "markdown",
      "metadata": {
        "id": "U1Vl43OFFyBJ",
        "colab_type": "text"
      },
      "source": [
        "# Multi tests"
      ]
    },
    {
      "cell_type": "code",
      "metadata": {
        "id": "oqnim5o6AQr2",
        "colab_type": "code",
        "outputId": "3d235c35-1baf-43bb-e37f-4b43271d5a1d",
        "colab": {
          "base_uri": "https://localhost:8080/",
          "height": 866
        }
      },
      "source": [
        "for i in range(1,50):\n",
        "  model = agregation_model(\"multi_%d.csv\" %i, i)\n",
        "  joblib.dump(model, \"model_%d.sav\" %i)"
      ],
      "execution_count": 0,
      "outputs": [
        {
          "output_type": "stream",
          "text": [
            "log loss of test 1 is : 0.4946\n",
            "log loss of test 2 is : 0.4334\n",
            "log loss of test 3 is : 0.3949\n",
            "log loss of test 4 is : 0.3649\n",
            "log loss of test 5 is : 0.3908\n",
            "log loss of test 6 is : 0.4963\n",
            "log loss of test 7 is : 0.3044\n",
            "log loss of test 8 is : 0.6103\n",
            "log loss of test 9 is : 0.5840\n",
            "log loss of test 10 is : 0.4137\n",
            "log loss of test 11 is : 0.5125\n",
            "log loss of test 12 is : 0.3693\n",
            "log loss of test 13 is : 0.4199\n",
            "log loss of test 14 is : 0.4106\n",
            "log loss of test 15 is : 0.4976\n",
            "log loss of test 16 is : 0.3387\n",
            "log loss of test 17 is : 0.3240\n",
            "log loss of test 18 is : 0.3932\n",
            "log loss of test 19 is : 0.4169\n",
            "log loss of test 20 is : 0.4079\n",
            "log loss of test 21 is : 0.5893\n",
            "log loss of test 22 is : 0.3515\n",
            "log loss of test 23 is : 0.3285\n",
            "log loss of test 24 is : 0.3981\n",
            "log loss of test 25 is : 0.3371\n",
            "log loss of test 26 is : 0.2450\n",
            "log loss of test 27 is : 0.4688\n",
            "log loss of test 28 is : 0.5068\n",
            "log loss of test 29 is : 0.3270\n",
            "log loss of test 30 is : 0.3469\n",
            "log loss of test 31 is : 0.4067\n",
            "log loss of test 32 is : 0.3515\n",
            "log loss of test 33 is : 0.4238\n",
            "log loss of test 34 is : 0.4074\n",
            "log loss of test 35 is : 0.4577\n",
            "log loss of test 36 is : 0.2161\n",
            "log loss of test 37 is : 0.3225\n",
            "log loss of test 38 is : 0.3175\n",
            "log loss of test 39 is : 0.2421\n",
            "log loss of test 40 is : 0.3129\n",
            "log loss of test 41 is : 0.4127\n",
            "log loss of test 42 is : 0.5900\n",
            "log loss of test 43 is : 0.4564\n",
            "log loss of test 44 is : 0.6490\n",
            "log loss of test 45 is : 0.3265\n",
            "log loss of test 46 is : 0.3254\n",
            "log loss of test 47 is : 0.2481\n",
            "log loss of test 48 is : 0.4425\n",
            "log loss of test 49 is : 0.3575\n"
          ],
          "name": "stdout"
        }
      ]
    },
    {
      "cell_type": "markdown",
      "metadata": {
        "id": "s5mGRnb6DKmi",
        "colab_type": "text"
      },
      "source": [
        "#  Copy to Drive"
      ]
    },
    {
      "cell_type": "code",
      "metadata": {
        "id": "etG4jenAC_m5",
        "colab_type": "code",
        "colab": {}
      },
      "source": [
        "%cp multi_36.csv gdrive/'My Drive'/'Colab Notebooks'/indabax"
      ],
      "execution_count": 0,
      "outputs": []
    },
    {
      "cell_type": "markdown",
      "metadata": {
        "id": "yWnWKhF9JuLE",
        "colab_type": "text"
      },
      "source": [
        "# Evaluation"
      ]
    },
    {
      "cell_type": "code",
      "metadata": {
        "id": "JHddgXwiNj98",
        "colab_type": "code",
        "outputId": "4888cf4d-8c85-4f6b-85c7-83dae821f918",
        "colab": {
          "base_uri": "https://localhost:8080/",
          "height": 202
        }
      },
      "source": [
        "global_evaluation = pd.DataFrame.from_dict(global_evaluation, orient='index',columns=['Log loss'])\n",
        "global_evaluation.sort_values(by=['Log loss']).head()"
      ],
      "execution_count": 0,
      "outputs": [
        {
          "output_type": "execute_result",
          "data": {
            "text/html": [
              "<div>\n",
              "<style scoped>\n",
              "    .dataframe tbody tr th:only-of-type {\n",
              "        vertical-align: middle;\n",
              "    }\n",
              "\n",
              "    .dataframe tbody tr th {\n",
              "        vertical-align: top;\n",
              "    }\n",
              "\n",
              "    .dataframe thead th {\n",
              "        text-align: right;\n",
              "    }\n",
              "</style>\n",
              "<table border=\"1\" class=\"dataframe\">\n",
              "  <thead>\n",
              "    <tr style=\"text-align: right;\">\n",
              "      <th></th>\n",
              "      <th>Log loss</th>\n",
              "    </tr>\n",
              "  </thead>\n",
              "  <tbody>\n",
              "    <tr>\n",
              "      <th>model_36</th>\n",
              "      <td>0.2161</td>\n",
              "    </tr>\n",
              "    <tr>\n",
              "      <th>model_39</th>\n",
              "      <td>0.2421</td>\n",
              "    </tr>\n",
              "    <tr>\n",
              "      <th>model_26</th>\n",
              "      <td>0.2450</td>\n",
              "    </tr>\n",
              "    <tr>\n",
              "      <th>model_47</th>\n",
              "      <td>0.2481</td>\n",
              "    </tr>\n",
              "    <tr>\n",
              "      <th>model_7</th>\n",
              "      <td>0.3044</td>\n",
              "    </tr>\n",
              "  </tbody>\n",
              "</table>\n",
              "</div>"
            ],
            "text/plain": [
              "          Log loss\n",
              "model_36    0.2161\n",
              "model_39    0.2421\n",
              "model_26    0.2450\n",
              "model_47    0.2481\n",
              "model_7     0.3044"
            ]
          },
          "metadata": {
            "tags": []
          },
          "execution_count": 22
        }
      ]
    },
    {
      "cell_type": "code",
      "metadata": {
        "id": "IlNnhFsTU0WG",
        "colab_type": "code",
        "outputId": "92f7dfce-fe1d-4eaf-a065-d9c1de3c9ce0",
        "colab": {
          "base_uri": "https://localhost:8080/",
          "height": 79
        }
      },
      "source": [
        "mean = pd.DataFrame.from_dict(global_evaluation.mean(axis = 0)).T\n",
        "mean.rename(index={0:'mean'}, inplace=True)\n",
        "mean"
      ],
      "execution_count": 0,
      "outputs": [
        {
          "output_type": "execute_result",
          "data": {
            "text/html": [
              "<div>\n",
              "<style scoped>\n",
              "    .dataframe tbody tr th:only-of-type {\n",
              "        vertical-align: middle;\n",
              "    }\n",
              "\n",
              "    .dataframe tbody tr th {\n",
              "        vertical-align: top;\n",
              "    }\n",
              "\n",
              "    .dataframe thead th {\n",
              "        text-align: right;\n",
              "    }\n",
              "</style>\n",
              "<table border=\"1\" class=\"dataframe\">\n",
              "  <thead>\n",
              "    <tr style=\"text-align: right;\">\n",
              "      <th></th>\n",
              "      <th>Log loss</th>\n",
              "    </tr>\n",
              "  </thead>\n",
              "  <tbody>\n",
              "    <tr>\n",
              "      <th>mean</th>\n",
              "      <td>0.402922</td>\n",
              "    </tr>\n",
              "  </tbody>\n",
              "</table>\n",
              "</div>"
            ],
            "text/plain": [
              "      Log loss\n",
              "mean  0.402922"
            ]
          },
          "metadata": {
            "tags": []
          },
          "execution_count": 23
        }
      ]
    },
    {
      "cell_type": "markdown",
      "metadata": {
        "id": "Ccj1ByluX1Wp",
        "colab_type": "text"
      },
      "source": [
        "# Validation tests"
      ]
    },
    {
      "cell_type": "code",
      "metadata": {
        "id": "UytNtlySrehv",
        "colab_type": "code",
        "outputId": "77a8cbaf-df0a-469d-a53e-dc8e6c9c1c16",
        "colab": {
          "base_uri": "https://localhost:8080/",
          "height": 103
        }
      },
      "source": [
        "for i in global_evaluation.sort_values(by=['Log loss']).head().index :\n",
        "  validation_test(i +\".sav\")"
      ],
      "execution_count": 0,
      "outputs": [
        {
          "output_type": "stream",
          "text": [
            "validation log loss is : 0.5844566082581878\n",
            "validation log loss is : 0.7026831628754735\n",
            "validation log loss is : 0.6439419804140926\n",
            "validation log loss is : 0.8166165122762322\n",
            "validation log loss is : 0.7380747674033046\n"
          ],
          "name": "stdout"
        }
      ]
    },
    {
      "cell_type": "markdown",
      "metadata": {
        "id": "HQNNDBouaC6K",
        "colab_type": "text"
      },
      "source": [
        "# LAB"
      ]
    },
    {
      "cell_type": "code",
      "metadata": {
        "id": "D8sOcToiWNB-",
        "colab_type": "code",
        "outputId": "aa7d5bb6-8853-4adc-8462-de2e50911bc6",
        "colab": {
          "base_uri": "https://localhost:8080/",
          "height": 34
        }
      },
      "source": [
        "model_lab = agregation_model(\"LAB.csv\", 99)"
      ],
      "execution_count": 0,
      "outputs": [
        {
          "output_type": "stream",
          "text": [
            "log loss of test 99 is : 0.4427\n"
          ],
          "name": "stdout"
        }
      ]
    },
    {
      "cell_type": "code",
      "metadata": {
        "id": "yqek6cUaWd_K",
        "colab_type": "code",
        "colab": {}
      },
      "source": [
        "from xgboost import plot_importance\n",
        "\n",
        "def plot_features(booster, figsize):    \n",
        "    fig, ax = plt.subplots(1,1,figsize=figsize)\n",
        "    return plot_importance(booster=booster, ax=ax)"
      ],
      "execution_count": 0,
      "outputs": []
    },
    {
      "cell_type": "code",
      "metadata": {
        "id": "9HPX4_7UWje_",
        "colab_type": "code",
        "outputId": "2d3f3158-4d4f-46bd-94a2-80b7292cc3f5",
        "colab": {
          "base_uri": "https://localhost:8080/",
          "height": 367
        }
      },
      "source": [
        "plot_features(model_lab, (10,5))"
      ],
      "execution_count": 0,
      "outputs": [
        {
          "output_type": "execute_result",
          "data": {
            "text/plain": [
              "<matplotlib.axes._subplots.AxesSubplot at 0x7f2df5e9a048>"
            ]
          },
          "metadata": {
            "tags": []
          },
          "execution_count": 45
        },
        {
          "output_type": "display_data",
          "data": {
            "image/png": "[encoded data removed]",
            "text/plain": [
              "<Figure size 720x360 with 1 Axes>"
            ]
          },
          "metadata": {
            "tags": []
          }
        }
      ]
    },
    {
      "cell_type": "code",
      "metadata": {
        "id": "GGicXenMW3wV",
        "colab_type": "code",
        "outputId": "1de556f8-2c17-48ce-d08d-cd900f96f0fe",
        "colab": {
          "base_uri": "https://localhost:8080/",
          "height": 69
        }
      },
      "source": [
        "model_lab.feature_importances_"
      ],
      "execution_count": 0,
      "outputs": [
        {
          "output_type": "execute_result",
          "data": {
            "text/plain": [
              "array([0.1198756 , 0.08122625, 0.08518069, 0.08386566, 0.09239529,\n",
              "       0.06791864, 0.09586107, 0.08473256, 0.        , 0.09432235,\n",
              "       0.09223466, 0.10238716], dtype=float32)"
            ]
          },
          "metadata": {
            "tags": []
          },
          "execution_count": 46
        }
      ]
    }
  ]
}