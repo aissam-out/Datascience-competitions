{
  "nbformat": 4,
  "nbformat_minor": 0,
  "metadata": {
    "colab": {
      "name": "Exploration_data_preprocessing.ipynb",
      "version": "0.3.2",
      "provenance": [],
      "include_colab_link": true
    },
    "kernelspec": {
      "name": "python3",
      "display_name": "Python 3"
    }
  },
  "cells": [
    {
      "cell_type": "markdown",
      "metadata": {
        "id": "view-in-github",
        "colab_type": "text"
      },
      "source": [
        "<a href=\"https://colab.research.google.com/github/aissam-out/Predicting-Heart-Disease/blob/master/Exploration_Data_preprocessing.ipynb\" target=\"_parent\"><img src=\"https://colab.research.google.com/assets/colab-badge.svg\" alt=\"Open In Colab\"/></a>"
      ]
    },
    {
      "cell_type": "code",
      "metadata": {
        "id": "T02NXf40O5Vs",
        "colab_type": "code",
        "colab": {}
      },
      "source": [
        "import numpy as np\n",
        "import pandas as pd \n",
        "import seaborn as sns\n",
        "import matplotlib.pyplot as plt\n",
        "from sklearn.model_selection import train_test_split\n",
        "%matplotlib inline"
      ],
      "execution_count": 0,
      "outputs": []
    },
    {
      "cell_type": "code",
      "metadata": {
        "id": "JzWNG3XKPnxF",
        "colab_type": "code",
        "outputId": "243dc2e3-230e-403e-ad10-53dc85422597",
        "colab": {
          "base_uri": "https://localhost:8080/",
          "height": 52
        }
      },
      "source": [
        "# Code to read csv file into Colaboratory:\n",
        "!pip install -U -q PyDrive #if needed\n",
        "from pydrive.auth import GoogleAuth\n",
        "from pydrive.drive import GoogleDrive\n",
        "from google.colab import auth\n",
        "from oauth2client.client import GoogleCredentials\n",
        "# Authenticate and create the PyDrive client.\n",
        "auth.authenticate_user()\n",
        "gauth = GoogleAuth()\n",
        "gauth.credentials = GoogleCredentials.get_application_default()\n",
        "drive = GoogleDrive(gauth)"
      ],
      "execution_count": 0,
      "outputs": [
        {
          "output_type": "stream",
          "text": [
            "\u001b[?25l\r\u001b[K    1% |▎                               | 10kB 18.0MB/s eta 0:00:01\r\u001b[K    2% |▋                               | 20kB 1.8MB/s eta 0:00:01\r\u001b[K    3% |█                               | 30kB 2.6MB/s eta 0:00:01\r\u001b[K    4% |█▎                              | 40kB 1.7MB/s eta 0:00:01\r\u001b[K    5% |█▋                              | 51kB 2.1MB/s eta 0:00:01\r\u001b[K    6% |██                              | 61kB 2.4MB/s eta 0:00:01\r\u001b[K    7% |██▎                             | 71kB 2.7MB/s eta 0:00:01\r\u001b[K    8% |██▋                             | 81kB 3.1MB/s eta 0:00:01\r\u001b[K    9% |███                             | 92kB 3.4MB/s eta 0:00:01\r\u001b[K    10% |███▎                            | 102kB 2.8MB/s eta 0:00:01\r\u001b[K    11% |███▋                            | 112kB 2.8MB/s eta 0:00:01\r\u001b[K    12% |████                            | 122kB 4.0MB/s eta 0:00:01\r\u001b[K    13% |████▎                           | 133kB 4.0MB/s eta 0:00:01\r\u001b[K    14% |████▋                           | 143kB 7.4MB/s eta 0:00:01\r\u001b[K    15% |█████                           | 153kB 7.5MB/s eta 0:00:01\r\u001b[K    16% |█████▎                          | 163kB 8.3MB/s eta 0:00:01\r\u001b[K    17% |█████▋                          | 174kB 8.5MB/s eta 0:00:01\r\u001b[K    18% |██████                          | 184kB 8.6MB/s eta 0:00:01\r\u001b[K    19% |██████▎                         | 194kB 8.7MB/s eta 0:00:01\r\u001b[K    20% |██████▋                         | 204kB 7.8MB/s eta 0:00:01\r\u001b[K    21% |███████                         | 215kB 7.8MB/s eta 0:00:01\r\u001b[K    22% |███████▎                        | 225kB 7.8MB/s eta 0:00:01\r\u001b[K    23% |███████▋                        | 235kB 7.9MB/s eta 0:00:01\r\u001b[K    24% |████████                        | 245kB 8.0MB/s eta 0:00:01\r\u001b[K    25% |████████▎                       | 256kB 8.0MB/s eta 0:00:01\r\u001b[K    26% |████████▋                       | 266kB 7.8MB/s eta 0:00:01\r\u001b[K    27% |█████████                       | 276kB 7.8MB/s eta 0:00:01\r\u001b[K    29% |█████████▎                      | 286kB 7.9MB/s eta 0:00:01\r\u001b[K    30% |█████████▋                      | 296kB 7.8MB/s eta 0:00:01\r\u001b[K    31% |██████████                      | 307kB 48.3MB/s eta 0:00:01\r\u001b[K    32% |██████████▎                     | 317kB 53.1MB/s eta 0:00:01\r\u001b[K    33% |██████████▋                     | 327kB 52.8MB/s eta 0:00:01\r\u001b[K    34% |███████████                     | 337kB 54.1MB/s eta 0:00:01\r\u001b[K    35% |███████████▎                    | 348kB 47.2MB/s eta 0:00:01\r\u001b[K    36% |███████████▋                    | 358kB 46.8MB/s eta 0:00:01\r\u001b[K    37% |████████████                    | 368kB 54.2MB/s eta 0:00:01\r\u001b[K    38% |████████████▎                   | 378kB 54.6MB/s eta 0:00:01\r\u001b[K    39% |████████████▋                   | 389kB 55.7MB/s eta 0:00:01\r\u001b[K    40% |█████████████                   | 399kB 10.2MB/s eta 0:00:01\r\u001b[K    41% |█████████████▎                  | 409kB 10.0MB/s eta 0:00:01\r\u001b[K    42% |█████████████▋                  | 419kB 10.0MB/s eta 0:00:01\r\u001b[K    43% |██████████████                  | 430kB 9.8MB/s eta 0:00:01\r\u001b[K    44% |██████████████▎                 | 440kB 9.8MB/s eta 0:00:01\r\u001b[K    45% |██████████████▋                 | 450kB 9.9MB/s eta 0:00:01\r\u001b[K    46% |███████████████                 | 460kB 9.9MB/s eta 0:00:01\r\u001b[K    47% |███████████████▎                | 471kB 9.8MB/s eta 0:00:01\r\u001b[K    48% |███████████████▋                | 481kB 9.8MB/s eta 0:00:01\r\u001b[K    49% |████████████████                | 491kB 9.8MB/s eta 0:00:01\r\u001b[K    50% |████████████████▎               | 501kB 46.9MB/s eta 0:00:01\r\u001b[K    51% |████████████████▋               | 512kB 46.5MB/s eta 0:00:01\r\u001b[K    52% |█████████████████               | 522kB 46.1MB/s eta 0:00:01\r\u001b[K    53% |█████████████████▎              | 532kB 51.0MB/s eta 0:00:01\r\u001b[K    54% |█████████████████▋              | 542kB 51.1MB/s eta 0:00:01\r\u001b[K    55% |██████████████████              | 552kB 57.2MB/s eta 0:00:01\r\u001b[K    57% |██████████████████▎             | 563kB 57.8MB/s eta 0:00:01\r\u001b[K    58% |██████████████████▋             | 573kB 57.8MB/s eta 0:00:01\r\u001b[K    59% |███████████████████             | 583kB 56.3MB/s eta 0:00:01\r\u001b[K    60% |███████████████████▎            | 593kB 55.5MB/s eta 0:00:01\r\u001b[K    61% |███████████████████▋            | 604kB 55.5MB/s eta 0:00:01\r\u001b[K    62% |████████████████████            | 614kB 61.1MB/s eta 0:00:01\r\u001b[K    63% |████████████████████▎           | 624kB 9.7MB/s eta 0:00:01\r\u001b[K    64% |████████████████████▋           | 634kB 9.4MB/s eta 0:00:01\r\u001b[K    65% |█████████████████████           | 645kB 9.4MB/s eta 0:00:01\r\u001b[K    66% |█████████████████████▎          | 655kB 9.4MB/s eta 0:00:01\r\u001b[K    67% |█████████████████████▋          | 665kB 8.9MB/s eta 0:00:01\r\u001b[K    68% |██████████████████████          | 675kB 8.9MB/s eta 0:00:01\r\u001b[K    69% |██████████████████████▎         | 686kB 8.9MB/s eta 0:00:01\r\u001b[K    70% |██████████████████████▋         | 696kB 9.0MB/s eta 0:00:01\r\u001b[K    71% |███████████████████████         | 706kB 9.0MB/s eta 0:00:01\r\u001b[K    72% |███████████████████████▎        | 716kB 9.0MB/s eta 0:00:01\r\u001b[K    73% |███████████████████████▋        | 727kB 40.9MB/s eta 0:00:01\r\u001b[K    74% |████████████████████████        | 737kB 45.7MB/s eta 0:00:01\r\u001b[K    75% |████████████████████████▎       | 747kB 46.6MB/s eta 0:00:01\r\u001b[K    76% |████████████████████████▋       | 757kB 46.6MB/s eta 0:00:01\r\u001b[K    77% |████████████████████████▉       | 768kB 62.9MB/s eta 0:00:01\r\u001b[K    78% |█████████████████████████▏      | 778kB 62.5MB/s eta 0:00:01\r\u001b[K    79% |█████████████████████████▌      | 788kB 61.2MB/s eta 0:00:01\r\u001b[K    80% |█████████████████████████▉      | 798kB 60.8MB/s eta 0:00:01\r\u001b[K    81% |██████████████████████████▏     | 808kB 59.8MB/s eta 0:00:01\r\u001b[K    82% |██████████████████████████▌     | 819kB 59.5MB/s eta 0:00:01\r\u001b[K    83% |██████████████████████████▉     | 829kB 60.8MB/s eta 0:00:01\r\u001b[K    85% |███████████████████████████▏    | 839kB 59.9MB/s eta 0:00:01\r\u001b[K    86% |███████████████████████████▌    | 849kB 60.1MB/s eta 0:00:01\r\u001b[K    87% |███████████████████████████▉    | 860kB 51.4MB/s eta 0:00:01\r\u001b[K    88% |████████████████████████████▏   | 870kB 51.1MB/s eta 0:00:01\r\u001b[K    89% |████████████████████████████▌   | 880kB 52.5MB/s eta 0:00:01\r\u001b[K    90% |████████████████████████████▉   | 890kB 53.1MB/s eta 0:00:01\r\u001b[K    91% |█████████████████████████████▏  | 901kB 53.2MB/s eta 0:00:01\r\u001b[K    92% |█████████████████████████████▌  | 911kB 53.8MB/s eta 0:00:01\r\u001b[K    93% |█████████████████████████████▉  | 921kB 54.1MB/s eta 0:00:01\r\u001b[K    94% |██████████████████████████████▏ | 931kB 54.1MB/s eta 0:00:01\r\u001b[K    95% |██████████████████████████████▌ | 942kB 55.5MB/s eta 0:00:01\r\u001b[K    96% |██████████████████████████████▉ | 952kB 54.8MB/s eta 0:00:01\r\u001b[K    97% |███████████████████████████████▏| 962kB 65.8MB/s eta 0:00:01\r\u001b[K    98% |███████████████████████████████▌| 972kB 66.0MB/s eta 0:00:01\r\u001b[K    99% |███████████████████████████████▉| 983kB 64.6MB/s eta 0:00:01\r\u001b[K    100% |████████████████████████████████| 993kB 20.3MB/s \n",
            "\u001b[?25h  Building wheel for PyDrive (setup.py) ... \u001b[?25ldone\n",
            "\u001b[?25h"
          ],
          "name": "stdout"
        }
      ]
    },
    {
      "cell_type": "code",
      "metadata": {
        "id": "THv9MR4yPxT7",
        "colab_type": "code",
        "colab": {}
      },
      "source": [
        "link_to_train_values = 'https://drive.google.com/open?id=**********'\n",
        "link_to_train_labels = 'https://drive.google.com/open?id=**********'\n",
        "\n",
        "downloaded_train_v = drive.CreateFile({'id':'**********'}) \n",
        "downloaded_train_l = drive.CreateFile({'id':'**********'}) \n",
        "\n",
        "downloaded_train_v.GetContentFile('train_values.csv')\n",
        "downloaded_train_l.GetContentFile('train_labels.csv')\n",
        "\n",
        "# loading the dataset\n",
        "df_train_v = pd.read_csv(\"train_values.csv\")\n",
        "df_train_l = pd.read_csv(\"train_labels.csv\")"
      ],
      "execution_count": 0,
      "outputs": []
    },
    {
      "cell_type": "markdown",
      "metadata": {
        "id": "WVNcA8A-c0ps",
        "colab_type": "text"
      },
      "source": [
        "# Data Exploration"
      ]
    },
    {
      "cell_type": "code",
      "metadata": {
        "id": "TJmfrrIqRAvR",
        "colab_type": "code",
        "outputId": "0a22dbc5-1128-486a-94ce-0a2f3ba63b12",
        "colab": {
          "base_uri": "https://localhost:8080/",
          "height": 99
        }
      },
      "source": [
        "data = df_train_v.copy()\n",
        "data['labels'] = df_train_l['heart_disease_present']\n",
        "data.sample()"
      ],
      "execution_count": 0,
      "outputs": [
        {
          "output_type": "execute_result",
          "data": {
            "text/html": [
              "<div>\n",
              "<style scoped>\n",
              "    .dataframe tbody tr th:only-of-type {\n",
              "        vertical-align: middle;\n",
              "    }\n",
              "\n",
              "    .dataframe tbody tr th {\n",
              "        vertical-align: top;\n",
              "    }\n",
              "\n",
              "    .dataframe thead th {\n",
              "        text-align: right;\n",
              "    }\n",
              "</style>\n",
              "<table border=\"1\" class=\"dataframe\">\n",
              "  <thead>\n",
              "    <tr style=\"text-align: right;\">\n",
              "      <th></th>\n",
              "      <th>patient_id</th>\n",
              "      <th>slope_of_peak_exercise_st_segment</th>\n",
              "      <th>thal</th>\n",
              "      <th>resting_blood_pressure</th>\n",
              "      <th>chest_pain_type</th>\n",
              "      <th>num_major_vessels</th>\n",
              "      <th>fasting_blood_sugar_gt_120_mg_per_dl</th>\n",
              "      <th>resting_ekg_results</th>\n",
              "      <th>serum_cholesterol_mg_per_dl</th>\n",
              "      <th>oldpeak_eq_st_depression</th>\n",
              "      <th>sex</th>\n",
              "      <th>age</th>\n",
              "      <th>max_heart_rate_achieved</th>\n",
              "      <th>exercise_induced_angina</th>\n",
              "      <th>labels</th>\n",
              "    </tr>\n",
              "  </thead>\n",
              "  <tbody>\n",
              "    <tr>\n",
              "      <th>173</th>\n",
              "      <td>5o32oi</td>\n",
              "      <td>1</td>\n",
              "      <td>reversible_defect</td>\n",
              "      <td>140</td>\n",
              "      <td>4</td>\n",
              "      <td>0</td>\n",
              "      <td>0</td>\n",
              "      <td>0</td>\n",
              "      <td>299</td>\n",
              "      <td>1.6</td>\n",
              "      <td>1</td>\n",
              "      <td>51</td>\n",
              "      <td>173</td>\n",
              "      <td>1</td>\n",
              "      <td>1</td>\n",
              "    </tr>\n",
              "  </tbody>\n",
              "</table>\n",
              "</div>"
            ],
            "text/plain": [
              "    patient_id  slope_of_peak_exercise_st_segment               thal  \\\n",
              "173     5o32oi                                  1  reversible_defect   \n",
              "\n",
              "     resting_blood_pressure  chest_pain_type  num_major_vessels  \\\n",
              "173                     140                4                  0   \n",
              "\n",
              "     fasting_blood_sugar_gt_120_mg_per_dl  resting_ekg_results  \\\n",
              "173                                     0                    0   \n",
              "\n",
              "     serum_cholesterol_mg_per_dl  oldpeak_eq_st_depression  sex  age  \\\n",
              "173                          299                       1.6    1   51   \n",
              "\n",
              "     max_heart_rate_achieved  exercise_induced_angina  labels  \n",
              "173                      173                        1       1  "
            ]
          },
          "metadata": {
            "tags": []
          },
          "execution_count": 6
        }
      ]
    },
    {
      "cell_type": "code",
      "metadata": {
        "id": "Nsz5bKciRF5e",
        "colab_type": "code",
        "outputId": "1a6fb600-72ac-46ed-a29f-cfec507faf42",
        "colab": {
          "base_uri": "https://localhost:8080/",
          "height": 401
        }
      },
      "source": [
        "# Features\n",
        "print(data.info())\n",
        "# shape\n",
        "print(\"data shape : \", data.shape)"
      ],
      "execution_count": 0,
      "outputs": [
        {
          "output_type": "stream",
          "text": [
            "<class 'pandas.core.frame.DataFrame'>\n",
            "RangeIndex: 180 entries, 0 to 179\n",
            "Data columns (total 15 columns):\n",
            "patient_id                              180 non-null object\n",
            "slope_of_peak_exercise_st_segment       180 non-null int64\n",
            "thal                                    180 non-null object\n",
            "resting_blood_pressure                  180 non-null int64\n",
            "chest_pain_type                         180 non-null int64\n",
            "num_major_vessels                       180 non-null int64\n",
            "fasting_blood_sugar_gt_120_mg_per_dl    180 non-null int64\n",
            "resting_ekg_results                     180 non-null int64\n",
            "serum_cholesterol_mg_per_dl             180 non-null int64\n",
            "oldpeak_eq_st_depression                180 non-null float64\n",
            "sex                                     180 non-null int64\n",
            "age                                     180 non-null int64\n",
            "max_heart_rate_achieved                 180 non-null int64\n",
            "exercise_induced_angina                 180 non-null int64\n",
            "labels                                  180 non-null int64\n",
            "dtypes: float64(1), int64(12), object(2)\n",
            "memory usage: 21.2+ KB\n",
            "None\n",
            "data shape :  (180, 15)\n"
          ],
          "name": "stdout"
        }
      ]
    },
    {
      "cell_type": "code",
      "metadata": {
        "id": "UP0lueWVSniv",
        "colab_type": "code",
        "outputId": "ce70e4cd-d572-485f-8711-0ef12806508b",
        "colab": {
          "base_uri": "https://localhost:8080/",
          "height": 87
        }
      },
      "source": [
        "data['thal'].value_counts()"
      ],
      "execution_count": 0,
      "outputs": [
        {
          "output_type": "execute_result",
          "data": {
            "text/plain": [
              "normal               98\n",
              "reversible_defect    74\n",
              "fixed_defect          8\n",
              "Name: thal, dtype: int64"
            ]
          },
          "metadata": {
            "tags": []
          },
          "execution_count": 61
        }
      ]
    },
    {
      "cell_type": "code",
      "metadata": {
        "id": "396N2l-tTSk3",
        "colab_type": "code",
        "outputId": "1ec5311c-ef8a-4c61-84ff-9abcbe211229",
        "colab": {
          "base_uri": "https://localhost:8080/",
          "height": 122
        }
      },
      "source": [
        "data.columns"
      ],
      "execution_count": 0,
      "outputs": [
        {
          "output_type": "execute_result",
          "data": {
            "text/plain": [
              "Index(['patient_id', 'slope_of_peak_exercise_st_segment', 'thal',\n",
              "       'resting_blood_pressure', 'chest_pain_type', 'num_major_vessels',\n",
              "       'fasting_blood_sugar_gt_120_mg_per_dl', 'resting_ekg_results',\n",
              "       'serum_cholesterol_mg_per_dl', 'oldpeak_eq_st_depression', 'sex', 'age',\n",
              "       'max_heart_rate_achieved', 'exercise_induced_angina', 'labels'],\n",
              "      dtype='object')"
            ]
          },
          "metadata": {
            "tags": []
          },
          "execution_count": 17
        }
      ]
    },
    {
      "cell_type": "code",
      "metadata": {
        "id": "DK_0WKWUTTwS",
        "colab_type": "code",
        "outputId": "56b42e2e-f9c0-4ae2-b4c5-2b4ca8354eaf",
        "colab": {
          "base_uri": "https://localhost:8080/",
          "height": 316
        }
      },
      "source": [
        "data.describe()"
      ],
      "execution_count": 0,
      "outputs": [
        {
          "output_type": "execute_result",
          "data": {
            "text/html": [
              "<div>\n",
              "<style scoped>\n",
              "    .dataframe tbody tr th:only-of-type {\n",
              "        vertical-align: middle;\n",
              "    }\n",
              "\n",
              "    .dataframe tbody tr th {\n",
              "        vertical-align: top;\n",
              "    }\n",
              "\n",
              "    .dataframe thead th {\n",
              "        text-align: right;\n",
              "    }\n",
              "</style>\n",
              "<table border=\"1\" class=\"dataframe\">\n",
              "  <thead>\n",
              "    <tr style=\"text-align: right;\">\n",
              "      <th></th>\n",
              "      <th>slope_of_peak_exercise_st_segment</th>\n",
              "      <th>resting_blood_pressure</th>\n",
              "      <th>chest_pain_type</th>\n",
              "      <th>num_major_vessels</th>\n",
              "      <th>fasting_blood_sugar_gt_120_mg_per_dl</th>\n",
              "      <th>resting_ekg_results</th>\n",
              "      <th>serum_cholesterol_mg_per_dl</th>\n",
              "      <th>oldpeak_eq_st_depression</th>\n",
              "      <th>sex</th>\n",
              "      <th>age</th>\n",
              "      <th>max_heart_rate_achieved</th>\n",
              "      <th>exercise_induced_angina</th>\n",
              "      <th>labels</th>\n",
              "    </tr>\n",
              "  </thead>\n",
              "  <tbody>\n",
              "    <tr>\n",
              "      <th>count</th>\n",
              "      <td>180.000000</td>\n",
              "      <td>180.000000</td>\n",
              "      <td>180.000000</td>\n",
              "      <td>180.000000</td>\n",
              "      <td>180.000000</td>\n",
              "      <td>180.000000</td>\n",
              "      <td>180.000000</td>\n",
              "      <td>180.000000</td>\n",
              "      <td>180.000000</td>\n",
              "      <td>180.000000</td>\n",
              "      <td>180.000000</td>\n",
              "      <td>180.000000</td>\n",
              "      <td>180.000000</td>\n",
              "    </tr>\n",
              "    <tr>\n",
              "      <th>mean</th>\n",
              "      <td>1.550000</td>\n",
              "      <td>131.311111</td>\n",
              "      <td>3.155556</td>\n",
              "      <td>0.694444</td>\n",
              "      <td>0.161111</td>\n",
              "      <td>1.050000</td>\n",
              "      <td>249.211111</td>\n",
              "      <td>1.010000</td>\n",
              "      <td>0.688889</td>\n",
              "      <td>54.811111</td>\n",
              "      <td>149.483333</td>\n",
              "      <td>0.316667</td>\n",
              "      <td>0.444444</td>\n",
              "    </tr>\n",
              "    <tr>\n",
              "      <th>std</th>\n",
              "      <td>0.618838</td>\n",
              "      <td>17.010443</td>\n",
              "      <td>0.938454</td>\n",
              "      <td>0.969347</td>\n",
              "      <td>0.368659</td>\n",
              "      <td>0.998742</td>\n",
              "      <td>52.717969</td>\n",
              "      <td>1.121357</td>\n",
              "      <td>0.464239</td>\n",
              "      <td>9.334737</td>\n",
              "      <td>22.063513</td>\n",
              "      <td>0.466474</td>\n",
              "      <td>0.498290</td>\n",
              "    </tr>\n",
              "    <tr>\n",
              "      <th>min</th>\n",
              "      <td>1.000000</td>\n",
              "      <td>94.000000</td>\n",
              "      <td>1.000000</td>\n",
              "      <td>0.000000</td>\n",
              "      <td>0.000000</td>\n",
              "      <td>0.000000</td>\n",
              "      <td>126.000000</td>\n",
              "      <td>0.000000</td>\n",
              "      <td>0.000000</td>\n",
              "      <td>29.000000</td>\n",
              "      <td>96.000000</td>\n",
              "      <td>0.000000</td>\n",
              "      <td>0.000000</td>\n",
              "    </tr>\n",
              "    <tr>\n",
              "      <th>25%</th>\n",
              "      <td>1.000000</td>\n",
              "      <td>120.000000</td>\n",
              "      <td>3.000000</td>\n",
              "      <td>0.000000</td>\n",
              "      <td>0.000000</td>\n",
              "      <td>0.000000</td>\n",
              "      <td>213.750000</td>\n",
              "      <td>0.000000</td>\n",
              "      <td>0.000000</td>\n",
              "      <td>48.000000</td>\n",
              "      <td>132.000000</td>\n",
              "      <td>0.000000</td>\n",
              "      <td>0.000000</td>\n",
              "    </tr>\n",
              "    <tr>\n",
              "      <th>50%</th>\n",
              "      <td>1.000000</td>\n",
              "      <td>130.000000</td>\n",
              "      <td>3.000000</td>\n",
              "      <td>0.000000</td>\n",
              "      <td>0.000000</td>\n",
              "      <td>2.000000</td>\n",
              "      <td>245.500000</td>\n",
              "      <td>0.800000</td>\n",
              "      <td>1.000000</td>\n",
              "      <td>55.000000</td>\n",
              "      <td>152.000000</td>\n",
              "      <td>0.000000</td>\n",
              "      <td>0.000000</td>\n",
              "    </tr>\n",
              "    <tr>\n",
              "      <th>75%</th>\n",
              "      <td>2.000000</td>\n",
              "      <td>140.000000</td>\n",
              "      <td>4.000000</td>\n",
              "      <td>1.000000</td>\n",
              "      <td>0.000000</td>\n",
              "      <td>2.000000</td>\n",
              "      <td>281.250000</td>\n",
              "      <td>1.600000</td>\n",
              "      <td>1.000000</td>\n",
              "      <td>62.000000</td>\n",
              "      <td>166.250000</td>\n",
              "      <td>1.000000</td>\n",
              "      <td>1.000000</td>\n",
              "    </tr>\n",
              "    <tr>\n",
              "      <th>max</th>\n",
              "      <td>3.000000</td>\n",
              "      <td>180.000000</td>\n",
              "      <td>4.000000</td>\n",
              "      <td>3.000000</td>\n",
              "      <td>1.000000</td>\n",
              "      <td>2.000000</td>\n",
              "      <td>564.000000</td>\n",
              "      <td>6.200000</td>\n",
              "      <td>1.000000</td>\n",
              "      <td>77.000000</td>\n",
              "      <td>202.000000</td>\n",
              "      <td>1.000000</td>\n",
              "      <td>1.000000</td>\n",
              "    </tr>\n",
              "  </tbody>\n",
              "</table>\n",
              "</div>"
            ],
            "text/plain": [
              "       slope_of_peak_exercise_st_segment  resting_blood_pressure  \\\n",
              "count                         180.000000              180.000000   \n",
              "mean                            1.550000              131.311111   \n",
              "std                             0.618838               17.010443   \n",
              "min                             1.000000               94.000000   \n",
              "25%                             1.000000              120.000000   \n",
              "50%                             1.000000              130.000000   \n",
              "75%                             2.000000              140.000000   \n",
              "max                             3.000000              180.000000   \n",
              "\n",
              "       chest_pain_type  num_major_vessels  \\\n",
              "count       180.000000         180.000000   \n",
              "mean          3.155556           0.694444   \n",
              "std           0.938454           0.969347   \n",
              "min           1.000000           0.000000   \n",
              "25%           3.000000           0.000000   \n",
              "50%           3.000000           0.000000   \n",
              "75%           4.000000           1.000000   \n",
              "max           4.000000           3.000000   \n",
              "\n",
              "       fasting_blood_sugar_gt_120_mg_per_dl  resting_ekg_results  \\\n",
              "count                            180.000000           180.000000   \n",
              "mean                               0.161111             1.050000   \n",
              "std                                0.368659             0.998742   \n",
              "min                                0.000000             0.000000   \n",
              "25%                                0.000000             0.000000   \n",
              "50%                                0.000000             2.000000   \n",
              "75%                                0.000000             2.000000   \n",
              "max                                1.000000             2.000000   \n",
              "\n",
              "       serum_cholesterol_mg_per_dl  oldpeak_eq_st_depression         sex  \\\n",
              "count                   180.000000                180.000000  180.000000   \n",
              "mean                    249.211111                  1.010000    0.688889   \n",
              "std                      52.717969                  1.121357    0.464239   \n",
              "min                     126.000000                  0.000000    0.000000   \n",
              "25%                     213.750000                  0.000000    0.000000   \n",
              "50%                     245.500000                  0.800000    1.000000   \n",
              "75%                     281.250000                  1.600000    1.000000   \n",
              "max                     564.000000                  6.200000    1.000000   \n",
              "\n",
              "              age  max_heart_rate_achieved  exercise_induced_angina  \\\n",
              "count  180.000000               180.000000               180.000000   \n",
              "mean    54.811111               149.483333                 0.316667   \n",
              "std      9.334737                22.063513                 0.466474   \n",
              "min     29.000000                96.000000                 0.000000   \n",
              "25%     48.000000               132.000000                 0.000000   \n",
              "50%     55.000000               152.000000                 0.000000   \n",
              "75%     62.000000               166.250000                 1.000000   \n",
              "max     77.000000               202.000000                 1.000000   \n",
              "\n",
              "           labels  \n",
              "count  180.000000  \n",
              "mean     0.444444  \n",
              "std      0.498290  \n",
              "min      0.000000  \n",
              "25%      0.000000  \n",
              "50%      0.000000  \n",
              "75%      1.000000  \n",
              "max      1.000000  "
            ]
          },
          "metadata": {
            "tags": []
          },
          "execution_count": 41
        }
      ]
    },
    {
      "cell_type": "code",
      "metadata": {
        "id": "TXzDL3AdUWJc",
        "colab_type": "code",
        "outputId": "98841d47-2458-4bea-d312-75d664d5f474",
        "colab": {
          "base_uri": "https://localhost:8080/",
          "height": 296
        }
      },
      "source": [
        "#How many NA elements in every column\n",
        "data.isnull().sum()"
      ],
      "execution_count": 0,
      "outputs": [
        {
          "output_type": "execute_result",
          "data": {
            "text/plain": [
              "patient_id                              0\n",
              "slope_of_peak_exercise_st_segment       0\n",
              "thal                                    0\n",
              "resting_blood_pressure                  0\n",
              "chest_pain_type                         0\n",
              "num_major_vessels                       0\n",
              "fasting_blood_sugar_gt_120_mg_per_dl    0\n",
              "resting_ekg_results                     0\n",
              "serum_cholesterol_mg_per_dl             0\n",
              "oldpeak_eq_st_depression                0\n",
              "sex                                     0\n",
              "age                                     0\n",
              "max_heart_rate_achieved                 0\n",
              "exercise_induced_angina                 0\n",
              "labels                                  0\n",
              "dtype: int64"
            ]
          },
          "metadata": {
            "tags": []
          },
          "execution_count": 42
        }
      ]
    },
    {
      "cell_type": "code",
      "metadata": {
        "id": "XE3N530NXDSi",
        "colab_type": "code",
        "outputId": "690a1964-aeb7-49a8-bb8f-56aa42991534",
        "colab": {
          "base_uri": "https://localhost:8080/",
          "height": 265
        }
      },
      "source": [
        "x=data[\"resting_blood_pressure\"]\n",
        "y=data[\"labels\"]\n",
        "plt.scatter(x, y)\n",
        "#plt.legend()\n",
        "plt.show()"
      ],
      "execution_count": 0,
      "outputs": [
        {
          "output_type": "display_data",
          "data": {
            "image/png": "[encoded data removed]",
            "text/plain": [
              "<Figure size 432x288 with 1 Axes>"
            ]
          },
          "metadata": {
            "tags": []
          }
        }
      ]
    },
    {
      "cell_type": "code",
      "metadata": {
        "id": "m2oKS8hrXXSX",
        "colab_type": "code",
        "outputId": "be91bd6f-0677-4321-b506-42d125fd6c56",
        "colab": {
          "base_uri": "https://localhost:8080/",
          "height": 349
        }
      },
      "source": [
        "sns.distplot(data['resting_blood_pressure'])"
      ],
      "execution_count": 0,
      "outputs": [
        {
          "output_type": "stream",
          "text": [
            "/usr/local/lib/python3.6/dist-packages/matplotlib/axes/_axes.py:6521: MatplotlibDeprecationWarning: \n",
            "The 'normed' kwarg was deprecated in Matplotlib 2.1 and will be removed in 3.1. Use 'density' instead.\n",
            "  alternative=\"'density'\", removal=\"3.1\")\n"
          ],
          "name": "stderr"
        },
        {
          "output_type": "execute_result",
          "data": {
            "text/plain": [
              "<matplotlib.axes._subplots.AxesSubplot at 0x7f2fc6baae48>"
            ]
          },
          "metadata": {
            "tags": []
          },
          "execution_count": 47
        },
        {
          "output_type": "display_data",
          "data": {
            "image/png": "[encoded data removed]",
            "text/plain": [
              "<Figure size 432x288 with 1 Axes>"
            ]
          },
          "metadata": {
            "tags": []
          }
        }
      ]
    },
    {
      "cell_type": "code",
      "metadata": {
        "id": "HumwZT3QYHdk",
        "colab_type": "code",
        "outputId": "2b66d12f-f04e-4a4b-ea5d-9cd9d2bc4d9e",
        "colab": {
          "base_uri": "https://localhost:8080/",
          "height": 706
        }
      },
      "source": [
        "# correlation matrix\n",
        "corrmat = data.corr()\n",
        "f, ax = plt.subplots(figsize=(12, 9))\n",
        "sns.heatmap(corrmat, vmax=.8, square=True);"
      ],
      "execution_count": 0,
      "outputs": [
        {
          "output_type": "display_data",
          "data": {
            "image/png": "[encoded data removed]",
            "text/plain": [
              "<Figure size 864x648 with 2 Axes>"
            ]
          },
          "metadata": {
            "tags": []
          }
        }
      ]
    },
    {
      "cell_type": "code",
      "metadata": {
        "id": "YHc6xyuCY4E8",
        "colab_type": "code",
        "outputId": "f0c151fa-842f-47e8-cdfd-7b7fa243908e",
        "colab": {
          "base_uri": "https://localhost:8080/",
          "height": 338
        }
      },
      "source": [
        "var = 'slope_of_peak_exercise_st_segment'\n",
        "data_1 = pd.concat([data['oldpeak_eq_st_depression'], data[var]], axis=1)\n",
        "data_1.plot.scatter(x=var, y='oldpeak_eq_st_depression', ylim=(-1,7))"
      ],
      "execution_count": 0,
      "outputs": [
        {
          "output_type": "stream",
          "text": [
            "'c' argument looks like a single numeric RGB or RGBA sequence, which should be avoided as value-mapping will have precedence in case its length matches with 'x' & 'y'.  Please use a 2-D array with a single row if you really want to specify the same RGB or RGBA value for all points.\n"
          ],
          "name": "stderr"
        },
        {
          "output_type": "execute_result",
          "data": {
            "text/plain": [
              "<matplotlib.axes._subplots.AxesSubplot at 0x7f2fc564b6d8>"
            ]
          },
          "metadata": {
            "tags": []
          },
          "execution_count": 54
        },
        {
          "output_type": "display_data",
          "data": {
            "image/png": "[encoded data removed]",
            "text/plain": [
              "<Figure size 432x288 with 1 Axes>"
            ]
          },
          "metadata": {
            "tags": []
          }
        }
      ]
    },
    {
      "cell_type": "markdown",
      "metadata": {
        "id": "cLYfK6moc5Ha",
        "colab_type": "text"
      },
      "source": [
        "# Training"
      ]
    },
    {
      "cell_type": "code",
      "metadata": {
        "id": "uBbkX96HZp2X",
        "colab_type": "code",
        "colab": {}
      },
      "source": [
        "X_train, X_test, y_train, y_test = train_test_split(df_train_v, df_train_l, test_size=0.2)"
      ],
      "execution_count": 0,
      "outputs": []
    },
    {
      "cell_type": "code",
      "metadata": {
        "id": "wVrUqI6HgbAq",
        "colab_type": "code",
        "colab": {}
      },
      "source": [
        "X_train['thal'] = X_train['thal'].replace({'normal':0,'reversible_defect':1, 'fixed_defect':2})\n",
        "X_test['thal'] = X_test['thal'].replace({'normal':0,'reversible_defect':1, 'fixed_defect':2})"
      ],
      "execution_count": 0,
      "outputs": []
    },
    {
      "cell_type": "code",
      "metadata": {
        "id": "8nzfxBFKlLiU",
        "colab_type": "code",
        "colab": {}
      },
      "source": [
        "X_train = X_train.drop(\"patient_id\", axis=1)\n",
        "X_test = X_test.drop(\"patient_id\", axis=1)\n",
        "y_train = y_train.drop(\"patient_id\", axis=1)\n",
        "y_test = y_test.drop(\"patient_id\", axis=1)"
      ],
      "execution_count": 0,
      "outputs": []
    },
    {
      "cell_type": "code",
      "metadata": {
        "id": "rGMfkh4vjwmD",
        "colab_type": "code",
        "outputId": "9fa807ac-4f2d-4b99-d767-c9b9370ebfc6",
        "colab": {
          "base_uri": "https://localhost:8080/",
          "height": 223
        }
      },
      "source": [
        "X_train.head()"
      ],
      "execution_count": 0,
      "outputs": [
        {
          "output_type": "execute_result",
          "data": {
            "text/html": [
              "<div>\n",
              "<style scoped>\n",
              "    .dataframe tbody tr th:only-of-type {\n",
              "        vertical-align: middle;\n",
              "    }\n",
              "\n",
              "    .dataframe tbody tr th {\n",
              "        vertical-align: top;\n",
              "    }\n",
              "\n",
              "    .dataframe thead th {\n",
              "        text-align: right;\n",
              "    }\n",
              "</style>\n",
              "<table border=\"1\" class=\"dataframe\">\n",
              "  <thead>\n",
              "    <tr style=\"text-align: right;\">\n",
              "      <th></th>\n",
              "      <th>slope_of_peak_exercise_st_segment</th>\n",
              "      <th>thal</th>\n",
              "      <th>resting_blood_pressure</th>\n",
              "      <th>chest_pain_type</th>\n",
              "      <th>num_major_vessels</th>\n",
              "      <th>fasting_blood_sugar_gt_120_mg_per_dl</th>\n",
              "      <th>resting_ekg_results</th>\n",
              "      <th>serum_cholesterol_mg_per_dl</th>\n",
              "      <th>oldpeak_eq_st_depression</th>\n",
              "      <th>sex</th>\n",
              "      <th>age</th>\n",
              "      <th>max_heart_rate_achieved</th>\n",
              "      <th>exercise_induced_angina</th>\n",
              "    </tr>\n",
              "  </thead>\n",
              "  <tbody>\n",
              "    <tr>\n",
              "      <th>89</th>\n",
              "      <td>1</td>\n",
              "      <td>0</td>\n",
              "      <td>130</td>\n",
              "      <td>2</td>\n",
              "      <td>0</td>\n",
              "      <td>0</td>\n",
              "      <td>0</td>\n",
              "      <td>262</td>\n",
              "      <td>0.0</td>\n",
              "      <td>1</td>\n",
              "      <td>55</td>\n",
              "      <td>155</td>\n",
              "      <td>0</td>\n",
              "    </tr>\n",
              "    <tr>\n",
              "      <th>147</th>\n",
              "      <td>2</td>\n",
              "      <td>0</td>\n",
              "      <td>134</td>\n",
              "      <td>1</td>\n",
              "      <td>2</td>\n",
              "      <td>0</td>\n",
              "      <td>0</td>\n",
              "      <td>234</td>\n",
              "      <td>2.6</td>\n",
              "      <td>1</td>\n",
              "      <td>61</td>\n",
              "      <td>145</td>\n",
              "      <td>0</td>\n",
              "    </tr>\n",
              "    <tr>\n",
              "      <th>11</th>\n",
              "      <td>1</td>\n",
              "      <td>0</td>\n",
              "      <td>140</td>\n",
              "      <td>4</td>\n",
              "      <td>0</td>\n",
              "      <td>0</td>\n",
              "      <td>0</td>\n",
              "      <td>226</td>\n",
              "      <td>0.0</td>\n",
              "      <td>1</td>\n",
              "      <td>42</td>\n",
              "      <td>178</td>\n",
              "      <td>0</td>\n",
              "    </tr>\n",
              "    <tr>\n",
              "      <th>128</th>\n",
              "      <td>3</td>\n",
              "      <td>1</td>\n",
              "      <td>145</td>\n",
              "      <td>4</td>\n",
              "      <td>0</td>\n",
              "      <td>0</td>\n",
              "      <td>0</td>\n",
              "      <td>174</td>\n",
              "      <td>2.6</td>\n",
              "      <td>1</td>\n",
              "      <td>70</td>\n",
              "      <td>125</td>\n",
              "      <td>1</td>\n",
              "    </tr>\n",
              "    <tr>\n",
              "      <th>115</th>\n",
              "      <td>1</td>\n",
              "      <td>0</td>\n",
              "      <td>140</td>\n",
              "      <td>3</td>\n",
              "      <td>0</td>\n",
              "      <td>1</td>\n",
              "      <td>2</td>\n",
              "      <td>211</td>\n",
              "      <td>0.0</td>\n",
              "      <td>1</td>\n",
              "      <td>58</td>\n",
              "      <td>165</td>\n",
              "      <td>0</td>\n",
              "    </tr>\n",
              "  </tbody>\n",
              "</table>\n",
              "</div>"
            ],
            "text/plain": [
              "     slope_of_peak_exercise_st_segment  thal  resting_blood_pressure  \\\n",
              "89                                   1     0                     130   \n",
              "147                                  2     0                     134   \n",
              "11                                   1     0                     140   \n",
              "128                                  3     1                     145   \n",
              "115                                  1     0                     140   \n",
              "\n",
              "     chest_pain_type  num_major_vessels  fasting_blood_sugar_gt_120_mg_per_dl  \\\n",
              "89                 2                  0                                     0   \n",
              "147                1                  2                                     0   \n",
              "11                 4                  0                                     0   \n",
              "128                4                  0                                     0   \n",
              "115                3                  0                                     1   \n",
              "\n",
              "     resting_ekg_results  serum_cholesterol_mg_per_dl  \\\n",
              "89                     0                          262   \n",
              "147                    0                          234   \n",
              "11                     0                          226   \n",
              "128                    0                          174   \n",
              "115                    2                          211   \n",
              "\n",
              "     oldpeak_eq_st_depression  sex  age  max_heart_rate_achieved  \\\n",
              "89                        0.0    1   55                      155   \n",
              "147                       2.6    1   61                      145   \n",
              "11                        0.0    1   42                      178   \n",
              "128                       2.6    1   70                      125   \n",
              "115                       0.0    1   58                      165   \n",
              "\n",
              "     exercise_induced_angina  \n",
              "89                         0  \n",
              "147                        0  \n",
              "11                         0  \n",
              "128                        1  \n",
              "115                        0  "
            ]
          },
          "metadata": {
            "tags": []
          },
          "execution_count": 111
        }
      ]
    },
    {
      "cell_type": "code",
      "metadata": {
        "id": "NDLhkpDpai6i",
        "colab_type": "code",
        "colab": {}
      },
      "source": [
        "from sklearn.svm import SVC\n",
        "classifier = SVC(kernel = 'linear')\n",
        "classifier.fit(X_train, y_train)"
      ],
      "execution_count": 0,
      "outputs": []
    },
    {
      "cell_type": "code",
      "metadata": {
        "id": "x0DNcCEyfrbz",
        "colab_type": "code",
        "colab": {}
      },
      "source": [
        "# Predicting the test set results\n",
        "\n",
        "Y_Pred = classifier.predict(X_test)"
      ],
      "execution_count": 0,
      "outputs": []
    },
    {
      "cell_type": "code",
      "metadata": {
        "id": "5W1g5BAYkjAN",
        "colab_type": "code",
        "colab": {}
      },
      "source": [
        "# Making the Confusion Matrix \n",
        "\n",
        "from sklearn.metrics import confusion_matrix\n",
        "cm = confusion_matrix(y_test, Y_Pred)"
      ],
      "execution_count": 0,
      "outputs": []
    },
    {
      "cell_type": "code",
      "metadata": {
        "id": "j8ap_wJ0ljsA",
        "colab_type": "code",
        "outputId": "0f779d96-6ae0-499d-e972-552b580ff82c",
        "colab": {
          "base_uri": "https://localhost:8080/",
          "height": 52
        }
      },
      "source": [
        "cm"
      ],
      "execution_count": 0,
      "outputs": [
        {
          "output_type": "execute_result",
          "data": {
            "text/plain": [
              "array([[17,  5],\n",
              "       [ 3, 11]])"
            ]
          },
          "metadata": {
            "tags": []
          },
          "execution_count": 115
        }
      ]
    },
    {
      "cell_type": "code",
      "metadata": {
        "id": "Jx5j8TWpl0ju",
        "colab_type": "code",
        "outputId": "a36164b1-f6c6-4ed3-8da3-e80122e92408",
        "colab": {
          "base_uri": "https://localhost:8080/",
          "height": 34
        }
      },
      "source": [
        "acc = (cm[1,0]+cm[0,1])*100 / (cm[0,0]+cm[1,1]) \n",
        "print(\"Error: \", acc , \"%\")\n"
      ],
      "execution_count": 0,
      "outputs": [
        {
          "output_type": "stream",
          "text": [
            "Error:  28.571428571428573 %\n"
          ],
          "name": "stdout"
        }
      ]
    },
    {
      "cell_type": "code",
      "metadata": {
        "id": "yRQiigeOoQBR",
        "colab_type": "code",
        "colab": {}
      },
      "source": [
        ""
      ],
      "execution_count": 0,
      "outputs": []
    }
  ]
}